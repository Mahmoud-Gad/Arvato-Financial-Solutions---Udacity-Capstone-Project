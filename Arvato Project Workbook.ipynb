{
 "cells": [
  {
   "cell_type": "markdown",
   "metadata": {},
   "source": [
    "# Capstone Project: Create a Customer Segmentation Report for Arvato Financial Services\n",
    "\n",
    "In this project, you will analyze demographics data for customers of a mail-order sales company in Germany, comparing it against demographics information for the general population. You'll use unsupervised learning techniques to perform customer segmentation, identifying the parts of the population that best describe the core customer base of the company. Then, you'll apply what you've learned on a third dataset with demographics information for targets of a marketing campaign for the company, and use a model to predict which individuals are most likely to convert into becoming customers for the company. The data that you will use has been provided by our partners at Bertelsmann Arvato Analytics, and represents a real-life data science task.\n",
    "\n",
    "\n",
    "## Project Overview\n",
    "\n",
    "A mail order company that sells organic products in Germany is facing difficulty in determining which segments of the general population would most likely become customers should they be the targets of advertising by the company. The company can’t simply reach out to everyone in Germany as a potential customer as that would require a great expense and would consume a lot of the company’s resources.\n",
    "\n",
    "Arvato Financial Solutions, a Bertelsmann subsidiary is trying to figure out which people in Germany are most likely new customers for their client, the mail order company. This project finds a solution to improve efficiency in the customer acquisition process. Using Machine learning and data analysis, we can identify potential customers and that would allow the company to do targeted advertising.\n",
    "\n",
    "Targeted advertising is based on the traits and behavioral patterns of different people. These traits can be demographic such as economic status, age or generation, the level of education, employment and income level. Or they can be psychographic such as personality, attitude, lifestyle and interests.\n",
    "\n",
    "Traditional targeted advertising worked by manually creating a set of rules that influenced whether an individual would become a target for advertising or not. AI however allows us to find relationships between certain attributes and potential customers that we didn’t know existed, and sometimes it might not be directly interpretable. Today, many brands are beginning to use artificial intelligence to identify and segment audiences allowing them to identify potential customers. In this project, we will be using machine learning techniques to achieve that goal.\n",
    "\n",
    "\n",
    "\n",
    "## Project Workflow\n",
    "\n",
    "1. Clean the data by dropping outliers in terms of missing data, remove unwanted features and re-engineering mixed features.\n",
    "2. Impute missing data with appropriate values that represent the data and apply feature scaling\n",
    "3. Reduce the size of the data using a dimensionality reduction technique\n",
    "4. use unsupervised learning (K-means clustering) to perform customer segmentation, identifying the parts of the population that best describe the core customer base of the company.\n",
    "5. apply what we've learned on a third dataset with demographics information for targets of a marketing campaign for the company.\n",
    "6. account for class imbalance if it exists and compare the results of several different supervised learning algorithms to predict which individuals are most likely to convert into becoming customers for the company.\n",
    "\n",
    "\n",
    "## Solution Statement\n",
    "\n",
    "we will use unsupervised learning techniques to analyze the data and find relationships between demographics information of the general population and demographics information of the company's customers. We will then apply what we have learned on a third dataset to try and predict which individuals are more likely to become customers for the company.\n",
    "\n",
    "\n",
    "## Model Evaluation\n",
    "\n",
    "for the model evaluation, we must consider both recall and precision. usually improving precision comes at the cost of recall and vice versa, which is why we are going to use ROC (Receiver Operating Characteristics) AUC (Area Under the Curve) as our metric. ROC AUC measures the overall performance of the classifier. it is also the metric used to determine the performance of a classifier in the kaggle competition."
   ]
  },
  {
   "cell_type": "code",
   "execution_count": 1,
   "metadata": {},
   "outputs": [],
   "source": [
    "# import libraries here; add more as necessary\n",
    "import numpy as np\n",
    "import pandas as pd\n",
    "import matplotlib.pyplot as plt\n",
    "import seaborn as sns\n",
    "\n",
    "from sklearn.preprocessing import OneHotEncoder, StandardScaler, MinMaxScaler\n",
    "from sklearn.impute import SimpleImputer\n",
    "\n",
    "from sklearn.decomposition import PCA\n",
    "from sklearn.cluster import KMeans\n",
    "from sklearn.model_selection import train_test_split, RandomizedSearchCV\n",
    "from sklearn.metrics import recall_score, roc_auc_score, make_scorer\n",
    "\n",
    "from sklearn.ensemble import RandomForestClassifier, AdaBoostClassifier\n",
    "from sklearn.utils import shuffle\n",
    "from imblearn.over_sampling import RandomOverSampler\n",
    "\n",
    "\n",
    "import torch\n",
    "from torch import nn\n",
    "from torch import optim\n",
    "import torch.nn.functional as F\n",
    "from torch.utils.data import Dataset, DataLoader\n",
    "\n",
    "from pytorch_model import BinaryClassifier\n",
    "from model_utils import train_model, visualize_results\n",
    "\n",
    "# magic word for producing visualizations in notebook\n",
    "%matplotlib inline"
   ]
  },
  {
   "cell_type": "markdown",
   "metadata": {},
   "source": [
    "## Data Exploration\n",
    "\n",
    "There are four data files associated with this project:\n",
    "\n",
    "- `Udacity_AZDIAS_052018.csv`: Demographics data for the general population of Germany; 891 211 persons (rows) x 366 features (columns).\n",
    "- `Udacity_CUSTOMERS_052018.csv`: Demographics data for customers of a mail-order company; 191 652 persons (rows) x 369 features (columns).\n",
    "- `Udacity_MAILOUT_052018_TRAIN.csv`: Demographics data for individuals who were targets of a marketing campaign; 42 982 persons (rows) x 367 (columns).\n",
    "- `Udacity_MAILOUT_052018_TEST.csv`: Demographics data for individuals who were targets of a marketing campaign; 42 833 persons (rows) x 366 (columns).\n",
    "\n",
    "Each row of the demographics files represents a single person, but also includes information outside of individuals, including information about their household, building, and neighborhood. Use the information from the first two files to figure out how customers (\"CUSTOMERS\") are similar to or differ from the general population at large (\"AZDIAS\"), then use your analysis to make predictions on the other two files (\"MAILOUT\"), predicting which recipients are most likely to become a customer for the mail-order company.\n",
    "\n",
    "The \"CUSTOMERS\" file contains three extra columns ('CUSTOMER_GROUP', 'ONLINE_PURCHASE', and 'PRODUCT_GROUP'), which provide broad information about the customers depicted in the file. The original \"MAILOUT\" file included one additional column, \"RESPONSE\", which indicated whether or not each recipient became a customer of the company. For the \"TRAIN\" subset, this column has been retained, but in the \"TEST\" subset it has been removed; it is against that withheld column that your final predictions will be assessed in the Kaggle competition.\n",
    "\n",
    "Otherwise, all of the remaining columns are the same between the three data files. For more information about the columns depicted in the files, you can refer to two Excel spreadsheets provided in the workspace. [One of them](./DIAS Information Levels - Attributes 2017.xlsx) is a top-level list of attributes and descriptions, organized by informational category. [The other](./DIAS Attributes - Values 2017.xlsx) is a detailed mapping of data values for each feature in alphabetical order.\n",
    "\n",
    "In the below cell, we've provided some initial code to load in the first two datasets. Note for all of the `.csv` data files in this project that they're semicolon (`;`) delimited, so an additional argument in the [`read_csv()`](https://pandas.pydata.org/pandas-docs/stable/generated/pandas.read_csv.html) call has been included to read in the data properly. Also, considering the size of the datasets, it may take some time for them to load completely.\n",
    "\n",
    "You'll notice when the data is loaded in that a warning message will immediately pop up. Before you really start digging into the modeling and analysis, you're going to need to perform some cleaning. Take some time to browse the structure of the data and look over the informational spreadsheets to understand the data values. Make some decisions on which features to keep, which features to drop, and if any revisions need to be made on data formats. It'll be a good idea to create a function with pre-processing steps, since you'll need to clean all of the datasets before you work with them."
   ]
  },
  {
   "cell_type": "code",
   "execution_count": 2,
   "metadata": {},
   "outputs": [
    {
     "name": "stderr",
     "output_type": "stream",
     "text": [
      "C:\\Users\\Mahmo\\Anaconda3\\lib\\site-packages\\IPython\\core\\interactiveshell.py:3063: DtypeWarning: Columns (19,20) have mixed types.Specify dtype option on import or set low_memory=False.\n",
      "  interactivity=interactivity, compiler=compiler, result=result)\n"
     ]
    }
   ],
   "source": [
    "# load in the data\n",
    "azdias = pd.read_csv('azdias.csv')\n",
    "azdias.drop('Unnamed: 0', axis = 1, inplace = True)\n",
    "customers = pd.read_csv('customers.csv')\n",
    "customers.drop('Unnamed: 0', axis = 1, inplace = True)"
   ]
  },
  {
   "cell_type": "code",
   "execution_count": 3,
   "metadata": {},
   "outputs": [],
   "source": [
    "azdias_original = azdias.copy(deep = True)"
   ]
  },
  {
   "cell_type": "code",
   "execution_count": 4,
   "metadata": {},
   "outputs": [
    {
     "name": "stdout",
     "output_type": "stream",
     "text": [
      "(891221, 366)\n",
      "(191652, 369)\n"
     ]
    }
   ],
   "source": [
    "print(azdias.shape)\n",
    "print(customers.shape)"
   ]
  },
  {
   "cell_type": "code",
   "execution_count": 5,
   "metadata": {},
   "outputs": [
    {
     "data": {
      "text/html": [
       "<div>\n",
       "<style scoped>\n",
       "    .dataframe tbody tr th:only-of-type {\n",
       "        vertical-align: middle;\n",
       "    }\n",
       "\n",
       "    .dataframe tbody tr th {\n",
       "        vertical-align: top;\n",
       "    }\n",
       "\n",
       "    .dataframe thead th {\n",
       "        text-align: right;\n",
       "    }\n",
       "</style>\n",
       "<table border=\"1\" class=\"dataframe\">\n",
       "  <thead>\n",
       "    <tr style=\"text-align: right;\">\n",
       "      <th></th>\n",
       "      <th>LNR</th>\n",
       "      <th>AGER_TYP</th>\n",
       "      <th>AKT_DAT_KL</th>\n",
       "      <th>ALTER_HH</th>\n",
       "      <th>ALTER_KIND1</th>\n",
       "      <th>ALTER_KIND2</th>\n",
       "      <th>ALTER_KIND3</th>\n",
       "      <th>ALTER_KIND4</th>\n",
       "      <th>ALTERSKATEGORIE_FEIN</th>\n",
       "      <th>ANZ_HAUSHALTE_AKTIV</th>\n",
       "      <th>...</th>\n",
       "      <th>VHN</th>\n",
       "      <th>VK_DHT4A</th>\n",
       "      <th>VK_DISTANZ</th>\n",
       "      <th>VK_ZG11</th>\n",
       "      <th>W_KEIT_KIND_HH</th>\n",
       "      <th>WOHNDAUER_2008</th>\n",
       "      <th>WOHNLAGE</th>\n",
       "      <th>ZABEOTYP</th>\n",
       "      <th>ANREDE_KZ</th>\n",
       "      <th>ALTERSKATEGORIE_GROB</th>\n",
       "    </tr>\n",
       "  </thead>\n",
       "  <tbody>\n",
       "    <tr>\n",
       "      <th>0</th>\n",
       "      <td>910215</td>\n",
       "      <td>-1</td>\n",
       "      <td>NaN</td>\n",
       "      <td>NaN</td>\n",
       "      <td>NaN</td>\n",
       "      <td>NaN</td>\n",
       "      <td>NaN</td>\n",
       "      <td>NaN</td>\n",
       "      <td>NaN</td>\n",
       "      <td>NaN</td>\n",
       "      <td>...</td>\n",
       "      <td>NaN</td>\n",
       "      <td>NaN</td>\n",
       "      <td>NaN</td>\n",
       "      <td>NaN</td>\n",
       "      <td>NaN</td>\n",
       "      <td>NaN</td>\n",
       "      <td>NaN</td>\n",
       "      <td>3</td>\n",
       "      <td>1</td>\n",
       "      <td>2</td>\n",
       "    </tr>\n",
       "    <tr>\n",
       "      <th>1</th>\n",
       "      <td>910220</td>\n",
       "      <td>-1</td>\n",
       "      <td>9.0</td>\n",
       "      <td>0.0</td>\n",
       "      <td>NaN</td>\n",
       "      <td>NaN</td>\n",
       "      <td>NaN</td>\n",
       "      <td>NaN</td>\n",
       "      <td>21.0</td>\n",
       "      <td>11.0</td>\n",
       "      <td>...</td>\n",
       "      <td>4.0</td>\n",
       "      <td>8.0</td>\n",
       "      <td>11.0</td>\n",
       "      <td>10.0</td>\n",
       "      <td>3.0</td>\n",
       "      <td>9.0</td>\n",
       "      <td>4.0</td>\n",
       "      <td>5</td>\n",
       "      <td>2</td>\n",
       "      <td>1</td>\n",
       "    </tr>\n",
       "    <tr>\n",
       "      <th>2</th>\n",
       "      <td>910225</td>\n",
       "      <td>-1</td>\n",
       "      <td>9.0</td>\n",
       "      <td>17.0</td>\n",
       "      <td>NaN</td>\n",
       "      <td>NaN</td>\n",
       "      <td>NaN</td>\n",
       "      <td>NaN</td>\n",
       "      <td>17.0</td>\n",
       "      <td>10.0</td>\n",
       "      <td>...</td>\n",
       "      <td>2.0</td>\n",
       "      <td>9.0</td>\n",
       "      <td>9.0</td>\n",
       "      <td>6.0</td>\n",
       "      <td>3.0</td>\n",
       "      <td>9.0</td>\n",
       "      <td>2.0</td>\n",
       "      <td>5</td>\n",
       "      <td>2</td>\n",
       "      <td>3</td>\n",
       "    </tr>\n",
       "    <tr>\n",
       "      <th>3</th>\n",
       "      <td>910226</td>\n",
       "      <td>2</td>\n",
       "      <td>1.0</td>\n",
       "      <td>13.0</td>\n",
       "      <td>NaN</td>\n",
       "      <td>NaN</td>\n",
       "      <td>NaN</td>\n",
       "      <td>NaN</td>\n",
       "      <td>13.0</td>\n",
       "      <td>1.0</td>\n",
       "      <td>...</td>\n",
       "      <td>0.0</td>\n",
       "      <td>7.0</td>\n",
       "      <td>10.0</td>\n",
       "      <td>11.0</td>\n",
       "      <td>NaN</td>\n",
       "      <td>9.0</td>\n",
       "      <td>7.0</td>\n",
       "      <td>3</td>\n",
       "      <td>2</td>\n",
       "      <td>4</td>\n",
       "    </tr>\n",
       "    <tr>\n",
       "      <th>4</th>\n",
       "      <td>910241</td>\n",
       "      <td>-1</td>\n",
       "      <td>1.0</td>\n",
       "      <td>20.0</td>\n",
       "      <td>NaN</td>\n",
       "      <td>NaN</td>\n",
       "      <td>NaN</td>\n",
       "      <td>NaN</td>\n",
       "      <td>14.0</td>\n",
       "      <td>3.0</td>\n",
       "      <td>...</td>\n",
       "      <td>2.0</td>\n",
       "      <td>3.0</td>\n",
       "      <td>5.0</td>\n",
       "      <td>4.0</td>\n",
       "      <td>2.0</td>\n",
       "      <td>9.0</td>\n",
       "      <td>3.0</td>\n",
       "      <td>4</td>\n",
       "      <td>1</td>\n",
       "      <td>3</td>\n",
       "    </tr>\n",
       "  </tbody>\n",
       "</table>\n",
       "<p>5 rows × 366 columns</p>\n",
       "</div>"
      ],
      "text/plain": [
       "      LNR  AGER_TYP  AKT_DAT_KL  ALTER_HH  ALTER_KIND1  ALTER_KIND2  \\\n",
       "0  910215        -1         NaN       NaN          NaN          NaN   \n",
       "1  910220        -1         9.0       0.0          NaN          NaN   \n",
       "2  910225        -1         9.0      17.0          NaN          NaN   \n",
       "3  910226         2         1.0      13.0          NaN          NaN   \n",
       "4  910241        -1         1.0      20.0          NaN          NaN   \n",
       "\n",
       "   ALTER_KIND3  ALTER_KIND4  ALTERSKATEGORIE_FEIN  ANZ_HAUSHALTE_AKTIV  ...  \\\n",
       "0          NaN          NaN                   NaN                  NaN  ...   \n",
       "1          NaN          NaN                  21.0                 11.0  ...   \n",
       "2          NaN          NaN                  17.0                 10.0  ...   \n",
       "3          NaN          NaN                  13.0                  1.0  ...   \n",
       "4          NaN          NaN                  14.0                  3.0  ...   \n",
       "\n",
       "   VHN  VK_DHT4A  VK_DISTANZ  VK_ZG11  W_KEIT_KIND_HH  WOHNDAUER_2008  \\\n",
       "0  NaN       NaN         NaN      NaN             NaN             NaN   \n",
       "1  4.0       8.0        11.0     10.0             3.0             9.0   \n",
       "2  2.0       9.0         9.0      6.0             3.0             9.0   \n",
       "3  0.0       7.0        10.0     11.0             NaN             9.0   \n",
       "4  2.0       3.0         5.0      4.0             2.0             9.0   \n",
       "\n",
       "   WOHNLAGE ZABEOTYP ANREDE_KZ ALTERSKATEGORIE_GROB  \n",
       "0       NaN        3         1                    2  \n",
       "1       4.0        5         2                    1  \n",
       "2       2.0        5         2                    3  \n",
       "3       7.0        3         2                    4  \n",
       "4       3.0        4         1                    3  \n",
       "\n",
       "[5 rows x 366 columns]"
      ]
     },
     "execution_count": 5,
     "metadata": {},
     "output_type": "execute_result"
    }
   ],
   "source": [
    "azdias.head(5)"
   ]
  },
  {
   "cell_type": "markdown",
   "metadata": {},
   "source": [
    "By reading the Attributes file we are able to find values that indicate missing data for each column in the dataset, we can then reference these values to replace missing values with np.nan"
   ]
  },
  {
   "cell_type": "code",
   "execution_count": 7,
   "metadata": {},
   "outputs": [],
   "source": [
    "feat_info = pd.read_excel('DIAS Attributes - Values 2017.xlsx', header = 1)\n",
    "feat_info.drop('Unnamed: 0', axis = 1, inplace = True)\n",
    "feat_info.dropna(inplace = True)\n",
    "feat_info = feat_info[feat_info['Meaning'].str.contains('unknown') | feat_info['Meaning'].str.contains('no')]"
   ]
  },
  {
   "cell_type": "markdown",
   "metadata": {},
   "source": [
    "## 1: Data Preprocessing\n",
    "\n",
    "### 1.1: Assess Missing Data\n",
    "\n",
    "The DIAS Attributes file contains a summary of properties for each demographics data column. I will use this file along with the DIAS information levels file to help in cleaning decisions during this stage of the project. First of all, I will assess the demographics data in terms of missing data.\n",
    "\n",
    "#### 1.1.1: Convert Missing Value Codes to NaNs\n",
    "The third column of the feature attributes summary (loaded in above as `feat_info`) documents the codes from the data dictionary that indicate missing or unknown data. The file encodes this as either a single integer if there is only one indication for missing values, or a string containing several missing value indicators. I will need to do a little bit of parsing to make use of it to identify and convert data that matches a 'missing' or 'unknown' value code into a numpy NaN value."
   ]
  },
  {
   "cell_type": "code",
   "execution_count": 8,
   "metadata": {},
   "outputs": [
    {
     "name": "stdout",
     "output_type": "stream",
     "text": [
      "(279, 4)\n"
     ]
    },
    {
     "data": {
      "text/html": [
       "<div>\n",
       "<style scoped>\n",
       "    .dataframe tbody tr th:only-of-type {\n",
       "        vertical-align: middle;\n",
       "    }\n",
       "\n",
       "    .dataframe tbody tr th {\n",
       "        vertical-align: top;\n",
       "    }\n",
       "\n",
       "    .dataframe thead th {\n",
       "        text-align: right;\n",
       "    }\n",
       "</style>\n",
       "<table border=\"1\" class=\"dataframe\">\n",
       "  <thead>\n",
       "    <tr style=\"text-align: right;\">\n",
       "      <th></th>\n",
       "      <th>Attribute</th>\n",
       "      <th>Description</th>\n",
       "      <th>Value</th>\n",
       "      <th>Meaning</th>\n",
       "    </tr>\n",
       "  </thead>\n",
       "  <tbody>\n",
       "    <tr>\n",
       "      <th>0</th>\n",
       "      <td>AGER_TYP</td>\n",
       "      <td>best-ager typology</td>\n",
       "      <td>-1</td>\n",
       "      <td>unknown</td>\n",
       "    </tr>\n",
       "    <tr>\n",
       "      <th>5</th>\n",
       "      <td>ALTERSKATEGORIE_GROB</td>\n",
       "      <td>age classification through prename analysis</td>\n",
       "      <td>-1, 0</td>\n",
       "      <td>unknown</td>\n",
       "    </tr>\n",
       "    <tr>\n",
       "      <th>11</th>\n",
       "      <td>ALTER_HH</td>\n",
       "      <td>main age within the household</td>\n",
       "      <td>0</td>\n",
       "      <td>unknown / no main age detectable</td>\n",
       "    </tr>\n",
       "    <tr>\n",
       "      <th>33</th>\n",
       "      <td>ANREDE_KZ</td>\n",
       "      <td>gender</td>\n",
       "      <td>-1, 0</td>\n",
       "      <td>unknown</td>\n",
       "    </tr>\n",
       "    <tr>\n",
       "      <th>40</th>\n",
       "      <td>BALLRAUM</td>\n",
       "      <td>distance to next urban centre</td>\n",
       "      <td>-1</td>\n",
       "      <td>unknown</td>\n",
       "    </tr>\n",
       "    <tr>\n",
       "      <th>48</th>\n",
       "      <td>BIP_FLAG</td>\n",
       "      <td>business-flag indicating companies in the buil...</td>\n",
       "      <td>-1</td>\n",
       "      <td>unknown</td>\n",
       "    </tr>\n",
       "    <tr>\n",
       "      <th>51</th>\n",
       "      <td>CAMEO_DEUG_2015</td>\n",
       "      <td>CAMEO classification 2015 - Uppergroup</td>\n",
       "      <td>-1</td>\n",
       "      <td>unknown</td>\n",
       "    </tr>\n",
       "    <tr>\n",
       "      <th>105</th>\n",
       "      <td>CAMEO_DEUINTL_2015</td>\n",
       "      <td>CAMEO classification 2015 - international typo...</td>\n",
       "      <td>-1</td>\n",
       "      <td>unknown</td>\n",
       "    </tr>\n",
       "    <tr>\n",
       "      <th>131</th>\n",
       "      <td>CJT_GESAMTTYP</td>\n",
       "      <td>customer journey typology</td>\n",
       "      <td>0</td>\n",
       "      <td>unknown</td>\n",
       "    </tr>\n",
       "    <tr>\n",
       "      <th>138</th>\n",
       "      <td>D19_BANKEN_ANZ_12</td>\n",
       "      <td>transaction activity BANKS in the last 12 months</td>\n",
       "      <td>0</td>\n",
       "      <td>no transactions known</td>\n",
       "    </tr>\n",
       "    <tr>\n",
       "      <th>145</th>\n",
       "      <td>D19_BANKEN_ANZ_24</td>\n",
       "      <td>transaction activity BANKS in the last 24 months</td>\n",
       "      <td>0</td>\n",
       "      <td>no transactions known</td>\n",
       "    </tr>\n",
       "    <tr>\n",
       "      <th>162</th>\n",
       "      <td>D19_BANKEN_DIREKT_RZ</td>\n",
       "      <td>transactional activity based on the product gr...</td>\n",
       "      <td>0</td>\n",
       "      <td>no transaction known</td>\n",
       "    </tr>\n",
       "    <tr>\n",
       "      <th>170</th>\n",
       "      <td>D19_BANKEN_GROSS_RZ</td>\n",
       "      <td>transactional activity based on the product gr...</td>\n",
       "      <td>0</td>\n",
       "      <td>no transaction known</td>\n",
       "    </tr>\n",
       "    <tr>\n",
       "      <th>178</th>\n",
       "      <td>D19_BANKEN_LOKAL_RZ</td>\n",
       "      <td>transactional activity based on the product gr...</td>\n",
       "      <td>0</td>\n",
       "      <td>no transaction known</td>\n",
       "    </tr>\n",
       "    <tr>\n",
       "      <th>206</th>\n",
       "      <td>D19_BANKEN_ONLINE_QUOTE_12</td>\n",
       "      <td>amount of online transactions within all trans...</td>\n",
       "      <td>0</td>\n",
       "      <td>no Online-transactions within the last 12 months</td>\n",
       "    </tr>\n",
       "    <tr>\n",
       "      <th>217</th>\n",
       "      <td>D19_BANKEN_REST_RZ</td>\n",
       "      <td>transactional activity based on the product gr...</td>\n",
       "      <td>0</td>\n",
       "      <td>no transaction known</td>\n",
       "    </tr>\n",
       "    <tr>\n",
       "      <th>225</th>\n",
       "      <td>D19_BEKLEIDUNG_GEH_RZ</td>\n",
       "      <td>transactional activity based on the product gr...</td>\n",
       "      <td>0</td>\n",
       "      <td>no transaction known</td>\n",
       "    </tr>\n",
       "    <tr>\n",
       "      <th>233</th>\n",
       "      <td>D19_BEKLEIDUNG_REST_RZ</td>\n",
       "      <td>transactional activity based on the product gr...</td>\n",
       "      <td>0</td>\n",
       "      <td>no transaction known</td>\n",
       "    </tr>\n",
       "    <tr>\n",
       "      <th>241</th>\n",
       "      <td>D19_BILDUNG_RZ</td>\n",
       "      <td>transactional activity based on the product gr...</td>\n",
       "      <td>0</td>\n",
       "      <td>no transaction known</td>\n",
       "    </tr>\n",
       "    <tr>\n",
       "      <th>249</th>\n",
       "      <td>D19_BIO_OEKO_RZ</td>\n",
       "      <td>transactional activity based on the product gr...</td>\n",
       "      <td>0</td>\n",
       "      <td>no transaction known</td>\n",
       "    </tr>\n",
       "  </tbody>\n",
       "</table>\n",
       "</div>"
      ],
      "text/plain": [
       "                      Attribute  \\\n",
       "0                      AGER_TYP   \n",
       "5          ALTERSKATEGORIE_GROB   \n",
       "11                     ALTER_HH   \n",
       "33                    ANREDE_KZ   \n",
       "40                     BALLRAUM   \n",
       "48                     BIP_FLAG   \n",
       "51              CAMEO_DEUG_2015   \n",
       "105          CAMEO_DEUINTL_2015   \n",
       "131               CJT_GESAMTTYP   \n",
       "138           D19_BANKEN_ANZ_12   \n",
       "145           D19_BANKEN_ANZ_24   \n",
       "162        D19_BANKEN_DIREKT_RZ   \n",
       "170         D19_BANKEN_GROSS_RZ   \n",
       "178         D19_BANKEN_LOKAL_RZ   \n",
       "206  D19_BANKEN_ONLINE_QUOTE_12   \n",
       "217          D19_BANKEN_REST_RZ   \n",
       "225       D19_BEKLEIDUNG_GEH_RZ   \n",
       "233      D19_BEKLEIDUNG_REST_RZ   \n",
       "241              D19_BILDUNG_RZ   \n",
       "249             D19_BIO_OEKO_RZ   \n",
       "\n",
       "                                           Description  Value  \\\n",
       "0                                   best-ager typology     -1   \n",
       "5         age classification through prename analysis   -1, 0   \n",
       "11                       main age within the household      0   \n",
       "33                                              gender  -1, 0   \n",
       "40                      distance to next urban centre      -1   \n",
       "48   business-flag indicating companies in the buil...     -1   \n",
       "51              CAMEO classification 2015 - Uppergroup     -1   \n",
       "105  CAMEO classification 2015 - international typo...     -1   \n",
       "131                          customer journey typology      0   \n",
       "138   transaction activity BANKS in the last 12 months      0   \n",
       "145   transaction activity BANKS in the last 24 months      0   \n",
       "162  transactional activity based on the product gr...      0   \n",
       "170  transactional activity based on the product gr...      0   \n",
       "178  transactional activity based on the product gr...      0   \n",
       "206  amount of online transactions within all trans...      0   \n",
       "217  transactional activity based on the product gr...      0   \n",
       "225  transactional activity based on the product gr...      0   \n",
       "233  transactional activity based on the product gr...      0   \n",
       "241  transactional activity based on the product gr...      0   \n",
       "249  transactional activity based on the product gr...      0   \n",
       "\n",
       "                                              Meaning  \n",
       "0                                             unknown  \n",
       "5                                             unknown  \n",
       "11                   unknown / no main age detectable  \n",
       "33                                            unknown  \n",
       "40                                            unknown  \n",
       "48                                            unknown  \n",
       "51                                            unknown  \n",
       "105                                           unknown  \n",
       "131                                           unknown  \n",
       "138                             no transactions known  \n",
       "145                             no transactions known  \n",
       "162                              no transaction known  \n",
       "170                              no transaction known  \n",
       "178                              no transaction known  \n",
       "206  no Online-transactions within the last 12 months  \n",
       "217                              no transaction known  \n",
       "225                              no transaction known  \n",
       "233                              no transaction known  \n",
       "241                              no transaction known  \n",
       "249                              no transaction known  "
      ]
     },
     "execution_count": 8,
     "metadata": {},
     "output_type": "execute_result"
    }
   ],
   "source": [
    "print(feat_info.shape)\n",
    "feat_info.head(20)"
   ]
  },
  {
   "cell_type": "code",
   "execution_count": 9,
   "metadata": {},
   "outputs": [],
   "source": [
    "def find_missings(data):\n",
    "    print('known missings: ', data.isna().sum().sum())\n",
    "    for attribute, missing_value_indicators in list(zip(feat_info.Attribute, feat_info.Value)):\n",
    "        if attribute not in azdias.columns:\n",
    "            continue\n",
    "        if(type(missing_value_indicators) == str):\n",
    "            missing_value_indicators = missing_value_indicators.split(',')\n",
    "        elif(type(missing_value_indicators == int)):\n",
    "            missing_value_indicators = [missing_value_indicators]\n",
    "        else:\n",
    "            print('unexpected value')\n",
    "        \n",
    "        for i in range(len(missing_value_indicators)):\n",
    "            try:\n",
    "                missing_value_indicators[i] = int(missing_value_indicators[i])\n",
    "            except ValueError:\n",
    "                pass  \n",
    "\n",
    "        for ind in missing_value_indicators:\n",
    "            data[attribute].replace(ind, np.nan, inplace = True)\n",
    "\n",
    "    print('total missings: ', data.isna().sum().sum())"
   ]
  },
  {
   "cell_type": "code",
   "execution_count": 10,
   "metadata": {},
   "outputs": [
    {
     "name": "stdout",
     "output_type": "stream",
     "text": [
      "known missings:  33492923\n",
      "total missings:  45737847\n"
     ]
    },
    {
     "data": {
      "text/html": [
       "<div>\n",
       "<style scoped>\n",
       "    .dataframe tbody tr th:only-of-type {\n",
       "        vertical-align: middle;\n",
       "    }\n",
       "\n",
       "    .dataframe tbody tr th {\n",
       "        vertical-align: top;\n",
       "    }\n",
       "\n",
       "    .dataframe thead th {\n",
       "        text-align: right;\n",
       "    }\n",
       "</style>\n",
       "<table border=\"1\" class=\"dataframe\">\n",
       "  <thead>\n",
       "    <tr style=\"text-align: right;\">\n",
       "      <th></th>\n",
       "      <th>LNR</th>\n",
       "      <th>AGER_TYP</th>\n",
       "      <th>AKT_DAT_KL</th>\n",
       "      <th>ALTER_HH</th>\n",
       "      <th>ALTER_KIND1</th>\n",
       "      <th>ALTER_KIND2</th>\n",
       "      <th>ALTER_KIND3</th>\n",
       "      <th>ALTER_KIND4</th>\n",
       "      <th>ALTERSKATEGORIE_FEIN</th>\n",
       "      <th>ANZ_HAUSHALTE_AKTIV</th>\n",
       "      <th>...</th>\n",
       "      <th>VHN</th>\n",
       "      <th>VK_DHT4A</th>\n",
       "      <th>VK_DISTANZ</th>\n",
       "      <th>VK_ZG11</th>\n",
       "      <th>W_KEIT_KIND_HH</th>\n",
       "      <th>WOHNDAUER_2008</th>\n",
       "      <th>WOHNLAGE</th>\n",
       "      <th>ZABEOTYP</th>\n",
       "      <th>ANREDE_KZ</th>\n",
       "      <th>ALTERSKATEGORIE_GROB</th>\n",
       "    </tr>\n",
       "  </thead>\n",
       "  <tbody>\n",
       "    <tr>\n",
       "      <th>0</th>\n",
       "      <td>910215</td>\n",
       "      <td>NaN</td>\n",
       "      <td>NaN</td>\n",
       "      <td>NaN</td>\n",
       "      <td>NaN</td>\n",
       "      <td>NaN</td>\n",
       "      <td>NaN</td>\n",
       "      <td>NaN</td>\n",
       "      <td>NaN</td>\n",
       "      <td>NaN</td>\n",
       "      <td>...</td>\n",
       "      <td>NaN</td>\n",
       "      <td>NaN</td>\n",
       "      <td>NaN</td>\n",
       "      <td>NaN</td>\n",
       "      <td>NaN</td>\n",
       "      <td>NaN</td>\n",
       "      <td>NaN</td>\n",
       "      <td>3</td>\n",
       "      <td>1</td>\n",
       "      <td>2</td>\n",
       "    </tr>\n",
       "    <tr>\n",
       "      <th>1</th>\n",
       "      <td>910220</td>\n",
       "      <td>NaN</td>\n",
       "      <td>9.0</td>\n",
       "      <td>NaN</td>\n",
       "      <td>NaN</td>\n",
       "      <td>NaN</td>\n",
       "      <td>NaN</td>\n",
       "      <td>NaN</td>\n",
       "      <td>21.0</td>\n",
       "      <td>11.0</td>\n",
       "      <td>...</td>\n",
       "      <td>4.0</td>\n",
       "      <td>8.0</td>\n",
       "      <td>11.0</td>\n",
       "      <td>10.0</td>\n",
       "      <td>3.0</td>\n",
       "      <td>9.0</td>\n",
       "      <td>4.0</td>\n",
       "      <td>5</td>\n",
       "      <td>2</td>\n",
       "      <td>1</td>\n",
       "    </tr>\n",
       "    <tr>\n",
       "      <th>2</th>\n",
       "      <td>910225</td>\n",
       "      <td>NaN</td>\n",
       "      <td>9.0</td>\n",
       "      <td>17.0</td>\n",
       "      <td>NaN</td>\n",
       "      <td>NaN</td>\n",
       "      <td>NaN</td>\n",
       "      <td>NaN</td>\n",
       "      <td>17.0</td>\n",
       "      <td>10.0</td>\n",
       "      <td>...</td>\n",
       "      <td>2.0</td>\n",
       "      <td>9.0</td>\n",
       "      <td>9.0</td>\n",
       "      <td>6.0</td>\n",
       "      <td>3.0</td>\n",
       "      <td>9.0</td>\n",
       "      <td>2.0</td>\n",
       "      <td>5</td>\n",
       "      <td>2</td>\n",
       "      <td>3</td>\n",
       "    </tr>\n",
       "    <tr>\n",
       "      <th>3</th>\n",
       "      <td>910226</td>\n",
       "      <td>2.0</td>\n",
       "      <td>1.0</td>\n",
       "      <td>13.0</td>\n",
       "      <td>NaN</td>\n",
       "      <td>NaN</td>\n",
       "      <td>NaN</td>\n",
       "      <td>NaN</td>\n",
       "      <td>13.0</td>\n",
       "      <td>1.0</td>\n",
       "      <td>...</td>\n",
       "      <td>0.0</td>\n",
       "      <td>7.0</td>\n",
       "      <td>10.0</td>\n",
       "      <td>11.0</td>\n",
       "      <td>NaN</td>\n",
       "      <td>9.0</td>\n",
       "      <td>7.0</td>\n",
       "      <td>3</td>\n",
       "      <td>2</td>\n",
       "      <td>4</td>\n",
       "    </tr>\n",
       "    <tr>\n",
       "      <th>4</th>\n",
       "      <td>910241</td>\n",
       "      <td>NaN</td>\n",
       "      <td>1.0</td>\n",
       "      <td>20.0</td>\n",
       "      <td>NaN</td>\n",
       "      <td>NaN</td>\n",
       "      <td>NaN</td>\n",
       "      <td>NaN</td>\n",
       "      <td>14.0</td>\n",
       "      <td>3.0</td>\n",
       "      <td>...</td>\n",
       "      <td>2.0</td>\n",
       "      <td>3.0</td>\n",
       "      <td>5.0</td>\n",
       "      <td>4.0</td>\n",
       "      <td>2.0</td>\n",
       "      <td>9.0</td>\n",
       "      <td>3.0</td>\n",
       "      <td>4</td>\n",
       "      <td>1</td>\n",
       "      <td>3</td>\n",
       "    </tr>\n",
       "  </tbody>\n",
       "</table>\n",
       "<p>5 rows × 366 columns</p>\n",
       "</div>"
      ],
      "text/plain": [
       "      LNR  AGER_TYP  AKT_DAT_KL  ALTER_HH  ALTER_KIND1  ALTER_KIND2  \\\n",
       "0  910215       NaN         NaN       NaN          NaN          NaN   \n",
       "1  910220       NaN         9.0       NaN          NaN          NaN   \n",
       "2  910225       NaN         9.0      17.0          NaN          NaN   \n",
       "3  910226       2.0         1.0      13.0          NaN          NaN   \n",
       "4  910241       NaN         1.0      20.0          NaN          NaN   \n",
       "\n",
       "   ALTER_KIND3  ALTER_KIND4  ALTERSKATEGORIE_FEIN  ANZ_HAUSHALTE_AKTIV  ...  \\\n",
       "0          NaN          NaN                   NaN                  NaN  ...   \n",
       "1          NaN          NaN                  21.0                 11.0  ...   \n",
       "2          NaN          NaN                  17.0                 10.0  ...   \n",
       "3          NaN          NaN                  13.0                  1.0  ...   \n",
       "4          NaN          NaN                  14.0                  3.0  ...   \n",
       "\n",
       "   VHN  VK_DHT4A  VK_DISTANZ  VK_ZG11  W_KEIT_KIND_HH  WOHNDAUER_2008  \\\n",
       "0  NaN       NaN         NaN      NaN             NaN             NaN   \n",
       "1  4.0       8.0        11.0     10.0             3.0             9.0   \n",
       "2  2.0       9.0         9.0      6.0             3.0             9.0   \n",
       "3  0.0       7.0        10.0     11.0             NaN             9.0   \n",
       "4  2.0       3.0         5.0      4.0             2.0             9.0   \n",
       "\n",
       "   WOHNLAGE ZABEOTYP ANREDE_KZ ALTERSKATEGORIE_GROB  \n",
       "0       NaN        3         1                    2  \n",
       "1       4.0        5         2                    1  \n",
       "2       2.0        5         2                    3  \n",
       "3       7.0        3         2                    4  \n",
       "4       3.0        4         1                    3  \n",
       "\n",
       "[5 rows x 366 columns]"
      ]
     },
     "execution_count": 10,
     "metadata": {},
     "output_type": "execute_result"
    }
   ],
   "source": [
    "find_missings(azdias)\n",
    "azdias.head(5)"
   ]
  },
  {
   "cell_type": "markdown",
   "metadata": {},
   "source": [
    "#### 1.1.2: Assess Missing Data in Each Column\n",
    "\n",
    "There are a few columns that are outliers in terms of the proportion of values that are missing.I will use Matplotlib to visualize the distribution of missing value counts to find these columns."
   ]
  },
  {
   "cell_type": "code",
   "execution_count": 11,
   "metadata": {},
   "outputs": [],
   "source": [
    "def count_missings(data, axis):\n",
    "    return data.isna().sum(axis = axis)"
   ]
  },
  {
   "cell_type": "code",
   "execution_count": 12,
   "metadata": {},
   "outputs": [],
   "source": [
    "column_missings = count_missings(azdias, 0)\n",
    "lst = list(range(len(column_missings)))"
   ]
  },
  {
   "cell_type": "code",
   "execution_count": 13,
   "metadata": {},
   "outputs": [
    {
     "data": {
      "image/png": "[encoded data removed]",
      "text/plain": [
       "<Figure size 432x288 with 1 Axes>"
      ]
     },
     "metadata": {
      "needs_background": "light"
     },
     "output_type": "display_data"
    },
    {
     "data": {
      "text/plain": [
       "<Figure size 698.4x482.4 with 0 Axes>"
      ]
     },
     "metadata": {},
     "output_type": "display_data"
    }
   ],
   "source": [
    "# Investigating patterns in the amount of missing data in each column.\n",
    "plt.hist(lst, bins = 366, weights = column_missings)\n",
    "plt.xticks(range(0,370,25))\n",
    "plt.yticks(range(0,2000000,200000))\n",
    "plt.xlabel('columns', fontsize = 18)\n",
    "plt.ylabel('missing data', fontsize = 18)\n",
    "plt.title('missing data per column')\n",
    "horiz_line_data = np.array([160000 for i in lst])\n",
    "plt.plot(horiz_line_data, 'r--')\n",
    "plt.figure(figsize=(9.7,6.7))\n",
    "plt.show()"
   ]
  },
  {
   "cell_type": "code",
   "execution_count": 14,
   "metadata": {},
   "outputs": [
    {
     "name": "stdout",
     "output_type": "stream",
     "text": [
      "dropped columns: \n",
      "\n",
      "AGER_TYP  contains  677503  missing values\n",
      "ALTER_HH  contains  310267  missing values\n",
      "ALTER_KIND1  contains  810163  missing values\n",
      "ALTER_KIND2  contains  861722  missing values\n",
      "ALTER_KIND3  contains  885051  missing values\n",
      "ALTER_KIND4  contains  890016  missing values\n",
      "ALTERSKATEGORIE_FEIN  contains  262947  missing values\n",
      "D19_BANKEN_ANZ_12  contains  831734  missing values\n",
      "D19_BANKEN_ANZ_24  contains  794100  missing values\n",
      "D19_BANKEN_ONLINE_QUOTE_12  contains  845987  missing values\n",
      "D19_GESAMT_ANZ_12  contains  584797  missing values\n",
      "D19_GESAMT_ANZ_24  contains  505303  missing values\n",
      "D19_GESAMT_ONLINE_QUOTE_12  contains  650188  missing values\n",
      "D19_KONSUMTYP  contains  257113  missing values\n",
      "D19_LETZTER_KAUF_BRANCHE  contains  257113  missing values\n",
      "D19_LOTTO  contains  257113  missing values\n",
      "D19_SOZIALES  contains  257113  missing values\n",
      "D19_TELKO_ANZ_12  contains  857990  missing values\n",
      "D19_TELKO_ANZ_24  contains  826208  missing values\n",
      "D19_TELKO_ONLINE_QUOTE_12  contains  257113  missing values\n",
      "D19_VERSAND_ANZ_12  contains  637972  missing values\n",
      "D19_VERSAND_ANZ_24  contains  563818  missing values\n",
      "D19_VERSAND_ONLINE_QUOTE_12  contains  674480  missing values\n",
      "D19_VERSI_ANZ_12  contains  821289  missing values\n",
      "D19_VERSI_ANZ_24  contains  777037  missing values\n",
      "D19_VERSI_ONLINE_QUOTE_12  contains  257113  missing values\n",
      "EXTSEL992  contains  654153  missing values\n",
      "KBA05_BAUMAX  contains  476524  missing values\n",
      "KK_KUNDENTYP  contains  584612  missing values\n",
      "TITEL_KZ  contains  889061  missing values\n"
     ]
    }
   ],
   "source": [
    "original_columns_list = list(azdias.columns)\n",
    "drop_list_indices = []\n",
    "print('dropped columns: \\n')\n",
    "for ind,missings in enumerate(column_missings):\n",
    "    if missings>160000:\n",
    "        print(azdias.columns[ind],' contains ', missings, ' missing values')\n",
    "        drop_list_indices.append(ind)\n",
    "\n",
    "dropped_columns_names = list(azdias.columns[drop_list_indices])\n",
    "high_missing_columns = dropped_columns_names.copy()\n",
    "azdias.drop(azdias.columns[drop_list_indices], axis = 1, inplace = True)"
   ]
  },
  {
   "cell_type": "code",
   "execution_count": 15,
   "metadata": {},
   "outputs": [
    {
     "name": "stdout",
     "output_type": "stream",
     "text": [
      "(891221, 336)\n",
      "(279, 4)\n"
     ]
    }
   ],
   "source": [
    "print(azdias.shape)\n",
    "print(feat_info.shape)"
   ]
  },
  {
   "cell_type": "markdown",
   "metadata": {},
   "source": [
    "#### Discussion 1.1.2: Assess Missing Data in Each Column\n",
    "\n",
    "As shown in the histrogram above, columns that have missing values exceeding the 160,000 threshold are clear outliers and were removed from the dataset\n",
    "\n",
    "some of the removed columns were not described in the Attributes or the information levels files.\n",
    "information about the removed columns include:\n",
    "\n",
    "1. Best-ager typology\n",
    "2. Main age within the household\n",
    "3. Transaction activity in banks within different periods of time\n",
    "4. Transaction activity in Insurance within different periods of time\n",
    "5. flag whether this person holds an academic title\n",
    "\n",
    "The other columns with low number of missing data seem to have a similar number of missing data for the most part, around 100,000 for each column. Many of these columns share the exact same rows of missing data with other columns. "
   ]
  },
  {
   "cell_type": "markdown",
   "metadata": {},
   "source": [
    "#### 1.1.3: Assess Missing Data in Each Row\n",
    "\n",
    "Now, I will perform a similar assessment for the rows of the dataset to clarify how much data is missing in each row. As with the columns, we will see some groups of points that have a very different numbers of missing values. rows with high number of missing data will be removed for simplicity."
   ]
  },
  {
   "cell_type": "code",
   "execution_count": 16,
   "metadata": {},
   "outputs": [
    {
     "data": {
      "image/png": "[encoded data removed]",
      "text/plain": [
       "<Figure size 432x288 with 1 Axes>"
      ]
     },
     "metadata": {
      "needs_background": "light"
     },
     "output_type": "display_data"
    }
   ],
   "source": [
    "row_missings = count_missings(azdias, 1)\n",
    "len(row_missings)\n",
    "\n",
    "plt.hist(row_missings, bins = 50)\n",
    "plt.xticks(range(0,350,25))\n",
    "\n",
    "plt.xlabel('missing data per row')\n",
    "plt.ylabel('number of rows')\n",
    "plt.title('row missing data')\n",
    "plt.show()"
   ]
  },
  {
   "cell_type": "code",
   "execution_count": null,
   "metadata": {},
   "outputs": [],
   "source": [
    "high_missing_rows = []\n",
    "\n",
    "for ind,missings in enumerate(row_missings):\n",
    "    if missings>15:\n",
    "        high_missing_rows.append(ind)\n",
    "        \n",
    "azdias.drop(high_missing_rows, axis = 0, inplace = True)"
   ]
  },
  {
   "cell_type": "code",
   "execution_count": 18,
   "metadata": {},
   "outputs": [
    {
     "data": {
      "text/plain": [
       "(732895, 336)"
      ]
     },
     "execution_count": 18,
     "metadata": {},
     "output_type": "execute_result"
    }
   ],
   "source": [
    "azdias.shape"
   ]
  },
  {
   "cell_type": "markdown",
   "metadata": {},
   "source": [
    "### 1.2: Select and Re-Encode Features\n",
    "\n",
    "Checking for missing data isn't the only way in which you can prepare a dataset for analysis. Since the unsupervised learning techniques to be used will only work on data that is encoded numerically, we need to make a few encoding changes or additional assumptions to be able to make progress. In addition, while almost all of the values in the dataset are encoded using numbers, not all of them represent numeric values.\n",
    "\n",
    "- For numeric and interval data, these features can be kept without changes.\n",
    "- Most of the variables in the dataset are ordinal in nature. While ordinal values may technically be non-linear in spacing, make the simplifying assumption that the ordinal variables can be treated as being interval in nature (that is, kept without any changes).\n",
    "- Special handling may be necessary for the remaining two variable types: categorical, and 'mixed'.\n",
    "\n",
    "In the first two parts of this sub-step, we will perform an investigation of the categorical and mixed-type features and make a decision on each of them, whether we will keep, drop, or re-encode each. Then, in the last part, we will create a new data frame with only the selected and engineered columns."
   ]
  },
  {
   "cell_type": "markdown",
   "metadata": {},
   "source": [
    "#### 1.2.1: Re-Encode Categorical Features\n",
    "\n",
    "For categorical data, you would ordinarily need to encode the levels as dummy variables. Depending on the number of categories, we will perform one of the following:\n",
    "- For binary (two-level) categoricals that take numeric values, we will keep them without needing to do anything.\n",
    "- There is one binary variable that takes on non-numeric values. For this one, we need to re-encode the values as numbers or create a dummy variable.\n",
    "- For multi-level categoricals (three or more values), we can choose to encode the values using multiple dummy variables (e.g. via [OneHotEncoder](http://scikit-learn.org/stable/modules/generated/sklearn.preprocessing.OneHotEncoder.html)), or (to keep things straightforward) just drop them from the analysis."
   ]
  },
  {
   "cell_type": "code",
   "execution_count": 20,
   "metadata": {},
   "outputs": [
    {
     "name": "stderr",
     "output_type": "stream",
     "text": [
      "IOPub data rate exceeded.\n",
      "The notebook server will temporarily stop sending output\n",
      "to the client in order to avoid crashing it.\n",
      "To change this limit, set the config variable\n",
      "`--NotebookApp.iopub_data_rate_limit`.\n",
      "\n",
      "Current values:\n",
      "NotebookApp.iopub_data_rate_limit=1000000.0 (bytes/sec)\n",
      "NotebookApp.rate_limit_window=3.0 (secs)\n",
      "\n"
     ]
    },
    {
     "name": "stdout",
     "output_type": "stream",
     "text": [
      "ANZ_HAUSHALTE_AKTIV contains values:  {0.0, 1.0, 2.0, 3.0, 4.0, 5.0, 6.0, 7.0, 8.0, 9.0, 10.0, 11.0, 12.0, 13.0, 14.0, 15.0, 16.0, 17.0, 18.0, 19.0, 20.0, 21.0, 22.0, 23.0, 24.0, 25.0, 26.0, 27.0, 28.0, 29.0, 30.0, 31.0, 32.0, 33.0, 34.0, 35.0, 36.0, 37.0, 38.0, 39.0, 40.0, 41.0, 42.0, 43.0, 44.0, 45.0, 46.0, 47.0, 48.0, 49.0, 50.0, 51.0, 52.0, 53.0, 54.0, 55.0, 56.0, 57.0, 58.0, 59.0, 60.0, 61.0, 62.0, 63.0, 64.0, 65.0, 66.0, 67.0, 68.0, 69.0, 70.0, 71.0, 72.0, 73.0, 74.0, 75.0, 76.0, 77.0, 78.0, 79.0, 80.0, 81.0, 82.0, 83.0, 84.0, 85.0, 86.0, 87.0, 88.0, 89.0, 90.0, 91.0, 92.0, 93.0, 94.0, 95.0, 96.0, 97.0, 98.0, 99.0, 100.0, 101.0, 102.0, 103.0, 104.0, 105.0, 106.0, 107.0, 108.0, 109.0, 110.0, 111.0, 112.0, 113.0, 114.0, 115.0, 116.0, 117.0, 118.0, 119.0, 120.0, 121.0, 122.0, 123.0, 124.0, 125.0, 126.0, 127.0, 128.0, 129.0, 130.0, 131.0, 132.0, 133.0, 134.0, 135.0, 136.0, 137.0, 138.0, 139.0, 140.0, 141.0, 142.0, 143.0, 144.0, 145.0, 146.0, 147.0, 148.0, 149.0, 150.0, 151.0, 152.0, 153.0, 154.0, 155.0, 156.0, 157.0, 158.0, 159.0, 160.0, 161.0, 162.0, 163.0, 164.0, 165.0, 166.0, 515.0, 168.0, 169.0, 170.0, 171.0, 172.0, 167.0, 174.0, 175.0, 176.0, 536.0, 178.0, 179.0, 180.0, 181.0, 183.0, 184.0, 185.0, 186.0, 187.0, 189.0, 190.0, 191.0, 193.0, 194.0, 195.0, 196.0, 197.0, 198.0, 199.0, 200.0, 201.0, 202.0, 204.0, 205.0, 206.0, 207.0, 208.0, 209.0, 210.0, 211.0, 213.0, 214.0, 215.0, 216.0, 218.0, 219.0, 220.0, 221.0, 222.0, 223.0, 224.0, 225.0, 228.0, 229.0, 230.0, 231.0, 232.0, 236.0, 240.0, 241.0, 242.0, 243.0, 244.0, 246.0, 247.0, 249.0, 250.0, 252.0, 253.0, 254.0, 255.0, 256.0, 258.0, 259.0, 260.0, 263.0, 265.0, 266.0, 267.0, 272.0, 274.0, 276.0, 277.0, 280.0, 283.0, 285.0, 286.0, 290.0, 301.0, 304.0, 305.0, 307.0, 311.0, 316.0, 317.0, 321.0, 326.0, 331.0, 333.0, 344.0, 346.0, 347.0, 348.0, 353.0, 523.0, 366.0, 367.0, 377.0, 378.0, 379.0, 395.0, 404.0, 414.0, 430.0, 438.0, 445.0}\n",
      "ANZ_HH_TITEL contains values:  {0.0, 1.0, 2.0, 3.0, 4.0, 5.0, 6.0, 7.0, 8.0, 9.0, 10.0, 11.0, 12.0, 13.0, 14.0, 15.0, 16.0, 17.0, 18.0, 20.0}\n",
      "ANZ_KINDER contains values:  {0.0, 1.0, 2.0, 3.0, 4.0, 5.0, 6.0, 7.0, 9.0, 11.0}\n",
      "ANZ_PERSONEN contains values:  {0.0, 1.0, 2.0, 3.0, 4.0, 5.0, 6.0, 7.0, 8.0, 9.0, 10.0, 11.0, 12.0, 13.0, 14.0, 15.0, 16.0, 17.0, 18.0, 20.0, 21.0, 22.0, 23.0, 31.0, 35.0, 37.0, 38.0}\n",
      "ANZ_STATISTISCHE_HAUSHALTE contains values:  {0.0, 1.0, 2.0, 3.0, 4.0, 5.0, 6.0, 7.0, 8.0, 9.0, 10.0, 11.0, 12.0, 13.0, 14.0, 15.0, 16.0, 17.0, 18.0, 19.0, 20.0, 21.0, 22.0, 23.0, 24.0, 25.0, 26.0, 27.0, 28.0, 29.0, 30.0, 31.0, 32.0, 33.0, 34.0, 35.0, 36.0, 37.0, 38.0, 39.0, 40.0, 41.0, 42.0, 43.0, 44.0, 45.0, 46.0, 47.0, 48.0, 49.0, 50.0, 51.0, 52.0, 53.0, 54.0, 55.0, 56.0, 57.0, 58.0, 59.0, 60.0, 61.0, 62.0, 63.0, 64.0, 65.0, 66.0, 67.0, 68.0, 69.0, 70.0, 71.0, 72.0, 73.0, 74.0, 75.0, 76.0, 77.0, 78.0, 79.0, 80.0, 81.0, 82.0, 83.0, 84.0, 85.0, 86.0, 87.0, 88.0, 89.0, 90.0, 91.0, 92.0, 93.0, 94.0, 95.0, 96.0, 97.0, 98.0, 99.0, 100.0, 101.0, 102.0, 103.0, 104.0, 105.0, 106.0, 107.0, 108.0, 109.0, 110.0, 111.0, 112.0, 113.0, 114.0, 115.0, 116.0, 117.0, 118.0, 119.0, 120.0, 121.0, 122.0, 123.0, 124.0, 125.0, 126.0, 127.0, 128.0, 129.0, 130.0, 131.0, 132.0, 133.0, 134.0, 135.0, 136.0, 137.0, 138.0, 139.0, 140.0, 141.0, 142.0, 143.0, 144.0, 145.0, 146.0, 147.0, 148.0, 149.0, 150.0, 151.0, 152.0, 153.0, 154.0, 155.0, 156.0, 157.0, 158.0, 159.0, 160.0, 161.0, 162.0, 163.0, 164.0, 165.0, 166.0, 167.0, 168.0, 169.0, 170.0, 171.0, 172.0, 173.0, 174.0, 175.0, 176.0, 177.0, 178.0, 179.0, 180.0, 181.0, 183.0, 184.0, 185.0, 186.0, 187.0, 189.0, 192.0, 193.0, 194.0, 195.0, 197.0, 198.0, 199.0, 200.0, 202.0, 203.0, 204.0, 205.0, 209.0, 212.0, 213.0, 214.0, 216.0, 217.0, 218.0, 222.0, 223.0, 225.0, 228.0, 229.0, 230.0, 233.0, 235.0, 238.0, 239.0, 241.0, 243.0, 244.0, 245.0, 248.0, 251.0, 252.0, 253.0, 256.0, 262.0, 264.0, 268.0, 269.0, 274.0, 284.0, 286.0, 292.0, 296.0, 297.0, 299.0, 303.0, 304.0, 309.0, 314.0, 317.0, 319.0, 322.0, 328.0, 336.0, 339.0, 342.0, 354.0, 365.0, 366.0, 369.0, 371.0, 375.0}\n",
      "ANZ_TITEL contains values:  {0.0, 1.0, 2.0, 3.0, 4.0}\n",
      "ARBEIT contains values:  {1.0, 2.0, 3.0, 4.0, 5.0, 9.0}\n",
      "BALLRAUM contains values:  {1.0, 2.0, 3.0, 4.0, 5.0, 6.0, 7.0}\n",
      "CAMEO_DEU_2015 contains values:  {'6A', '5A', '1A', '2D', '9E', '6C', '4A', '4C', '5E', '4E', '9D', '5F', '3A', '1B', '6D', '4B', '5C', '7B', '8B', '8D', '8C', '6B', '7C', '5D', '6F', '7D', '7A', '3D', '2A', '2B', '9B', '7E', '1C', 'XX', '8A', '1E', '2C', '5B', '6E', '4D', '1D', '9A', '3B', '9C', '3C'}\n",
      "CAMEO_DEUG_2015 contains values:  {1.0, 2.0, 3.0, 4.0, 5.0, 6.0, 7.0, 8.0, 9.0, '7', '9', '2', '5', '8', '1', '3', '6', 'X', '4'}\n",
      "CAMEO_INTL_2015 contains values:  {'43', '54', 12.0, 13.0, 14.0, 15.0, 22.0, 23.0, 24.0, 25.0, '23', 31.0, 32.0, 33.0, 34.0, 35.0, '44', 41.0, 43.0, 44.0, 45.0, '24', 51.0, 52.0, '14', 54.0, 55.0, '31', '55', '32', '12', '22', '25', '33', 'XX', '34', '41', '52', '45', '51', '15', '35', '13'}\n",
      "CJT_GESAMTTYP contains values:  {1.0, 2.0, 3.0, 4.0, 5.0, 6.0}\n",
      "CJT_KATALOGNUTZER contains values:  {1.0, 2.0, 3.0, 4.0, 5.0}\n",
      "CJT_TYP_1 contains values:  {1.0, 2.0, 3.0, 4.0, 5.0}\n",
      "CJT_TYP_2 contains values:  {1.0, 2.0, 3.0, 4.0, 5.0}\n",
      "CJT_TYP_3 contains values:  {1.0, 2.0, 3.0, 4.0, 5.0}\n",
      "CJT_TYP_4 contains values:  {1.0, 2.0, 3.0, 4.0, 5.0}\n",
      "CJT_TYP_5 contains values:  {1.0, 2.0, 3.0, 4.0, 5.0}\n",
      "CJT_TYP_6 contains values:  {1.0, 2.0, 3.0, 4.0, 5.0}\n",
      "D19_BANKEN_DATUM contains values:  {1, 2, 3, 4, 5, 6, 7, 8, 9, 10}\n",
      "D19_BANKEN_DIREKT contains values:  {0, 1, 2, 3, 4, 5, 6, 7}\n",
      "D19_BANKEN_GROSS contains values:  {0, 1, 2, 3, 4, 5, 6}\n",
      "D19_BANKEN_LOKAL contains values:  {0, 1, 2, 3, 4, 5, 6, 7}\n",
      "D19_BANKEN_OFFLINE_DATUM contains values:  {1, 2, 3, 4, 5, 6, 7, 8, 9, 10}\n",
      "D19_BANKEN_ONLINE_DATUM contains values:  {1, 2, 3, 4, 5, 6, 7, 8, 9, 10}\n",
      "D19_BANKEN_REST contains values:  {0, 1, 2, 3, 4, 5, 6, 7}\n",
      "D19_BEKLEIDUNG_GEH contains values:  {0, 1, 2, 3, 4, 5, 6, 7}\n",
      "D19_BEKLEIDUNG_REST contains values:  {0, 1, 2, 3, 4, 5, 6, 7}\n",
      "D19_BILDUNG contains values:  {0, 1, 2, 3, 4, 5, 6, 7}\n",
      "D19_BIO_OEKO contains values:  {0, 1, 2, 3, 4, 5, 6, 7}\n",
      "D19_BUCH_CD contains values:  {0, 1, 2, 3, 4, 5, 6, 7}\n",
      "D19_DIGIT_SERV contains values:  {0, 1, 2, 3, 4, 5, 6, 7}\n",
      "D19_DROGERIEARTIKEL contains values:  {0, 1, 2, 3, 4, 5, 6, 7}\n",
      "D19_ENERGIE contains values:  {0, 1, 2, 3, 4, 5, 6, 7}\n",
      "D19_FREIZEIT contains values:  {0, 1, 2, 3, 4, 5, 6, 7}\n",
      "D19_GARTEN contains values:  {0, 1, 2, 3, 4, 5, 6, 7}\n",
      "D19_GESAMT_DATUM contains values:  {1, 2, 3, 4, 5, 6, 7, 8, 9, 10}\n",
      "D19_GESAMT_OFFLINE_DATUM contains values:  {1, 2, 3, 4, 5, 6, 7, 8, 9, 10}\n",
      "D19_GESAMT_ONLINE_DATUM contains values:  {1, 2, 3, 4, 5, 6, 7, 8, 9, 10}\n",
      "D19_HANDWERK contains values:  {0, 1, 2, 3, 4, 5, 6, 7}\n",
      "D19_HAUS_DEKO contains values:  {0, 1, 2, 3, 4, 5, 6, 7}\n",
      "D19_KINDERARTIKEL contains values:  {0, 1, 2, 3, 4, 5, 6, 7}\n",
      "D19_KONSUMTYP_MAX contains values:  {1, 2, 3, 4, 8, 9}\n",
      "D19_KOSMETIK contains values:  {0, 1, 2, 3, 4, 5, 6, 7}\n",
      "D19_LEBENSMITTEL contains values:  {0, 1, 2, 3, 4, 5, 6, 7}\n",
      "D19_NAHRUNGSERGAENZUNG contains values:  {0, 1, 2, 3, 4, 5, 6, 7}\n",
      "D19_RATGEBER contains values:  {0, 1, 2, 3, 4, 5, 6, 7}\n",
      "D19_REISEN contains values:  {0, 1, 2, 3, 4, 5, 6, 7}\n",
      "D19_SAMMELARTIKEL contains values:  {0, 1, 2, 3, 4, 5, 6, 7}\n",
      "D19_SCHUHE contains values:  {0, 1, 2, 3, 4, 5, 6, 7}\n",
      "D19_SONSTIGE contains values:  {0, 1, 2, 3, 4, 5, 6, 7}\n",
      "D19_TECHNIK contains values:  {0, 1, 2, 3, 4, 5, 6, 7}\n",
      "D19_TELKO_DATUM contains values:  {1, 2, 3, 4, 5, 6, 7, 8, 9, 10}\n",
      "D19_TELKO_MOBILE contains values:  {0, 1, 2, 3, 4, 5, 6, 7}\n",
      "D19_TELKO_OFFLINE_DATUM contains values:  {1, 2, 3, 4, 5, 6, 7, 8, 9, 10}\n",
      "D19_TELKO_ONLINE_DATUM contains values:  {1, 2, 3, 4, 5, 6, 7, 8, 9, 10}\n",
      "D19_TELKO_REST contains values:  {0, 1, 2, 3, 4, 5, 6, 7}\n",
      "D19_TIERARTIKEL contains values:  {0, 1, 2, 3, 4, 5, 6, 7}\n",
      "D19_VERSAND_DATUM contains values:  {1, 2, 3, 4, 5, 6, 7, 8, 9, 10}\n",
      "D19_VERSAND_OFFLINE_DATUM contains values:  {1, 2, 3, 4, 5, 6, 7, 8, 9, 10}\n",
      "D19_VERSAND_ONLINE_DATUM contains values:  {1, 2, 3, 4, 5, 6, 7, 8, 9, 10}\n",
      "D19_VERSAND_REST contains values:  {0, 1, 2, 3, 4, 5, 6, 7}\n",
      "D19_VERSI_DATUM contains values:  {1, 2, 3, 4, 5, 6, 7, 8, 9, 10}\n",
      "D19_VERSI_OFFLINE_DATUM contains values:  {1, 2, 3, 4, 5, 6, 7, 8, 9, 10}\n",
      "D19_VERSI_ONLINE_DATUM contains values:  {1, 2, 3, 4, 5, 6, 7, 8, 9, 10}\n",
      "D19_VERSICHERUNGEN contains values:  {0, 1, 2, 3, 4, 5, 6, 7}\n"
     ]
    },
    {
     "name": "stdout",
     "output_type": "stream",
     "text": [
      "D19_VOLLSORTIMENT contains values:  {0, 1, 2, 3, 4, 5, 6, 7}\n",
      "D19_WEIN_FEINKOST contains values:  {0, 1, 2, 3, 4, 5, 6, 7}\n",
      "DSL_FLAG contains values:  {0.0, 1.0}\n",
      "EINGEFUEGT_AM contains values:  {'1994-03-25 00:00:00', '2001-12-28 00:00:00', '1997-04-14 00:00:00', '1997-01-08 00:00:00', '1994-08-10 00:00:00', '2002-11-05 00:00:00', '1997-02-25 00:00:00', '1993-11-09 00:00:00', '2005-04-14 00:00:00', '1993-04-01 00:00:00', '2002-08-05 00:00:00', '2001-03-15 00:00:00', '2001-01-05 00:00:00', '1994-01-24 00:00:00', '1999-07-07 00:00:00', '1996-01-30 00:00:00', '1997-03-20 00:00:00', '1999-03-29 00:00:00', '1999-08-10 00:00:00', '1995-06-07 00:00:00', '2003-08-29 00:00:00', '2000-08-11 00:00:00', '2000-05-19 00:00:00', '2000-12-05 00:00:00', '2001-02-23 00:00:00', '2004-04-17 00:00:00', '2001-04-12 00:00:00', '2005-03-24 00:00:00', '2002-10-15 00:00:00', '2004-06-05 00:00:00', '2005-02-03 00:00:00', '2004-03-11 00:00:00', '2004-10-10 00:00:00', '2005-01-03 00:00:00', '1998-02-07 00:00:00', '1999-01-20 00:00:00', '1997-11-20 00:00:00', '1995-06-02 00:00:00', '1996-02-02 00:00:00', '2002-03-12 00:00:00', '2004-08-24 00:00:00', '1994-12-13 00:00:00', '1997-10-09 00:00:00', '2000-11-28 00:00:00', '1996-06-20 00:00:00', '1996-07-24 00:00:00', '1999-02-06 00:00:00', '1997-05-27 00:00:00', '1993-06-29 00:00:00', '1998-01-19 00:00:00', '1993-09-07 00:00:00', '1994-11-28 00:00:00', '2004-08-02 00:00:00', '2005-02-10 00:00:00', '2004-06-13 00:00:00', '1993-12-15 00:00:00', '1992-02-21 00:00:00', '2003-06-18 00:00:00', '2002-05-23 00:00:00', '2001-02-28 00:00:00', '1996-06-12 00:00:00', '2001-11-22 00:00:00', '2004-08-16 00:00:00', '2004-06-28 00:00:00', '1995-04-25 00:00:00', '2004-10-05 00:00:00', '1998-10-02 00:00:00', '2000-12-20 00:00:00', '1993-08-24 00:00:00', '1997-12-23 00:00:00', '1994-03-15 00:00:00', '2000-07-24 00:00:00', '1991-06-17 00:00:00', '2004-04-08 00:00:00', '2003-10-11 00:00:00', '2001-04-10 00:00:00', '1997-11-17 00:00:00', '2002-05-07 00:00:00', '2001-02-08 00:00:00', '2000-06-15 00:00:00', '1997-07-07 00:00:00', '1995-11-13 00:00:00', '2001-04-27 00:00:00', '1998-01-13 00:00:00', '2004-08-25 00:00:00', '1994-12-20 00:00:00', '1996-11-26 00:00:00', '2004-10-12 00:00:00', '2003-05-07 00:00:00', '2002-04-15 00:00:00', '2004-07-29 00:00:00', '1997-11-03 00:00:00', '2002-10-08 00:00:00', '2004-12-06 00:00:00', '1993-06-04 00:00:00', '2004-10-21 00:00:00', '1993-01-08 00:00:00', '2001-02-02 00:00:00', '1996-10-01 00:00:00', '2004-12-09 00:00:00', '1996-07-26 00:00:00', '2003-01-10 00:00:00', '2003-06-29 00:00:00', '2000-05-26 00:00:00', '2003-01-06 00:00:00', '2002-08-28 00:00:00', '1997-08-01 00:00:00', '1994-11-29 00:00:00', '1993-09-29 00:00:00', '2001-02-20 00:00:00', '1993-09-23 00:00:00', '1996-02-21 00:00:00', '2003-07-11 00:00:00', '2001-04-04 00:00:00', '2005-02-08 00:00:00', '1996-10-11 00:00:00', '2000-10-25 00:00:00', '2000-07-26 00:00:00', '2004-11-25 00:00:00', '1997-08-26 00:00:00', '1997-05-22 00:00:00', '1995-03-14 00:00:00', '1993-12-21 00:00:00', '1995-05-04 00:00:00', '2003-03-05 00:00:00', '2005-01-10 00:00:00', '2001-11-08 00:00:00', '1994-04-14 00:00:00', '2004-04-07 00:00:00', '2003-03-17 00:00:00', '2001-03-26 00:00:00', '1994-12-07 00:00:00', '1994-02-11 00:00:00', '2004-09-15 00:00:00', '2003-02-05 00:00:00', '2002-09-24 00:00:00', '1995-04-24 00:00:00', '1997-07-10 00:00:00', '2004-05-07 00:00:00', '2002-05-13 00:00:00', '1999-04-12 00:00:00', '2004-02-05 00:00:00', '1998-07-03 00:00:00', '2004-06-01 00:00:00', '2002-11-11 00:00:00', '2001-09-19 00:00:00', '1993-07-27 00:00:00', '2002-10-30 00:00:00', '2000-09-20 00:00:00', '1996-03-26 00:00:00', '1994-06-23 00:00:00', '2001-07-02 00:00:00', '2003-05-28 00:00:00', '2001-07-09 00:00:00', '1998-09-04 00:00:00', '1994-05-04 00:00:00', '2002-10-16 00:00:00', '1995-11-10 00:00:00', '2004-12-13 00:00:00', '2001-10-24 00:00:00', '2004-08-12 00:00:00', '1995-10-17 00:00:00', '2002-10-31 00:00:00', '2000-09-06 00:00:00', '2004-04-28 00:00:00', '2004-10-14 00:00:00', '2004-08-06 00:00:00', '1997-06-21 00:00:00', '2004-09-09 00:00:00', '2002-03-13 00:00:00', '1994-04-05 00:00:00', '2000-05-25 00:00:00', '2002-02-15 00:00:00', '1998-03-16 00:00:00', '2001-11-29 00:00:00', '2001-09-10 00:00:00', '2002-07-05 00:00:00', '1996-01-03 00:00:00', '2000-04-06 00:00:00', '2000-07-10 00:00:00', '2001-04-06 00:00:00', '1998-03-23 00:00:00', '1997-06-27 00:00:00', '2004-09-27 00:00:00', '1996-12-12 00:00:00', '2004-08-18 00:00:00', '1997-11-26 00:00:00', '1999-03-04 00:00:00', '2000-12-06 00:00:00', '1996-11-29 00:00:00', '1996-04-11 00:00:00', '1993-08-23 00:00:00', '2004-02-19 00:00:00', '1998-04-09 00:00:00', '1996-06-05 00:00:00', '1993-12-22 00:00:00', '1999-03-02 00:00:00', '1998-09-02 00:00:00', '2004-01-28 00:00:00', '2005-03-28 00:00:00', '2001-01-15 00:00:00', '2003-07-02 00:00:00', '1993-05-18 00:00:00', '1996-03-22 00:00:00', '2002-01-31 00:00:00', '1996-02-20 00:00:00', '1995-04-20 00:00:00', '1994-09-22 00:00:00', '1998-12-04 00:00:00', '2000-03-10 00:00:00', '1998-10-13 00:00:00', '2000-07-25 00:00:00', '2003-10-06 00:00:00', '1995-10-27 00:00:00', '2001-08-03 00:00:00', '2004-03-31 00:00:00', '2004-09-02 00:00:00', '2003-03-18 00:00:00', '2000-11-24 00:00:00', '1998-01-12 00:00:00', '1995-03-20 00:00:00', '1996-07-05 00:00:00', '1995-12-14 00:00:00', '2004-06-26 00:00:00', '1995-07-18 00:00:00', '1995-09-14 00:00:00', '2002-04-05 00:00:00', '1996-02-16 00:00:00', '1998-04-20 00:00:00', '1993-10-05 00:00:00', '2000-04-12 00:00:00', '2002-06-07 00:00:00', '1997-07-16 00:00:00', '2002-05-28 00:00:00', '2002-02-12 00:00:00', '2003-11-15 00:00:00', '2005-02-28 00:00:00', '2000-09-19 00:00:00', '2002-09-05 00:00:00', '2003-08-21 00:00:00', '2003-03-11 00:00:00', '2003-05-15 00:00:00', '1994-12-14 00:00:00', '1999-04-27 00:00:00', '1997-02-21 00:00:00', '1998-10-26 00:00:00', '2001-01-09 00:00:00', '1995-02-24 00:00:00', '1995-10-24 00:00:00', '2002-08-23 00:00:00', '2004-03-10 00:00:00', '2005-02-16 00:00:00', '2004-06-08 00:00:00', '2003-08-12 00:00:00', '2004-07-30 00:00:00', '2002-03-15 00:00:00', '1998-11-28 00:00:00', '1995-06-30 00:00:00', '2004-02-18 00:00:00', '1994-02-03 00:00:00', '2000-05-08 00:00:00', '1995-08-01 00:00:00', '2005-01-28 00:00:00', '1994-09-13 00:00:00', '2004-11-17 00:00:00', '1999-06-24 00:00:00', '2002-11-28 00:00:00', '2005-04-18 00:00:00', '1998-09-16 00:00:00', '2004-02-27 00:00:00', '2002-12-06 00:00:00', '1994-02-18 00:00:00', '1998-12-08 00:00:00', '2004-05-16 00:00:00', '1995-11-17 00:00:00', '2004-08-28 00:00:00', '2001-12-03 00:00:00', '2003-10-08 00:00:00', '2004-04-21 00:00:00', '1996-07-06 00:00:00', '2000-05-05 00:00:00', '1993-04-02 00:00:00', '2002-09-27 00:00:00', '1997-09-02 00:00:00', '1996-12-10 00:00:00', '2002-12-16 00:00:00', '1996-01-12 00:00:00', '1993-04-05 00:00:00', '1998-11-10 00:00:00', '1993-11-27 00:00:00', '2002-04-11 00:00:00', '2000-03-22 00:00:00', '2003-01-13 00:00:00', '1995-01-24 00:00:00', '1993-11-25 00:00:00', '2003-07-31 00:00:00', '2005-02-22 00:00:00', '2004-06-23 00:00:00', '2003-09-18 00:00:00', '1999-11-03 00:00:00', '2004-06-02 00:00:00', '2002-11-22 00:00:00', '1997-08-29 00:00:00', '2004-07-07 00:00:00', '2002-06-13 00:00:00', '2004-12-18 00:00:00', '1995-04-18 00:00:00', '2003-11-21 00:00:00', '1999-08-26 00:00:00', '1998-02-10 00:00:00', '2004-01-20 00:00:00', '1993-02-26 00:00:00', '2003-03-19 00:00:00', '2005-03-12 00:00:00', '1994-12-05 00:00:00', '2001-12-20 00:00:00', '1993-05-25 00:00:00', '2003-01-29 00:00:00', '2002-11-13 00:00:00', '1995-01-25 00:00:00', '2000-06-02 00:00:00', '1997-06-25 00:00:00', '1996-03-27 00:00:00', '2004-11-16 00:00:00', '1994-08-05 00:00:00', '2005-01-14 00:00:00', '2000-12-12 00:00:00', '2003-09-17 00:00:00', '2003-09-26 00:00:00', '1996-07-17 00:00:00', '2000-08-04 00:00:00', '1994-01-05 00:00:00', '2004-02-24 00:00:00', '2003-11-23 00:00:00', '2002-12-13 00:00:00', '1998-03-04 00:00:00', '2003-10-02 00:00:00', '1999-03-01 00:00:00', '1995-09-26 00:00:00', '2003-09-04 00:00:00', '1996-01-09 00:00:00', '2003-08-27 00:00:00', '2000-03-28 00:00:00', '2003-08-24 00:00:00', '1996-04-18 00:00:00', '1994-04-13 00:00:00', '2000-06-20 00:00:00', '1994-10-04 00:00:00', '1994-09-05 00:00:00', '2003-07-30 00:00:00', '1996-03-29 00:00:00', '2004-07-23 00:00:00', '2001-07-18 00:00:00', '2000-12-18 00:00:00', '1997-12-22 00:00:00', '1993-07-08 00:00:00', '1995-07-04 00:00:00', '2000-12-27 00:00:00', '1996-03-25 00:00:00', '2003-06-06 00:00:00', '2003-12-18 00:00:00', '1998-10-08 00:00:00', '2005-05-03 00:00:00', '1996-03-14 00:00:00', '2000-10-20 00:00:00', '2004-07-19 00:00:00', '1994-03-17 00:00:00', '1994-06-20 00:00:00', '2003-06-14 00:00:00', '1998-11-16 00:00:00', '2001-11-07 00:00:00', '2004-01-30 00:00:00', '1999-07-01 00:00:00', '1998-06-22 00:00:00', '1996-04-01 00:00:00', '1996-09-18 00:00:00', '1998-01-27 00:00:00', '1998-04-06 00:00:00', '2004-08-07 00:00:00', '1994-08-17 00:00:00', '1999-06-25 00:00:00', '2002-05-27 00:00:00', '1995-09-05 00:00:00', '1993-08-19 00:00:00', '1997-08-21 00:00:00', '1997-08-18 00:00:00', '1994-02-09 00:00:00', '1999-02-02 00:00:00', '1998-07-16 00:00:00', '2002-03-18 00:00:00', '1995-02-17 00:00:00', '2000-07-18 00:00:00', '2001-08-21 00:00:00', '1994-05-30 00:00:00', '2005-03-23 00:00:00', '2000-08-01 00:00:00', '1998-07-24 00:00:00', '2004-08-04 00:00:00', '2000-05-31 00:00:00', '1998-01-07 00:00:00', '2003-09-20 00:00:00', '2000-12-15 00:00:00', '1999-06-10 00:00:00', '2000-11-02 00:00:00', '1998-09-09 00:00:00', '1996-09-25 00:00:00', '2002-12-05 00:00:00', '2004-10-07 00:00:00', '1993-04-06 00:00:00', '2002-04-17 00:00:00', '1994-02-01 00:00:00', '1997-03-10 00:00:00', '1997-02-17 00:00:00', '2003-07-16 00:00:00', '2001-08-24 00:00:00', '2005-03-08 00:00:00', '2001-09-12 00:00:00', '1997-01-11 00:00:00', '2002-05-16 00:00:00', '2004-03-15 00:00:00', '1997-04-10 00:00:00', '2003-06-04 00:00:00', '1997-08-08 00:00:00', '2005-01-19 00:00:00', '2004-12-15 00:00:00', '1993-08-11 00:00:00', '2001-09-27 00:00:00', '2004-04-22 00:00:00', '1997-10-13 00:00:00', '2004-04-26 00:00:00', '1997-08-06 00:00:00', '1994-01-20 00:00:00', '1997-07-25 00:00:00', '1997-03-12 00:00:00', '2004-07-05 00:00:00', '1997-05-06 00:00:00', '1997-10-02 00:00:00', '1995-04-11 00:00:00', '1997-04-28 00:00:00', '2002-11-14 00:00:00', '1997-08-27 00:00:00', '1997-12-10 00:00:00', '2000-09-08 00:00:00', '1997-02-28 00:00:00', '2003-10-22 00:00:00', '1998-02-20 00:00:00', '2003-10-23 00:00:00', '1996-02-22 00:00:00', '2002-07-26 00:00:00', '1997-06-04 00:00:00', '1996-03-15 00:00:00', '1998-04-23 00:00:00', '1996-09-23 00:00:00', '2002-05-03 00:00:00', '2004-07-21 00:00:00', '2002-12-11 00:00:00', '1997-02-12 00:00:00', '2003-10-05 00:00:00', '1996-10-24 00:00:00', '1998-12-21 00:00:00', '1996-01-08 00:00:00', '1998-07-31 00:00:00', '2002-09-23 00:00:00', '1999-08-05 00:00:00', '2000-05-02 00:00:00', '1997-03-03 00:00:00', '2002-02-08 00:00:00', '1996-11-25 00:00:00', '2002-07-23 00:00:00', '2002-01-16 00:00:00', '1997-02-26 00:00:00', '2004-01-23 00:00:00', '1996-06-28 00:00:00', '1994-08-30 00:00:00', '1994-02-28 00:00:00', '1995-08-11 00:00:00', '2003-10-14 00:00:00', '1998-01-03 00:00:00', '2003-09-25 00:00:00', '1996-08-07 00:00:00', '1995-10-19 00:00:00', '1998-08-13 00:00:00', '2003-08-16 00:00:00', '2003-04-03 00:00:00', '2001-09-24 00:00:00', '1995-09-06 00:00:00', '1998-12-03 00:00:00', '2004-05-29 00:00:00', '1995-06-29 00:00:00', '1995-10-23 00:00:00', '2004-07-12 00:00:00', '2003-09-12 00:00:00', '1994-03-30 00:00:00', '1996-07-16 00:00:00', '1997-08-25 00:00:00', '1997-01-14 00:00:00', '1998-02-18 00:00:00', '1998-12-17 00:00:00', '1994-04-29 00:00:00', '1993-10-15 00:00:00', '1998-03-17 00:00:00', '2004-08-14 00:00:00', '1998-09-25 00:00:00', '2002-01-14 00:00:00', '2001-02-07 00:00:00', '1995-08-02 00:00:00', '1998-09-30 00:00:00', '1996-10-08 00:00:00', '2000-08-29 00:00:00', '1999-02-01 00:00:00', '1992-12-29 00:00:00', '2001-08-17 00:00:00', '2000-03-23 00:00:00', '1998-09-23 00:00:00', '2002-05-02 00:00:00', '2000-04-17 00:00:00', '1998-11-11 00:00:00', '1998-10-01 00:00:00', '2001-07-04 00:00:00', '1996-04-04 00:00:00', '1996-03-08 00:00:00', '1998-07-02 00:00:00', '2000-11-06 00:00:00', '1998-01-30 00:00:00', '1999-09-24 00:00:00', '1995-06-06 00:00:00', '2000-06-13 00:00:00', '1994-03-01 00:00:00', '1996-04-17 00:00:00', '2000-11-27 00:00:00', '2000-10-18 00:00:00', '2004-05-27 00:00:00', '2001-12-21 00:00:00', '1995-07-27 00:00:00', '2004-10-31 00:00:00', '1995-02-20 00:00:00', '2005-01-26 00:00:00', '1998-07-08 00:00:00', '2003-09-03 00:00:00', '2005-01-07 00:00:00', '1993-07-12 00:00:00', '1997-08-05 00:00:00', '1994-01-12 00:00:00', '1995-09-13 00:00:00', '2003-03-26 00:00:00', '2004-11-28 00:00:00', '2001-06-12 00:00:00', '1996-07-23 00:00:00', '1997-06-10 00:00:00', '2001-01-30 00:00:00', '2003-04-30 00:00:00', '1993-09-22 00:00:00', '1995-07-24 00:00:00', '1997-01-27 00:00:00', '1993-01-19 00:00:00', '2000-06-08 00:00:00', '1996-02-09 00:00:00', '2000-05-24 00:00:00', '2003-06-24 00:00:00', '2002-08-16 00:00:00', '2001-07-05 00:00:00', '2001-04-17 00:00:00', '1997-11-04 00:00:00', '2001-04-02 00:00:00', '1997-10-17 00:00:00', '2005-04-12 00:00:00', '1998-08-05 00:00:00', '2001-08-09 00:00:00', '1994-11-18 00:00:00', '1994-02-25 00:00:00', '1998-11-26 00:00:00', '2000-03-29 00:00:00', '1995-05-18 00:00:00', '1997-10-07 00:00:00', '1999-07-28 00:00:00', '2003-04-24 00:00:00', '2003-07-06 00:00:00', '1993-04-26 00:00:00', '1998-03-06 00:00:00', '2002-03-14 00:00:00', '2002-07-02 00:00:00', '1994-12-22 00:00:00', '1994-10-07 00:00:00', '1992-02-10 00:00:00', '2003-12-16 00:00:00', '1994-09-06 00:00:00', '2002-01-18 00:00:00', '1997-12-02 00:00:00', '1998-04-01 00:00:00', '1994-11-25 00:00:00', '1995-01-19 00:00:00', '1997-06-20 00:00:00', '2002-03-20 00:00:00', '1997-01-21 00:00:00', '2001-10-11 00:00:00', '2000-08-17 00:00:00', '2001-10-02 00:00:00', '2005-01-30 00:00:00', '1997-06-19 00:00:00', '1998-09-07 00:00:00', '2005-01-25 00:00:00', '1995-12-18 00:00:00', '2005-03-22 00:00:00', '2001-04-20 00:00:00', '1999-05-20 00:00:00', '1997-03-19 00:00:00', '1999-07-12 00:00:00', '2000-09-14 00:00:00', '1994-02-10 00:00:00', '1998-08-04 00:00:00', '1993-12-10 00:00:00', '1998-04-29 00:00:00', '1996-01-05 00:00:00', '1998-03-24 00:00:00', '1997-08-07 00:00:00', '1993-10-07 00:00:00', '2002-01-04 00:00:00', '2000-08-07 00:00:00', '2002-07-19 00:00:00', '2004-10-18 00:00:00', '2003-07-09 00:00:00', '1994-09-12 00:00:00', '1996-12-06 00:00:00', '1995-03-23 00:00:00', '2000-02-23 00:00:00', '1994-07-12 00:00:00', '1999-09-07 00:00:00', '1993-08-05 00:00:00', '1995-12-29 00:00:00', '1994-02-14 00:00:00', '2002-03-08 00:00:00', '2000-03-24 00:00:00', '2003-04-28 00:00:00', '1993-02-10 00:00:00', '1996-11-19 00:00:00', '1993-01-29 00:00:00', '1999-07-19 00:00:00', '1997-11-29 00:00:00', '1994-02-23 00:00:00', '2000-07-06 00:00:00', '1993-03-01 00:00:00', '2004-11-29 00:00:00', '1993-11-11 00:00:00', '2004-08-29 00:00:00', '2000-07-17 00:00:00', '1993-12-02 00:00:00', '1997-09-10 00:00:00', '1999-01-07 00:00:00', '1997-04-04 00:00:00', '2002-06-03 00:00:00', '2003-08-09 00:00:00', '1998-10-07 00:00:00', '1998-02-13 00:00:00', '2003-02-27 00:00:00', '1997-05-23 00:00:00', '1995-02-27 00:00:00', '2002-04-16 00:00:00', '2004-12-07 00:00:00', '2001-03-16 00:00:00', '1997-11-24 00:00:00', '2005-01-12 00:00:00', '2001-12-13 00:00:00', '2003-12-28 00:00:00', '2001-03-30 00:00:00', '1995-11-23 00:00:00', '2001-02-05 00:00:00', '2004-10-09 00:00:00', '2004-01-25 00:00:00', '1996-12-27 00:00:00', '2002-06-20 00:00:00', '2004-02-11 00:00:00', '1995-08-04 00:00:00', '1995-11-16 00:00:00', '2002-12-10 00:00:00', '2004-02-07 00:00:00', '2001-06-01 00:00:00', '2005-03-07 00:00:00', '2003-09-08 00:00:00', '2003-02-21 00:00:00', '1993-12-01 00:00:00', '2001-08-30 00:00:00', '1999-04-09 00:00:00', '1994-02-07 00:00:00', '1994-04-22 00:00:00', '2000-04-19 00:00:00', '2004-09-08 00:00:00', '1998-05-15 00:00:00', '1999-08-17 00:00:00', '2003-11-05 00:00:00', '1994-11-10 00:00:00', '1994-06-16 00:00:00', '1994-04-28 00:00:00', '2000-03-20 00:00:00', '1993-07-15 00:00:00', '2003-11-04 00:00:00', '2000-04-11 00:00:00', '1999-04-19 00:00:00', '2004-06-21 00:00:00', '1997-02-05 00:00:00', '2003-11-17 00:00:00', '2003-03-06 00:00:00', '1994-07-18 00:00:00', '2004-04-27 00:00:00', '1994-09-09 00:00:00', '1993-05-10 00:00:00', '1996-03-04 00:00:00', '1997-06-05 00:00:00', '2004-12-14 00:00:00', '2003-11-18 00:00:00', '2000-08-24 00:00:00', '2000-12-13 00:00:00', '1996-04-10 00:00:00', '2004-06-09 00:00:00', '1994-05-11 00:00:00', '1995-06-19 00:00:00', '2003-10-10 00:00:00', '1994-02-02 00:00:00', '2002-01-30 00:00:00', '1998-08-28 00:00:00', '2002-02-21 00:00:00', '2000-08-14 00:00:00', '2004-11-03 00:00:00', '2003-03-31 00:00:00', '1997-09-22 00:00:00', '1998-10-21 00:00:00', '2001-10-22 00:00:00', '1994-10-10 00:00:00', '1994-01-21 00:00:00', '2003-09-15 00:00:00', '1996-04-22 00:00:00', '1998-10-27 00:00:00', '2005-04-20 00:00:00', '1997-01-16 00:00:00', '2005-03-29 00:00:00', '1993-11-03 00:00:00', '1996-07-12 00:00:00', '2004-07-18 00:00:00', '1998-01-22 00:00:00', '1994-03-09 00:00:00', '1998-12-10 00:00:00', '1998-08-10 00:00:00', '2003-10-26 00:00:00', '2003-10-13 00:00:00', '2001-11-05 00:00:00', '2002-02-26 00:00:00', '1995-03-04 00:00:00', '1992-02-19 00:00:00', '1993-09-06 00:00:00', '2000-09-05 00:00:00', '2003-12-01 00:00:00', '1998-01-14 00:00:00', '1998-11-09 00:00:00', '2001-11-21 00:00:00', '1999-04-06 00:00:00', '2004-12-03 00:00:00', '2002-10-10 00:00:00', '2000-02-28 00:00:00', '1999-06-29 00:00:00', '2004-08-21 00:00:00', '2001-04-03 00:00:00', '2001-08-07 00:00:00', '2005-04-06 00:00:00', '2004-07-01 00:00:00', '1993-05-27 00:00:00', '1993-09-14 00:00:00', '2000-07-14 00:00:00', '1994-12-12 00:00:00', '1995-08-15 00:00:00', '1996-07-04 00:00:00', '2004-02-29 00:00:00', '1999-01-21 00:00:00', '1995-04-07 00:00:00', '1995-08-30 00:00:00', '2002-09-02 00:00:00', '2004-06-24 00:00:00', '1995-07-05 00:00:00', '2003-01-27 00:00:00', '1993-12-13 00:00:00', '1997-02-08 00:00:00', '2000-08-22 00:00:00', '2003-12-19 00:00:00', '2002-08-19 00:00:00', '2004-07-16 00:00:00', '1997-03-13 00:00:00', '2000-06-26 00:00:00', '1994-09-16 00:00:00', '1993-03-02 00:00:00', '2004-10-23 00:00:00', '2001-03-21 00:00:00', '1997-03-21 00:00:00', '2003-10-07 00:00:00', '1998-06-29 00:00:00', '2003-05-23 00:00:00', '1998-09-08 00:00:00', '1994-05-02 00:00:00', '1995-08-08 00:00:00', '1996-07-19 00:00:00', '1999-03-30 00:00:00', '1998-04-14 00:00:00', '1999-05-18 00:00:00', '2004-05-18 00:00:00', '2002-07-15 00:00:00', '2003-10-18 00:00:00', '1993-10-08 00:00:00', '2001-03-22 00:00:00', '2004-02-22 00:00:00', '1998-10-14 00:00:00', '1996-03-28 00:00:00', '1996-12-13 00:00:00', '2005-05-11 00:00:00', '2004-03-01 00:00:00', '2001-09-28 00:00:00', '1994-02-17 00:00:00', '1997-09-26 00:00:00', '2003-09-01 00:00:00', '2003-01-15 00:00:00', '2002-02-01 00:00:00', '1998-12-15 00:00:00', '2001-04-19 00:00:00', '1998-07-27 00:00:00', '1997-04-30 00:00:00', '2004-09-13 00:00:00', '2001-10-15 00:00:00', '2003-06-15 00:00:00', '1998-02-11 00:00:00', '1998-09-29 00:00:00', '2004-03-05 00:00:00', '1996-07-15 00:00:00', '2000-08-16 00:00:00', '2004-11-15 00:00:00', '1997-01-17 00:00:00', '1996-04-25 00:00:00', '1995-05-11 00:00:00', '1994-12-27 00:00:00', '1996-07-18 00:00:00', '1995-02-23 00:00:00', '2002-08-06 00:00:00', '2003-02-13 00:00:00', '2003-03-10 00:00:00', '2003-12-17 00:00:00', '2001-07-27 00:00:00', '2004-04-29 00:00:00', '1993-08-20 00:00:00', '1998-08-24 00:00:00', '1997-01-07 00:00:00', '2003-09-19 00:00:00', '1994-05-24 00:00:00', '1995-11-03 00:00:00', '2001-10-08 00:00:00', '1997-08-28 00:00:00', '1997-08-11 00:00:00', '2003-06-25 00:00:00', '1993-05-26 00:00:00', '2002-11-21 00:00:00', '2001-06-28 00:00:00', '1996-07-03 00:00:00', '2002-05-14 00:00:00', '1999-06-08 00:00:00', '1996-06-03 00:00:00', '1994-05-06 00:00:00', '1994-03-08 00:00:00', '1997-03-24 00:00:00', '2001-09-11 00:00:00', '1997-11-14 00:00:00', '2001-08-20 00:00:00', '1998-09-18 00:00:00', '2004-02-15 00:00:00', '2000-03-06 00:00:00', '2004-10-27 00:00:00', '1993-09-13 00:00:00', '1998-08-20 00:00:00', '2001-02-27 00:00:00', '2001-06-15 00:00:00', '2004-11-12 00:00:00', '2003-02-20 00:00:00', '1996-11-12 00:00:00', '1994-01-14 00:00:00', '2003-08-25 00:00:00', '1996-06-17 00:00:00', '2001-11-13 00:00:00', '2002-06-05 00:00:00', '1995-02-02 00:00:00', '2005-05-10 00:00:00', '2002-08-14 00:00:00', '2003-05-06 00:00:00', '1997-09-03 00:00:00', '2003-11-22 00:00:00', '2003-05-20 00:00:00', '1999-02-05 00:00:00', '1996-08-02 00:00:00', '2000-09-27 00:00:00', '2003-09-30 00:00:00', '1998-02-03 00:00:00', '1996-05-07 00:00:00', '2001-05-07 00:00:00', '1996-12-30 00:00:00', '2001-02-26 00:00:00', '1999-03-31 00:00:00', '1997-03-25 00:00:00', '1999-04-15 00:00:00', '2001-09-05 00:00:00', '1994-08-19 00:00:00', '1997-06-09 00:00:00', '1994-06-24 00:00:00', '2000-06-21 00:00:00', '1996-03-20 00:00:00', '1997-02-27 00:00:00', '2002-04-24 00:00:00', '2004-11-10 00:00:00', '1993-07-14 00:00:00', '1995-11-07 00:00:00', '2004-04-24 00:00:00', '2002-09-16 00:00:00', '1995-11-02 00:00:00', '1998-05-05 00:00:00', '1995-08-29 00:00:00', '1994-09-07 00:00:00', '2003-07-14 00:00:00', '1996-10-21 00:00:00', '1994-06-10 00:00:00', '1998-03-18 00:00:00', '2000-09-15 00:00:00', '1995-11-09 00:00:00', '2002-04-03 00:00:00', '1999-01-08 00:00:00', '2000-02-22 00:00:00', '1993-03-19 00:00:00', '1995-11-06 00:00:00', '1996-12-19 00:00:00', '1998-01-08 00:00:00', '1997-03-27 00:00:00', '2004-02-04 00:00:00', '2004-07-15 00:00:00', '1995-01-26 00:00:00', '2004-09-11 00:00:00', '1996-06-25 00:00:00', '1996-01-17 00:00:00', '2004-05-21 00:00:00', '1994-05-10 00:00:00', '2004-08-09 00:00:00', '1995-04-05 00:00:00', '1993-11-15 00:00:00', '1997-04-18 00:00:00', '2005-02-27 00:00:00', '2000-03-21 00:00:00', '2004-07-02 00:00:00', '1996-10-26 00:00:00', '1993-12-27 00:00:00', '1999-01-26 00:00:00', '2001-10-04 00:00:00', '2004-11-11 00:00:00', '1999-07-13 00:00:00', '1997-06-30 00:00:00', '1995-03-31 00:00:00', '2004-12-10 00:00:00', '2005-02-11 00:00:00', '1993-11-10 00:00:00', '2001-03-06 00:00:00', '1997-07-11 00:00:00', '1995-11-30 00:00:00', '2001-09-18 00:00:00', '2001-10-12 00:00:00', '2003-07-03 00:00:00', '2005-02-06 00:00:00', '2005-02-25 00:00:00', '1993-02-16 00:00:00', '2004-12-01 00:00:00', '2000-04-14 00:00:00', '1996-12-03 00:00:00', '2002-08-21 00:00:00', '2001-03-05 00:00:00', '1996-11-11 00:00:00', '1997-02-14 00:00:00', '1993-09-02 00:00:00', '2005-02-01 00:00:00', '2004-07-26 00:00:00', '2001-05-22 00:00:00', '1998-01-17 00:00:00', '1998-06-30 00:00:00', '2004-03-29 00:00:00', '1998-01-28 00:00:00', '1998-03-12 00:00:00', '2001-01-12 00:00:00', '2002-08-01 00:00:00', '1997-04-09 00:00:00', '2002-03-05 00:00:00', '2003-04-25 00:00:00', '2003-08-05 00:00:00', '1993-09-27 00:00:00', '1994-08-26 00:00:00', '2003-04-08 00:00:00', '2001-12-11 00:00:00', '1994-07-21 00:00:00', '2001-12-05 00:00:00', '1998-11-06 00:00:00', '1996-07-29 00:00:00', '1995-03-08 00:00:00', '1996-07-08 00:00:00', '2001-03-23 00:00:00', '2002-07-18 00:00:00', '2004-11-23 00:00:00', '2001-07-30 00:00:00', '1997-07-08 00:00:00', '2004-03-16 00:00:00', '2001-11-23 00:00:00', '1994-07-11 00:00:00', '2001-06-07 00:00:00', '1995-10-02 00:00:00', '1998-01-23 00:00:00', '2001-09-26 00:00:00', '2004-03-02 00:00:00', '2001-07-19 00:00:00', '1996-05-06 00:00:00', '2001-03-08 00:00:00', '1998-01-06 00:00:00', '1994-04-12 00:00:00', '1995-06-22 00:00:00', '2000-04-04 00:00:00', '2003-03-07 00:00:00', '2003-11-02 00:00:00', '1999-12-15 00:00:00', '2001-09-14 00:00:00', '2004-11-05 00:00:00', '2003-10-25 00:00:00', '1997-11-22 00:00:00', '1998-06-05 00:00:00', '2000-10-10 00:00:00', '1998-02-23 00:00:00', '2004-02-25 00:00:00', '1994-03-02 00:00:00', '2000-10-27 00:00:00', '2002-09-06 00:00:00', '2004-01-05 00:00:00', '2003-05-05 00:00:00', '2003-03-01 00:00:00', '2005-02-12 00:00:00', '2004-06-16 00:00:00', '2004-04-02 00:00:00', '2004-03-25 00:00:00', '1998-04-03 00:00:00', '1997-12-01 00:00:00', '2001-05-18 00:00:00', '1997-12-30 00:00:00', '2001-10-17 00:00:00', '2004-03-14 00:00:00', '2002-05-29 00:00:00', '2002-01-24 00:00:00', '2004-09-23 00:00:00', '2001-08-14 00:00:00', '1999-02-11 00:00:00', '2000-08-10 00:00:00', '2005-05-06 00:00:00', '1996-11-07 00:00:00', '1996-08-15 00:00:00', '2003-12-15 00:00:00', '1996-05-17 00:00:00', '1995-02-10 00:00:00', '2000-12-22 00:00:00', '2000-04-20 00:00:00', '1996-02-13 00:00:00', '1995-08-24 00:00:00', '2004-08-19 00:00:00', '1998-12-16 00:00:00', '1993-02-08 00:00:00', '2002-07-29 00:00:00', '1997-12-29 00:00:00', '2004-03-24 00:00:00', '2004-07-20 00:00:00', '1999-05-21 00:00:00', '2003-02-18 00:00:00', '1994-01-25 00:00:00', '2004-02-13 00:00:00', '1997-11-05 00:00:00', '1996-10-15 00:00:00', '1999-03-18 00:00:00', '1998-06-08 00:00:00', '1996-01-26 00:00:00', '2001-06-18 00:00:00', '1996-11-04 00:00:00', '2001-05-15 00:00:00', '1994-01-28 00:00:00', '1994-06-30 00:00:00', '1999-06-04 00:00:00', '1994-07-20 00:00:00', '1995-12-01 00:00:00', '2005-05-09 00:00:00', '2005-03-09 00:00:00', '2004-11-02 00:00:00', '2003-09-10 00:00:00', '2003-10-09 00:00:00', '1994-02-24 00:00:00', '2004-09-16 00:00:00', '1994-05-16 00:00:00', '1994-05-03 00:00:00', '2002-01-07 00:00:00', '2000-08-23 00:00:00', '2004-05-05 00:00:00', '2004-08-10 00:00:00', '1995-11-15 00:00:00', '2004-03-23 00:00:00', '2004-09-07 00:00:00', '1997-01-06 00:00:00', '2003-05-27 00:00:00', '2004-06-30 00:00:00', '2001-10-30 00:00:00', '2004-04-15 00:00:00', '2002-08-08 00:00:00', '1993-12-29 00:00:00', '1994-09-14 00:00:00', '2003-07-15 00:00:00', '2002-07-22 00:00:00', '2001-03-20 00:00:00', '2004-12-02 00:00:00', '1995-07-13 00:00:00', '1997-01-24 00:00:00', '1993-06-08 00:00:00', '1998-07-28 00:00:00', '1999-05-31 00:00:00', '1996-02-07 00:00:00', '2004-08-17 00:00:00', '2001-10-31 00:00:00', '1996-01-10 00:00:00', '1994-09-02 00:00:00', '2004-06-07 00:00:00', '1997-04-17 00:00:00', '2000-05-22 00:00:00', '1993-11-19 00:00:00', '1996-11-21 00:00:00', '2002-05-15 00:00:00', '2004-05-14 00:00:00', '2004-12-12 00:00:00', '1999-02-22 00:00:00', '2003-04-14 00:00:00', '2001-03-19 00:00:00', '2002-01-11 00:00:00', '2001-06-20 00:00:00', '1995-09-22 00:00:00', '2003-06-05 00:00:00', '2002-09-11 00:00:00', '2002-12-19 00:00:00', '2004-05-26 00:00:00', '2004-05-04 00:00:00', '1999-01-11 00:00:00', '1999-05-26 00:00:00', '1995-06-21 00:00:00', '2001-03-01 00:00:00', '2002-08-20 00:00:00', '1993-08-04 00:00:00', '2000-08-03 00:00:00', '1999-05-10 00:00:00', '2003-02-19 00:00:00', '2001-12-14 00:00:00', '1995-12-28 00:00:00', '2001-09-13 00:00:00', '2004-05-11 00:00:00', '2003-07-18 00:00:00', '1995-07-14 00:00:00', '1993-05-04 00:00:00', '2001-08-28 00:00:00', '1997-03-26 00:00:00', '1994-08-09 00:00:00', '2002-01-03 00:00:00', '2003-11-09 00:00:00', '2000-08-09 00:00:00', '2000-10-26 00:00:00', '1996-06-27 00:00:00', '2002-07-10 00:00:00', '1997-10-08 00:00:00', '1996-04-30 00:00:00', '1997-03-04 00:00:00', '1993-09-20 00:00:00', '2003-11-24 00:00:00', '1993-03-03 00:00:00', '2003-11-26 00:00:00', '1997-07-24 00:00:00', '1997-02-11 00:00:00', '2002-06-26 00:00:00', '1997-09-29 00:00:00', '1999-09-14 00:00:00', '2004-10-26 00:00:00', '2002-05-31 00:00:00', '2000-05-03 00:00:00', '2004-03-27 00:00:00', '1999-07-02 00:00:00', '2002-09-09 00:00:00', '2004-09-17 00:00:00', '1994-07-22 00:00:00', '2004-03-08 00:00:00', '2005-02-07 00:00:00', '2001-08-29 00:00:00', '2004-10-25 00:00:00', '1994-01-27 00:00:00', '2004-03-30 00:00:00', '1993-09-01 00:00:00', '2004-09-24 00:00:00', '2000-07-04 00:00:00', '2002-04-02 00:00:00', '1993-02-15 00:00:00', '1997-02-06 00:00:00', '1998-02-12 00:00:00', '2004-08-20 00:00:00', '1995-10-30 00:00:00', '1994-07-19 00:00:00', '1992-12-30 00:00:00', '2000-11-13 00:00:00', '2001-05-16 00:00:00', '1995-12-06 00:00:00', '2000-03-08 00:00:00', '1997-11-12 00:00:00', '2003-12-22 00:00:00', '2000-06-27 00:00:00', '1998-12-01 00:00:00', '1997-04-01 00:00:00', '1999-07-22 00:00:00', '2000-05-23 00:00:00', '2004-02-17 00:00:00', '2005-04-09 00:00:00', '1997-06-14 00:00:00', '2003-11-03 00:00:00', '1997-01-22 00:00:00', '1996-05-10 00:00:00', '1995-10-18 00:00:00', '1995-04-19 00:00:00', '1993-02-03 00:00:00', '2001-05-30 00:00:00', '1993-09-09 00:00:00', '1999-02-10 00:00:00', '1996-05-20 00:00:00', '1995-03-09 00:00:00', '2003-12-09 00:00:00', '1995-08-18 00:00:00', '1995-05-23 00:00:00', '2004-06-25 00:00:00', '2001-11-20 00:00:00', '1995-03-02 00:00:00', '2004-09-30 00:00:00', '1996-10-14 00:00:00', '2002-10-09 00:00:00', '2001-09-04 00:00:00', '2005-03-17 00:00:00', '2000-10-09 00:00:00', '2001-05-04 00:00:00', '1998-01-16 00:00:00', '2003-11-25 00:00:00', '2003-12-21 00:00:00', '2004-10-22 00:00:00', '1993-02-12 00:00:00', '1993-02-01 00:00:00', '1997-03-07 00:00:00', '2001-09-21 00:00:00', '2001-03-28 00:00:00', '2001-06-22 00:00:00', '1999-11-11 00:00:00', '2000-08-28 00:00:00', '1994-08-11 00:00:00', '1999-07-05 00:00:00', '2004-12-20 00:00:00', '1994-12-29 00:00:00', '2003-11-28 00:00:00', '2003-05-18 00:00:00', '2000-02-17 00:00:00', '1997-03-06 00:00:00', '1998-12-11 00:00:00', '2002-12-23 00:00:00', '1993-01-04 00:00:00', '1999-07-15 00:00:00', '2004-06-22 00:00:00', '2002-01-22 00:00:00', '2000-03-13 00:00:00', '2005-04-25 00:00:00', '1998-07-14 00:00:00', '2003-08-26 00:00:00', '2003-11-12 00:00:00', '1995-06-08 00:00:00', '1995-07-31 00:00:00', '2004-07-09 00:00:00', '1995-08-10 00:00:00', '1998-05-18 00:00:00', '1997-12-18 00:00:00', '2003-10-21 00:00:00', '1999-03-10 00:00:00', '1997-06-02 00:00:00', '1997-08-15 00:00:00', '2004-04-04 00:00:00', '1997-10-24 00:00:00', '1996-10-04 00:00:00', '1993-06-09 00:00:00', '2001-11-26 00:00:00', '1993-12-23 00:00:00', '1993-03-31 00:00:00', '2003-01-21 00:00:00', '1993-07-09 00:00:00', '1997-06-07 00:00:00', '2002-03-27 00:00:00', '2003-10-17 00:00:00', '1997-10-27 00:00:00', '2000-09-25 00:00:00', '1993-03-22 00:00:00', '1994-03-21 00:00:00', '2004-09-21 00:00:00', '1997-05-02 00:00:00', '2001-09-06 00:00:00', '2004-01-21 00:00:00', '2000-05-29 00:00:00', '2003-10-20 00:00:00', '2001-04-23 00:00:00', '2000-10-12 00:00:00', '1995-02-07 00:00:00', '2004-08-31 00:00:00', '2003-11-14 00:00:00', '1996-10-07 00:00:00', '2002-11-26 00:00:00', '1998-07-07 00:00:00', '1998-09-11 00:00:00', '1995-10-04 00:00:00', '1996-03-21 00:00:00', '2003-11-06 00:00:00', '1999-01-23 00:00:00', '2004-04-01 00:00:00', '1998-02-24 00:00:00', '1993-03-16 00:00:00', '1994-12-21 00:00:00', '1999-06-30 00:00:00', '2002-04-04 00:00:00', '1997-01-23 00:00:00', '1997-01-30 00:00:00', '1997-05-10 00:00:00', '2005-01-21 00:00:00', '1997-10-23 00:00:00', '1996-09-20 00:00:00', '1997-09-04 00:00:00', '2002-10-25 00:00:00', '1994-10-25 00:00:00', '1999-10-18 00:00:00', '1998-12-29 00:00:00', '1993-01-20 00:00:00', '2000-07-13 00:00:00', '1996-10-09 00:00:00', '1993-10-29 00:00:00', '2004-01-07 00:00:00', '1994-10-27 00:00:00', '1999-01-16 00:00:00', '1994-04-21 00:00:00', '2004-03-20 00:00:00', '1994-01-13 00:00:00', '1995-07-21 00:00:00', '2001-07-17 00:00:00', '2005-03-10 00:00:00', '2002-09-10 00:00:00', '1999-08-06 00:00:00', '1999-04-07 00:00:00', '1997-09-19 00:00:00', '1998-07-09 00:00:00', '1995-04-03 00:00:00', '1995-01-23 00:00:00', '2003-09-27 00:00:00', '1998-11-12 00:00:00', '1998-03-10 00:00:00', '1994-10-11 00:00:00', '2003-07-21 00:00:00', '2000-06-29 00:00:00', '2004-07-13 00:00:00', '1998-12-07 00:00:00', '2003-07-17 00:00:00', '1995-06-23 00:00:00', '2003-02-11 00:00:00', '2000-04-05 00:00:00', '1997-05-05 00:00:00', '1997-12-09 00:00:00', '1995-11-22 00:00:00', '2000-11-03 00:00:00', '1996-05-24 00:00:00', '1993-02-19 00:00:00', '1996-01-29 00:00:00', '2002-07-03 00:00:00', '2000-07-31 00:00:00', '2002-03-01 00:00:00', '2001-04-18 00:00:00', '1999-04-21 00:00:00', '1997-04-08 00:00:00', '2003-03-04 00:00:00', '1995-08-17 00:00:00', '2001-05-10 00:00:00', '1993-10-26 00:00:00', '2000-02-24 00:00:00', '1997-12-03 00:00:00', '1997-10-20 00:00:00', '2003-08-06 00:00:00', '1993-01-22 00:00:00', '1996-03-07 00:00:00', '1996-05-03 00:00:00', '1998-07-17 00:00:00', '1996-02-19 00:00:00', '1994-04-20 00:00:00', '1994-12-02 00:00:00', '1994-05-20 00:00:00', '2004-01-04 00:00:00', '1997-06-28 00:00:00', '1994-03-29 00:00:00', '1997-04-25 00:00:00', '2004-12-17 00:00:00', '1996-08-14 00:00:00', '1993-09-16 00:00:00', '2004-01-18 00:00:00', '2005-04-15 00:00:00', '1996-05-13 00:00:00', '2003-05-19 00:00:00', '2005-01-29 00:00:00', '2003-04-11 00:00:00', '2003-06-12 00:00:00', '1996-12-11 00:00:00', '1996-06-04 00:00:00', '1998-03-09 00:00:00', '2004-08-23 00:00:00', '1994-12-19 00:00:00', '1995-10-20 00:00:00', '2004-11-13 00:00:00', '1994-07-13 00:00:00', '1999-10-05 00:00:00', '1996-08-16 00:00:00', '1998-03-05 00:00:00', '1996-05-23 00:00:00', '1995-12-07 00:00:00', '1998-04-07 00:00:00', '2005-03-14 00:00:00', '2005-02-24 00:00:00', '2004-09-22 00:00:00', '2005-03-11 00:00:00', '1998-08-21 00:00:00', '1997-03-17 00:00:00', '2002-05-10 00:00:00', '2002-06-17 00:00:00', '1997-09-01 00:00:00', '1997-07-09 00:00:00', '2004-01-16 00:00:00', '1993-04-13 00:00:00', '2004-08-08 00:00:00', '2004-01-27 00:00:00', '2005-03-15 00:00:00', '1993-10-04 00:00:00', '1993-10-18 00:00:00', '2000-11-30 00:00:00', '2004-04-05 00:00:00', '1996-01-23 00:00:00', '1994-05-26 00:00:00', '1997-03-05 00:00:00', '1997-02-20 00:00:00', '2002-01-09 00:00:00', '2004-11-04 00:00:00', '2004-11-19 00:00:00', '2004-05-12 00:00:00', '1994-05-13 00:00:00', '1994-01-18 00:00:00', '2001-09-25 00:00:00', '2004-05-02 00:00:00', '1997-10-29 00:00:00', '1996-05-08 00:00:00', '2003-06-30 00:00:00', '1994-06-09 00:00:00', '1997-10-21 00:00:00', '1997-12-19 00:00:00', '1994-03-07 00:00:00', '1993-08-02 00:00:00', '1994-03-28 00:00:00', '2000-05-30 00:00:00', '1998-05-12 00:00:00', '2003-01-16 00:00:00', '2004-02-10 00:00:00', '2003-06-20 00:00:00', '1996-06-24 00:00:00', '1999-02-09 00:00:00', '1993-01-26 00:00:00', '1999-06-01 00:00:00', '1993-03-23 00:00:00', '2003-05-08 00:00:00', '1996-12-04 00:00:00', '2003-12-03 00:00:00', '1998-11-30 00:00:00', '1997-04-21 00:00:00', '1997-07-01 00:00:00', '2001-12-06 00:00:00', '1994-06-21 00:00:00', '2005-03-21 00:00:00', '2004-07-06 00:00:00', '1996-04-02 00:00:00', '2000-12-28 00:00:00', '2003-08-20 00:00:00', '2000-10-24 00:00:00', '2003-10-29 00:00:00', '1999-01-14 00:00:00', '2002-08-29 00:00:00', '1996-03-06 00:00:00', '1997-02-19 00:00:00', '1996-07-01 00:00:00', '1994-11-30 00:00:00', '1997-04-19 00:00:00', '1996-06-13 00:00:00', '1995-09-04 00:00:00', '1995-02-03 00:00:00', '2001-01-16 00:00:00', '1993-11-29 00:00:00', '1995-02-16 00:00:00', '2000-08-18 00:00:00', '1998-08-25 00:00:00', '1992-12-28 00:00:00', '2003-12-12 00:00:00', '1995-12-05 00:00:00', '2003-10-01 00:00:00', '1993-07-01 00:00:00', '1994-01-03 00:00:00', '1997-09-12 00:00:00', '1999-02-17 00:00:00', '2000-04-13 00:00:00', '1998-11-05 00:00:00', '2003-04-04 00:00:00', '1995-10-31 00:00:00', '1995-03-21 00:00:00', '1996-11-20 00:00:00', '1994-05-17 00:00:00', '1997-01-13 00:00:00', '1998-10-15 00:00:00', '2004-05-30 00:00:00', '1994-01-04 00:00:00', '2000-10-13 00:00:00', '2002-04-23 00:00:00', '1997-10-15 00:00:00', '1998-09-17 00:00:00', '2003-07-29 00:00:00', '2004-10-28 00:00:00', '1996-02-15 00:00:00', '2003-09-14 00:00:00', '1998-10-09 00:00:00', '1994-09-27 00:00:00', '1998-10-12 00:00:00', '1995-09-08 00:00:00', '1994-09-01 00:00:00', '1998-08-07 00:00:00', '1994-11-23 00:00:00', '2003-08-22 00:00:00', '1993-07-06 00:00:00', '2001-11-16 00:00:00', '1995-09-01 00:00:00', '1994-11-21 00:00:00', '2003-12-30 00:00:00', '1993-04-03 00:00:00', '1995-04-21 00:00:00', '2002-02-25 00:00:00', '2004-02-03 00:00:00', '1998-02-25 00:00:00', '1999-09-17 00:00:00', '2001-02-22 00:00:00', '1997-04-15 00:00:00', '1995-04-04 00:00:00', '1997-10-16 00:00:00', '2001-05-14 00:00:00', '2001-11-15 00:00:00', '1996-04-15 00:00:00', '1993-02-18 00:00:00', '1999-09-10 00:00:00', '1994-03-23 00:00:00', '2003-12-02 00:00:00', '2002-09-04 00:00:00', '2003-01-23 00:00:00', '2000-09-28 00:00:00', '2005-02-23 00:00:00', '1999-01-28 00:00:00', '1998-12-02 00:00:00', '1999-06-23 00:00:00', '1993-09-28 00:00:00', '2001-08-13 00:00:00', '2004-01-08 00:00:00', '2002-01-08 00:00:00', '2004-05-24 00:00:00', '2002-04-29 00:00:00', '2001-07-10 00:00:00', '1997-08-22 00:00:00', '1994-01-07 00:00:00', '2001-06-05 00:00:00', '1998-04-08 00:00:00', '2002-04-08 00:00:00', '1998-01-20 00:00:00', '2001-10-16 00:00:00', '2002-02-05 00:00:00', '2003-04-02 00:00:00', '2000-10-23 00:00:00', '2004-08-15 00:00:00', '2001-05-25 00:00:00', '1994-08-18 00:00:00', '1999-02-08 00:00:00', '2002-10-04 00:00:00', '2005-02-09 00:00:00', '1999-11-19 00:00:00', '2000-12-21 00:00:00', '2005-01-24 00:00:00', '1993-08-12 00:00:00', '2002-12-03 00:00:00', '1996-12-02 00:00:00', '2002-01-29 00:00:00', '1995-03-28 00:00:00', '2002-12-04 00:00:00', '2001-08-06 00:00:00', '1998-01-02 00:00:00', '1995-02-21 00:00:00', '1999-02-23 00:00:00', '2003-07-25 00:00:00', '2002-07-16 00:00:00', '1995-01-09 00:00:00', '2003-10-03 00:00:00', '2001-02-01 00:00:00', '2000-10-16 00:00:00', '2002-06-25 00:00:00', '2004-04-23 00:00:00', '1997-02-03 00:00:00', '1994-03-24 00:00:00', '1996-01-22 00:00:00', '2004-07-14 00:00:00', '2003-01-07 00:00:00', '2003-12-08 00:00:00', '2003-12-11 00:00:00', '1993-01-07 00:00:00', '1994-10-24 00:00:00', '1999-02-26 00:00:00', '1996-04-03 00:00:00', '2003-06-11 00:00:00', '2003-06-02 00:00:00', '2004-08-03 00:00:00', '2003-03-28 00:00:00', '1999-05-27 00:00:00', '1997-05-21 00:00:00', '1995-12-04 00:00:00', '2002-02-22 00:00:00', '2000-09-21 00:00:00', '1998-05-02 00:00:00', '1994-02-22 00:00:00', '2002-11-19 00:00:00', '1996-05-22 00:00:00', '1994-08-03 00:00:00', '2002-02-20 00:00:00', '1994-07-29 00:00:00', '1994-05-18 00:00:00', '1993-12-28 00:00:00', '1993-11-18 00:00:00', '1998-09-22 00:00:00', '2000-11-23 00:00:00', '1995-08-31 00:00:00', '1999-08-02 00:00:00', '1994-03-03 00:00:00', '2000-06-30 00:00:00', '1997-11-19 00:00:00', '2004-05-25 00:00:00', '1996-11-28 00:00:00', '1993-09-15 00:00:00', '1997-05-20 00:00:00', '1993-01-27 00:00:00', '2003-12-13 00:00:00', '2004-09-29 00:00:00', '2004-12-28 00:00:00', '1994-06-22 00:00:00', '2003-06-16 00:00:00', '2004-02-20 00:00:00', '1994-02-04 00:00:00', '1996-11-15 00:00:00', '2003-06-03 00:00:00', '2001-03-29 00:00:00', '1998-05-13 00:00:00', '1997-08-04 00:00:00', '1999-02-04 00:00:00', '2004-03-04 00:00:00', '1996-03-05 00:00:00', '2005-01-11 00:00:00', '2000-05-16 00:00:00', '1994-08-02 00:00:00', '2002-07-04 00:00:00', '2000-09-22 00:00:00', '1997-12-17 00:00:00', '2002-09-20 00:00:00', '2002-12-02 00:00:00', '1995-03-27 00:00:00', '1996-06-10 00:00:00', '1994-08-08 00:00:00', '2004-03-17 00:00:00', '2004-12-11 00:00:00', '2000-04-07 00:00:00', '1996-02-26 00:00:00', '2004-01-12 00:00:00', '2003-02-03 00:00:00', '1999-09-09 00:00:00', '2000-02-11 00:00:00', '1999-01-06 00:00:00', '2005-03-19 00:00:00', '1998-01-29 00:00:00', '2002-07-11 00:00:00', '1996-01-15 00:00:00', '2001-04-11 00:00:00', '2000-09-18 00:00:00', '2001-12-10 00:00:00', '2003-09-21 00:00:00', '2001-10-23 00:00:00', '1998-05-07 00:00:00', '2000-04-18 00:00:00', '1997-08-20 00:00:00', '2000-12-04 00:00:00', '1995-09-28 00:00:00', '2001-07-20 00:00:00', '2000-08-31 00:00:00', '2001-05-08 00:00:00', '1993-12-16 00:00:00', '2004-02-12 00:00:00', '1992-12-17 00:00:00', '2004-10-11 00:00:00', '2004-10-06 00:00:00', '1998-11-18 00:00:00', '1996-10-18 00:00:00', '2003-03-24 00:00:00', '2004-04-25 00:00:00', '1996-08-12 00:00:00', '2003-04-17 00:00:00', '2001-08-02 00:00:00', '1998-04-22 00:00:00', '1996-02-29 00:00:00', '2004-09-10 00:00:00', '2004-08-13 00:00:00', '2003-12-10 00:00:00', '1994-03-22 00:00:00', '2005-04-26 00:00:00', '2001-07-25 00:00:00', '2004-11-30 00:00:00', '1997-11-25 00:00:00', '1995-08-25 00:00:00', '2003-04-07 00:00:00', '1992-12-18 00:00:00', '2002-03-22 00:00:00', '2003-07-27 00:00:00', '2005-01-27 00:00:00', '1999-01-18 00:00:00', '2004-08-22 00:00:00', '2001-02-12 00:00:00', '2000-11-14 00:00:00', '2002-12-17 00:00:00', '1999-05-14 00:00:00', '2004-08-30 00:00:00', '2002-03-26 00:00:00', '1994-11-22 00:00:00', '2001-12-18 00:00:00', '2001-08-08 00:00:00', '1996-08-05 00:00:00', '2003-02-10 00:00:00', '2004-06-15 00:00:00', '2003-09-11 00:00:00', '1999-06-22 00:00:00', '1996-04-26 00:00:00', '1997-04-11 00:00:00', '1997-01-25 00:00:00', '1995-03-10 00:00:00', '2004-06-11 00:00:00', '2004-12-16 00:00:00', '1995-03-30 00:00:00', '2003-02-17 00:00:00', '1993-01-28 00:00:00', '1995-10-11 00:00:00', '1997-07-23 00:00:00', '1996-07-10 00:00:00', '2004-03-12 00:00:00', '1996-05-02 00:00:00', '2002-10-02 00:00:00', '1997-05-15 00:00:00', '1994-04-26 00:00:00', '2005-01-18 00:00:00', '1996-03-19 00:00:00', '1994-08-31 00:00:00', '2000-05-11 00:00:00', '1997-11-06 00:00:00', '2001-08-23 00:00:00', '2002-11-25 00:00:00', '1997-11-08 00:00:00', '2004-01-19 00:00:00', '2004-04-06 00:00:00', '1992-12-14 00:00:00', '2001-01-11 00:00:00', '2001-08-01 00:00:00', '2005-04-04 00:00:00', '2001-05-02 00:00:00', '1995-07-17 00:00:00', '1997-06-12 00:00:00', '1993-06-28 00:00:00', '1999-05-07 00:00:00', '2003-11-27 00:00:00', '2003-05-02 00:00:00', '2000-07-03 00:00:00', '2001-04-24 00:00:00', '1999-09-28 00:00:00', '1998-10-19 00:00:00', '2000-11-17 00:00:00', '2003-08-11 00:00:00', '1995-10-10 00:00:00', '1995-03-15 00:00:00', '2001-11-28 00:00:00', '1997-12-05 00:00:00', '2004-09-20 00:00:00', '2003-11-20 00:00:00', '2000-06-05 00:00:00', '2004-09-01 00:00:00', '1991-08-30 00:00:00', '2000-03-14 00:00:00', '2004-06-10 00:00:00', '2000-05-18 00:00:00', '1996-08-08 00:00:00', '2005-02-14 00:00:00', '1993-12-09 00:00:00', '2003-03-09 00:00:00', '2002-02-27 00:00:00', '1993-02-11 00:00:00', '1993-01-11 00:00:00', '1993-06-07 00:00:00', '1999-05-17 00:00:00', '2005-02-17 00:00:00', '1999-02-18 00:00:00', '1999-09-13 00:00:00', '2004-10-04 00:00:00', '2004-03-09 00:00:00', '2000-04-26 00:00:00', '2001-05-23 00:00:00', '1998-08-12 00:00:00', '1997-03-14 00:00:00', '2004-07-28 00:00:00', '1993-07-16 00:00:00', '2004-06-19 00:00:00', '1995-04-10 00:00:00', '1994-05-25 00:00:00', '1998-05-25 00:00:00', '2002-02-04 00:00:00', '1994-03-14 00:00:00', '1994-06-17 00:00:00', '1997-02-01 00:00:00', '2004-09-14 00:00:00', '1996-01-18 00:00:00', '1998-06-06 00:00:00', '1993-11-26 00:00:00', '2004-04-13 00:00:00', '2001-07-31 00:00:00', '2000-11-15 00:00:00', '1999-09-22 00:00:00', '1996-11-13 00:00:00', '1995-12-11 00:00:00', '2002-10-22 00:00:00', '2004-07-27 00:00:00', '2004-08-27 00:00:00', '1997-09-17 00:00:00', '1994-04-27 00:00:00', '2002-04-25 00:00:00', '1994-01-19 00:00:00', '1996-10-02 00:00:00', '2003-09-29 00:00:00', '2003-02-06 00:00:00', '1993-09-21 00:00:00', '2004-03-26 00:00:00', '2003-05-25 00:00:00', '1993-11-04 00:00:00', '2001-05-09 00:00:00', '1998-12-09 00:00:00', '1995-05-19 00:00:00', '2001-08-10 00:00:00', '2004-05-28 00:00:00', '1995-12-13 00:00:00', '1997-10-22 00:00:00', '2002-06-10 00:00:00', '1998-11-24 00:00:00', '1994-03-04 00:00:00', '1996-10-31 00:00:00', '1999-05-19 00:00:00', '1993-11-30 00:00:00', '2000-03-30 00:00:00', '2002-02-28 00:00:00', '2002-06-04 00:00:00', '2003-06-26 00:00:00', '1999-07-09 00:00:00', '2002-02-11 00:00:00', '2004-02-16 00:00:00', '1994-02-15 00:00:00', '1994-04-11 00:00:00', '1996-12-05 00:00:00', '1997-01-10 00:00:00', '2002-03-21 00:00:00', '2002-02-13 00:00:00', '2000-08-30 00:00:00', '1993-02-23 00:00:00', '1995-09-20 00:00:00', '2003-02-14 00:00:00', '1993-04-15 00:00:00', '2003-07-12 00:00:00', '1999-06-15 00:00:00', '2003-09-07 00:00:00', '1994-06-01 00:00:00', '2003-08-18 00:00:00', '2003-03-27 00:00:00', '2000-07-21 00:00:00', '2001-01-08 00:00:00', '1997-08-12 00:00:00', '2004-02-06 00:00:00', '2000-05-09 00:00:00', '2000-10-17 00:00:00', '2001-07-23 00:00:00', '1999-07-21 00:00:00', '1995-05-24 00:00:00', '1999-09-15 00:00:00', '2005-01-17 00:00:00', '2004-11-27 00:00:00', '1998-09-10 00:00:00', '1996-12-07 00:00:00', '1995-08-21 00:00:00', '1994-09-15 00:00:00', '2003-12-14 00:00:00', '2005-04-22 00:00:00', '2003-11-30 00:00:00', '2003-11-07 00:00:00', '1999-08-13 00:00:00', '2000-07-07 00:00:00', '1996-10-10 00:00:00', '2003-12-07 00:00:00', '2000-07-11 00:00:00', '1996-01-19 00:00:00', '2000-11-29 00:00:00', '2004-05-10 00:00:00', '2002-01-15 00:00:00', '1999-03-15 00:00:00', '1993-10-21 00:00:00', '1996-01-16 00:00:00', '1999-07-27 00:00:00', '1994-03-16 00:00:00', '1995-05-15 00:00:00', '2004-05-19 00:00:00', '2005-01-16 00:00:00', '2002-07-08 00:00:00', '2000-10-30 00:00:00', '1994-03-18 00:00:00', '2000-11-16 00:00:00', '1997-07-29 00:00:00', '2001-10-05 00:00:00', '1996-11-05 00:00:00', '1993-08-31 00:00:00', '2002-10-07 00:00:00', '1997-07-15 00:00:00', '2000-07-27 00:00:00', '2000-05-04 00:00:00', '2003-05-16 00:00:00', '1995-08-22 00:00:00', '1994-04-15 00:00:00', '2002-07-12 00:00:00', '1996-12-18 00:00:00', '1996-02-08 00:00:00', '1997-02-13 00:00:00', '2001-02-15 00:00:00', '1994-08-01 00:00:00', '1997-05-12 00:00:00', '1996-08-09 00:00:00', '1996-11-18 00:00:00', '1997-07-22 00:00:00', '1997-01-31 00:00:00', '1999-11-26 00:00:00', '2002-06-28 00:00:00', '2000-10-21 00:00:00', '2002-04-12 00:00:00', '1996-06-11 00:00:00', '1997-12-16 00:00:00', '1996-11-09 00:00:00', '1996-11-16 00:00:00', '2001-03-12 00:00:00', '2004-11-01 00:00:00', '1995-10-16 00:00:00', '2001-06-25 00:00:00', '2001-04-25 00:00:00', '1998-02-16 00:00:00', '1999-01-29 00:00:00', '2000-10-06 00:00:00', '1994-10-28 00:00:00', '1994-12-08 00:00:00', '2003-06-27 00:00:00', '2000-10-05 00:00:00', '1996-02-27 00:00:00', '1996-03-12 00:00:00', '1996-08-06 00:00:00', '1992-02-12 00:00:00', '1998-11-04 00:00:00', '2004-06-04 00:00:00', '2003-02-24 00:00:00', '1998-04-27 00:00:00', '2001-08-27 00:00:00', '2003-10-30 00:00:00', '1994-06-13 00:00:00', '1994-04-06 00:00:00', '2001-07-12 00:00:00', '2001-12-12 00:00:00', '2004-02-02 00:00:00', '1998-03-19 00:00:00', '2003-01-14 00:00:00', '2003-09-16 00:00:00', '2003-12-05 00:00:00', '1995-10-12 00:00:00', '2003-04-29 00:00:00', '1993-08-10 00:00:00', '1994-06-08 00:00:00', '1993-12-17 00:00:00', '1995-12-27 00:00:00', '1994-11-08 00:00:00', '1993-12-20 00:00:00', '2002-01-21 00:00:00', '2002-11-08 00:00:00', '1996-01-24 00:00:00', '2000-03-31 00:00:00', '2004-12-19 00:00:00', '2003-01-24 00:00:00', '2002-08-26 00:00:00', '2001-05-31 00:00:00', '1996-09-24 00:00:00', '1993-05-21 00:00:00', '1996-04-19 00:00:00', '2005-03-05 00:00:00', '1999-05-04 00:00:00', '2001-05-03 00:00:00', '1996-12-17 00:00:00', '1994-07-15 00:00:00', '2005-04-05 00:00:00', '1995-02-14 00:00:00', '1994-12-16 00:00:00', '2004-10-19 00:00:00', '1998-10-22 00:00:00', '1992-12-22 00:00:00', '1994-08-15 00:00:00', '2005-04-24 00:00:00', '1998-02-26 00:00:00', '1999-08-12 00:00:00', '2003-07-22 00:00:00', '2001-06-29 00:00:00', '1996-10-25 00:00:00', '1997-09-30 00:00:00', '1995-07-28 00:00:00', '2002-03-28 00:00:00', '1997-01-28 00:00:00', '1995-09-29 00:00:00', '2005-03-16 00:00:00', '1999-07-16 00:00:00', '1996-07-22 00:00:00', '1994-04-08 00:00:00', '2004-11-09 00:00:00', '2004-04-10 00:00:00', '1996-03-11 00:00:00', '1998-07-22 00:00:00', '2001-06-26 00:00:00', '1994-02-21 00:00:00', '1995-08-09 00:00:00', '1995-08-03 00:00:00', '2001-09-07 00:00:00', '1998-02-19 00:00:00', '2002-05-21 00:00:00', '2000-06-06 00:00:00', '2003-09-13 00:00:00', '2002-06-14 00:00:00', '2000-11-22 00:00:00', '2003-05-13 00:00:00', '1998-07-30 00:00:00', '1997-05-07 00:00:00', '2004-04-20 00:00:00', '2002-09-12 00:00:00', '1996-10-23 00:00:00', '2001-06-11 00:00:00', '2003-01-17 00:00:00', '2002-03-11 00:00:00', '2005-01-13 00:00:00', '2000-12-08 00:00:00', '1997-07-28 00:00:00', '1999-01-05 00:00:00', '2000-06-23 00:00:00', '1995-02-13 00:00:00', '1997-02-07 00:00:00', '2003-08-07 00:00:00', '1994-09-30 00:00:00', '1997-08-13 00:00:00', '2004-01-06 00:00:00', '1999-09-06 00:00:00', '1997-05-13 00:00:00', '2002-06-06 00:00:00', '2004-09-05 00:00:00', '1999-10-22 00:00:00', '1996-10-28 00:00:00', '2004-04-30 00:00:00', '1994-01-11 00:00:00', '1995-01-11 00:00:00', '1998-05-19 00:00:00', '1997-05-24 00:00:00', '1996-04-23 00:00:00', '2003-08-04 00:00:00', '2002-03-19 00:00:00', '2003-07-26 00:00:00', '1995-05-05 00:00:00', '1993-10-25 00:00:00', '1993-06-25 00:00:00', '2002-05-06 00:00:00', '1996-11-08 00:00:00', '2000-05-15 00:00:00', '1995-12-08 00:00:00', '1993-07-05 00:00:00', '2003-08-14 00:00:00', '1997-10-10 00:00:00', '2002-06-21 00:00:00', '1994-12-15 00:00:00', '2000-11-09 00:00:00', '2001-01-10 00:00:00', '2001-10-10 00:00:00', '1998-03-25 00:00:00', '2002-12-20 00:00:00', '1998-11-25 00:00:00', '2002-08-13 00:00:00', '1993-08-30 00:00:00', '1994-09-08 00:00:00', '1999-04-26 00:00:00', '2005-04-07 00:00:00', '1998-04-24 00:00:00', '1994-03-31 00:00:00', '2003-10-28 00:00:00', '1996-01-25 00:00:00', '2003-01-02 00:00:00', '1993-04-16 00:00:00', '2001-07-03 00:00:00', '1995-09-12 00:00:00', '1996-01-02 00:00:00', '1998-08-26 00:00:00', '2002-02-18 00:00:00', '2003-05-14 00:00:00', '2001-07-16 00:00:00', '2002-08-22 00:00:00', '1994-10-17 00:00:00', '2003-07-10 00:00:00', '1997-11-07 00:00:00', '2003-04-13 00:00:00', '2003-05-22 00:00:00', '1997-04-16 00:00:00', '2000-07-12 00:00:00', '2001-02-09 00:00:00', '2002-11-04 00:00:00', '1996-10-03 00:00:00', '2001-02-19 00:00:00', '1995-12-12 00:00:00', '2004-10-15 00:00:00', '1995-07-26 00:00:00', '1998-08-11 00:00:00', '1996-11-27 00:00:00', '1995-09-21 00:00:00', '1998-04-02 00:00:00', '1994-09-19 00:00:00', '2001-05-21 00:00:00', '2003-05-04 00:00:00', '1997-04-03 00:00:00', '2003-08-28 00:00:00', '1993-01-06 00:00:00', '1996-05-30 00:00:00', '2003-08-08 00:00:00', '2001-08-15 00:00:00', '2001-04-26 00:00:00', '2005-04-27 00:00:00', '2004-03-03 00:00:00', '1998-08-31 00:00:00', '2002-01-10 00:00:00', '1996-04-16 00:00:00', '1996-11-06 00:00:00', '1997-09-23 00:00:00', '2000-07-28 00:00:00', '2003-03-25 00:00:00', '1997-06-13 00:00:00', '1997-12-13 00:00:00', '2000-10-11 00:00:00', '2001-06-06 00:00:00', '1996-01-31 00:00:00', '2003-04-01 00:00:00', '2003-02-04 00:00:00', '2001-05-11 00:00:00', '2003-11-13 00:00:00', '1998-09-28 00:00:00', '1994-05-19 00:00:00', '1994-09-26 00:00:00', '1998-03-31 00:00:00', '1996-05-31 00:00:00', '1998-03-11 00:00:00', '1999-05-03 00:00:00', '1996-11-14 00:00:00', '2003-01-09 00:00:00', '2005-03-18 00:00:00', '1995-01-27 00:00:00', '1994-01-17 00:00:00', '1996-08-01 00:00:00', '1998-12-23 00:00:00', '2003-06-10 00:00:00', '1999-06-16 00:00:00', '2001-07-06 00:00:00', '2000-11-20 00:00:00', '1994-07-14 00:00:00', '2002-02-07 00:00:00', '2001-08-22 00:00:00', '2000-05-17 00:00:00', '2001-05-17 00:00:00', '2002-08-07 00:00:00', '1997-11-27 00:00:00', '1994-08-12 00:00:00', '1998-11-27 00:00:00', '2001-06-08 00:00:00', '1993-10-11 00:00:00', '2005-04-01 00:00:00', '2002-12-30 00:00:00', '1999-06-17 00:00:00', '1995-08-16 00:00:00', '2002-12-18 00:00:00', '2001-07-11 00:00:00', '1998-01-21 00:00:00', '1995-10-05 00:00:00', '2004-07-22 00:00:00', '1998-10-05 00:00:00', '2000-05-12 00:00:00', '1994-06-14 00:00:00', '2004-02-26 00:00:00', '1995-08-07 00:00:00', '2002-06-12 00:00:00', '2001-03-07 00:00:00', '1995-02-28 00:00:00', '1998-04-21 00:00:00', '2001-11-06 00:00:00', '1997-09-05 00:00:00', '1993-06-14 00:00:00', '2001-05-28 00:00:00', '2004-03-07 00:00:00', '1996-05-21 00:00:00', '1996-07-11 00:00:00', '2004-01-26 00:00:00', '1998-11-03 00:00:00', '2001-03-02 00:00:00', '2003-03-03 00:00:00', '2003-04-16 00:00:00', '2005-04-28 00:00:00', '2000-06-14 00:00:00', '2005-02-04 00:00:00', '1997-01-02 00:00:00', '2004-10-20 00:00:00', '2005-03-30 00:00:00', '2000-03-03 00:00:00', '1998-11-17 00:00:00', '1999-10-07 00:00:00', '2001-10-26 00:00:00', '1997-12-06 00:00:00', '2002-01-23 00:00:00', '2003-01-08 00:00:00', '1997-04-24 00:00:00', '1993-02-22 00:00:00', '1994-06-03 00:00:00', '1994-07-25 00:00:00', '2003-09-09 00:00:00', '1995-03-01 00:00:00', '1994-11-11 00:00:00', '2004-11-24 00:00:00', '2004-11-18 00:00:00', '1997-12-27 00:00:00', '1993-09-03 00:00:00', '1993-08-17 00:00:00', '1993-12-07 00:00:00', '1995-09-11 00:00:00', '2000-07-20 00:00:00', '2005-04-19 00:00:00', '1994-02-08 00:00:00', '1996-12-14 00:00:00', '2000-10-31 00:00:00', '2005-04-21 00:00:00', '2000-10-04 00:00:00', '2002-09-18 00:00:00', '1996-02-06 00:00:00', '1995-09-18 00:00:00', '1998-12-22 00:00:00', '1995-04-06 00:00:00', '2004-12-30 00:00:00', '1994-11-24 00:00:00', '1994-02-16 00:00:00', '2001-09-17 00:00:00', '1994-11-02 00:00:00', '1998-07-15 00:00:00', '2002-07-31 00:00:00', '1994-04-19 00:00:00', '1993-11-05 00:00:00', '2003-01-30 00:00:00', '1995-12-21 00:00:00', '1999-07-29 00:00:00', '1996-02-23 00:00:00', '2003-06-22 00:00:00', '1998-12-28 00:00:00', '1994-11-04 00:00:00', '2000-04-25 00:00:00', '1996-09-27 00:00:00', '2001-02-13 00:00:00', '1996-06-14 00:00:00', '1996-01-04 00:00:00', '1996-10-16 00:00:00', '2005-01-20 00:00:00', '1999-01-19 00:00:00', '1994-07-27 00:00:00', '1996-07-09 00:00:00', '2002-08-27 00:00:00', '1999-08-25 00:00:00', '2002-10-01 00:00:00', '2002-05-24 00:00:00', '1997-04-02 00:00:00', '1993-06-18 00:00:00', '1997-01-18 00:00:00', '1996-05-14 00:00:00', '2003-05-26 00:00:00', '2004-09-18 00:00:00', '1999-09-08 00:00:00', '2002-08-09 00:00:00', '1995-01-10 00:00:00', '1996-03-01 00:00:00', '1993-05-28 00:00:00', '2003-11-10 00:00:00', '2002-06-11 00:00:00', '2000-03-02 00:00:00', '2003-02-26 00:00:00', '1995-08-28 00:00:00', '2005-04-08 00:00:00', '1997-10-14 00:00:00', '1997-07-31 00:00:00', '1993-05-07 00:00:00', '1996-05-29 00:00:00', '2002-04-22 00:00:00', '1994-08-29 00:00:00', '1998-10-31 00:00:00', '2003-06-23 00:00:00', '1994-10-06 00:00:00', '2003-08-10 00:00:00', '1999-08-27 00:00:00', '1996-07-25 00:00:00', '2002-04-30 00:00:00', '1999-07-23 00:00:00', '2002-04-09 00:00:00', '1998-02-09 00:00:00', '1994-07-26 00:00:00', '2001-01-29 00:00:00', '1999-06-21 00:00:00', '2001-01-31 00:00:00', '1997-03-18 00:00:00', '1993-04-07 00:00:00', '1998-03-30 00:00:00', '1999-02-25 00:00:00', '2001-12-19 00:00:00', '2005-01-31 00:00:00', '2005-02-15 00:00:00', '2002-09-19 00:00:00', '1993-11-08 00:00:00', '1996-12-23 00:00:00', '1993-02-02 00:00:00', '1995-11-14 00:00:00', '1996-10-29 00:00:00', '1999-05-06 00:00:00', '1999-03-03 00:00:00', '2004-06-29 00:00:00', '1994-10-05 00:00:00', '2004-02-09 00:00:00', '2000-08-25 00:00:00', '2004-05-03 00:00:00', '2004-03-06 00:00:00', '1996-04-09 00:00:00', '2001-08-16 00:00:00', '1997-11-18 00:00:00', '1999-01-25 00:00:00', '1993-09-08 00:00:00', '2002-07-17 00:00:00', '2002-07-30 00:00:00', '2000-02-18 00:00:00', '1999-05-25 00:00:00', '2001-11-27 00:00:00', '2000-04-10 00:00:00', '1998-09-21 00:00:00', '1996-05-15 00:00:00', '2001-11-19 00:00:00', '2000-09-07 00:00:00', '2004-01-22 00:00:00', '2003-08-02 00:00:00', '2003-07-01 00:00:00', '1998-03-20 00:00:00', '1995-09-07 00:00:00', '1995-11-24 00:00:00', '2004-04-09 00:00:00', '2002-05-08 00:00:00', '1995-03-24 00:00:00', '2005-05-02 00:00:00', '1994-03-10 00:00:00', '1999-06-28 00:00:00', '1998-07-23 00:00:00', '1998-10-20 00:00:00', '1994-04-18 00:00:00', '2001-06-21 00:00:00', '2005-02-02 00:00:00', '1995-11-28 00:00:00', '1999-02-16 00:00:00', '2000-02-25 00:00:00', '1996-02-05 00:00:00', '1996-12-20 00:00:00', '1999-07-08 00:00:00', '1993-07-02 00:00:00', '1998-04-16 00:00:00', '1999-04-08 00:00:00', '2002-10-28 00:00:00', '2003-02-25 00:00:00', '2002-03-06 00:00:00', '2002-01-28 00:00:00', '2005-02-21 00:00:00', '2004-10-17 00:00:00', '1997-10-30 00:00:00', '1996-09-19 00:00:00', '2004-03-18 00:00:00', '1998-01-05 00:00:00', '2000-09-26 00:00:00', '2004-09-06 00:00:00', '1995-03-29 00:00:00', '2000-06-28 00:00:00', '1996-08-10 00:00:00', '2003-06-13 00:00:00', '1994-11-07 00:00:00', '2004-10-13 00:00:00', '1994-06-29 00:00:00', '2003-06-21 00:00:00', '1995-07-12 00:00:00', '2003-07-08 00:00:00', '2003-07-28 00:00:00', '2003-05-12 00:00:00', '1995-05-22 00:00:00', '1993-09-10 00:00:00', '2004-03-19 00:00:00', '1996-10-30 00:00:00', '1998-07-13 00:00:00', '2004-04-14 00:00:00', '1994-05-27 00:00:00', '2005-03-03 00:00:00', '2003-05-29 00:00:00', '1999-10-04 00:00:00', '1997-07-14 00:00:00', '1996-09-30 00:00:00', '1999-10-27 00:00:00', '2003-07-07 00:00:00', '1999-06-02 00:00:00', '1999-09-29 00:00:00', '1996-07-31 00:00:00', '1997-07-18 00:00:00', '2001-05-29 00:00:00', '1995-02-15 00:00:00', '2003-04-15 00:00:00', '2004-11-22 00:00:00', '1997-07-21 00:00:00', '1996-02-14 00:00:00', '1998-10-28 00:00:00', '1999-10-01 00:00:00', '2003-02-12 00:00:00', '1996-05-28 00:00:00', '2004-05-06 00:00:00', '2001-10-18 00:00:00', '1998-02-27 00:00:00', '1995-08-23 00:00:00', '1997-09-18 00:00:00', '2003-08-01 00:00:00', '1998-05-06 00:00:00', '1994-01-06 00:00:00', '1998-07-29 00:00:00', '1999-09-20 00:00:00', '1999-08-18 00:00:00', '2002-02-19 00:00:00', '2002-06-27 00:00:00', '1998-11-02 00:00:00', '1994-04-07 00:00:00', '1994-07-28 00:00:00', '2000-11-21 00:00:00', '2000-05-10 00:00:00', '2005-03-31 00:00:00', '2003-01-22 00:00:00', '1997-12-15 00:00:00', '2003-04-10 00:00:00', '2000-06-07 00:00:00', '2003-03-16 00:00:00', '1998-09-14 00:00:00', '1997-10-06 00:00:00', '2001-10-25 00:00:00', '1997-08-14 00:00:00', '2001-04-09 00:00:00', '1993-08-09 00:00:00', '2003-06-17 00:00:00', '1998-08-19 00:00:00', '1998-11-19 00:00:00', '1997-04-23 00:00:00', '2002-10-11 00:00:00', '2004-03-21 00:00:00', '1996-06-19 00:00:00', '2001-03-09 00:00:00', '1993-12-03 00:00:00', '2002-07-09 00:00:00', '1997-09-24 00:00:00', '1995-04-12 00:00:00', '2000-02-29 00:00:00', '1999-08-09 00:00:00', '1995-03-16 00:00:00', '1997-11-11 00:00:00', '1996-06-26 00:00:00', '2003-09-22 00:00:00', '1999-07-26 00:00:00', '1995-01-20 00:00:00', '1996-07-02 00:00:00', '1998-06-02 00:00:00', '2001-09-03 00:00:00', '2002-08-12 00:00:00', '2003-10-31 00:00:00', '1995-12-19 00:00:00', '2002-10-17 00:00:00', '2002-01-17 00:00:00', '1998-01-15 00:00:00', '1999-05-11 00:00:00', '2002-08-15 00:00:00', '2003-09-02 00:00:00', '1993-07-07 00:00:00', '1993-06-03 00:00:00', '1999-08-04 00:00:00', '1999-08-11 00:00:00', '2000-09-11 00:00:00', '1996-02-28 00:00:00', '1993-12-08 00:00:00', '2000-12-07 00:00:00', '2003-04-09 00:00:00', '1993-06-30 00:00:00', '2004-03-28 00:00:00', '2002-11-12 00:00:00', '1999-04-23 00:00:00', '1997-05-17 00:00:00', '1993-01-25 00:00:00', '1995-04-27 00:00:00', '1996-11-22 00:00:00', '2004-03-22 00:00:00', '1996-07-30 00:00:00', '2004-09-03 00:00:00', '1997-01-29 00:00:00', '2001-03-27 00:00:00', '2004-01-29 00:00:00', '1995-06-28 00:00:00', '1999-03-25 00:00:00', '1993-02-24 00:00:00', '1995-10-09 00:00:00', '1996-03-16 00:00:00', '1999-05-05 00:00:00', '2004-12-08 00:00:00', '1997-09-08 00:00:00', '2004-06-14 00:00:00', '1998-08-06 00:00:00', '1998-10-30 00:00:00', '1998-08-03 00:00:00', '2001-11-12 00:00:00', '2000-07-19 00:00:00', '1994-08-16 00:00:00', '1996-03-13 00:00:00', '2004-11-08 00:00:00', '2001-06-13 00:00:00', '1993-11-16 00:00:00', '2001-11-14 00:00:00', '2002-04-10 00:00:00', '2002-06-24 00:00:00', '2003-07-04 00:00:00', '2000-07-05 00:00:00', '2003-04-23 00:00:00', '2001-12-17 00:00:00', '1993-05-19 00:00:00', '2003-12-31 00:00:00', '2004-04-16 00:00:00', '1993-06-11 00:00:00', '2004-05-15 00:00:00', '1995-11-27 00:00:00', '1994-06-15 00:00:00', '2001-10-01 00:00:00', '1997-06-11 00:00:00', '1996-04-29 00:00:00', '2002-11-07 00:00:00', '2004-01-17 00:00:00', '1998-07-01 00:00:00', '1995-03-03 00:00:00', '1997-03-11 00:00:00', '2002-04-18 00:00:00', '2001-04-05 00:00:00', '2002-02-06 00:00:00', '2002-11-06 00:00:00', '2002-07-24 00:00:00', '2004-04-11 00:00:00', '2002-06-19 00:00:00', '2001-06-27 00:00:00', '2003-10-16 00:00:00', '2000-08-21 00:00:00', '1997-08-19 00:00:00', '2003-09-24 00:00:00', '1995-09-25 00:00:00', '2003-08-19 00:00:00', '1998-01-26 00:00:00', '1993-11-02 00:00:00', '2001-07-26 00:00:00', '1998-05-11 00:00:00', '1999-06-07 00:00:00', '2002-09-03 00:00:00', '2001-07-13 00:00:00', '1997-07-30 00:00:00', '2000-09-12 00:00:00', '2002-05-17 00:00:00', '1999-06-09 00:00:00', '1997-10-25 00:00:00', '2001-02-21 00:00:00', '2000-11-07 00:00:00', '1998-03-03 00:00:00', '1997-05-26 00:00:00', '1999-02-03 00:00:00', '1999-07-20 00:00:00', '2001-11-02 00:00:00', '2000-08-08 00:00:00', '2004-05-13 00:00:00', '1998-10-06 00:00:00', '2000-12-14 00:00:00', '2005-03-01 00:00:00', '2005-03-25 00:00:00', '1998-06-09 00:00:00', '1998-10-29 00:00:00', '1999-01-04 00:00:00', '2003-03-13 00:00:00', '2002-09-26 00:00:00', '1993-03-20 00:00:00', '1994-05-09 00:00:00', '2004-01-15 00:00:00', '1997-02-18 00:00:00', '1997-09-25 00:00:00', '2002-03-07 00:00:00', '1999-03-17 00:00:00', '1999-07-06 00:00:00', '2004-06-18 00:00:00', '2003-08-13 00:00:00', '2003-03-30 00:00:00', '1998-03-13 00:00:00', '1996-04-24 00:00:00', '1994-09-21 00:00:00', '2002-11-15 00:00:00', '2004-10-24 00:00:00', '1994-08-25 00:00:00', '2000-11-10 00:00:00', '1995-05-17 00:00:00', '1996-02-12 00:00:00', '1998-06-04 00:00:00', '1998-07-20 00:00:00', '2002-01-02 00:00:00', '2002-09-13 00:00:00', '2000-12-11 00:00:00', '1995-09-19 00:00:00', '1999-04-22 00:00:00', '2004-04-19 00:00:00', '2001-07-24 00:00:00', '2004-06-27 00:00:00', '1995-10-06 00:00:00', '2000-09-13 00:00:00', '2004-10-01 00:00:00', '2004-06-17 00:00:00', '1994-01-26 00:00:00', '2003-03-12 00:00:00', '1995-07-20 00:00:00', '1997-07-02 00:00:00', '1995-12-22 00:00:00', '1998-09-03 00:00:00', '1997-01-15 00:00:00', '2002-11-27 00:00:00', '2003-10-15 00:00:00', '2005-02-18 00:00:00', '2003-04-27 00:00:00', '1997-07-17 00:00:00', '1995-05-26 00:00:00', '1998-05-23 00:00:00', '2001-11-30 00:00:00', '2004-02-23 00:00:00', '1995-01-13 00:00:00', '1995-08-14 00:00:00', '2001-03-13 00:00:00', '1997-09-09 00:00:00', '2000-09-04 00:00:00', '1997-02-24 00:00:00', '1996-03-18 00:00:00', '1997-01-09 00:00:00', '1995-04-28 00:00:00', '2000-08-15 00:00:00', '1992-12-23 00:00:00', '2004-01-02 00:00:00', '2003-11-29 00:00:00', '1994-07-08 00:00:00', '1998-05-20 00:00:00', '2003-09-05 00:00:00', '2001-02-14 00:00:00', '1997-12-11 00:00:00', '1994-10-18 00:00:00', '1996-09-26 00:00:00', '2003-11-11 00:00:00', '1998-04-15 00:00:00', '2002-11-20 00:00:00', '2002-09-25 00:00:00', '1997-11-10 00:00:00', '2004-01-14 00:00:00', '2002-10-29 00:00:00', '1997-05-14 00:00:00', '2003-12-04 00:00:00', '2004-01-13 00:00:00', '2002-07-01 00:00:00', '2000-03-09 00:00:00', '2000-03-07 00:00:00', '2001-01-22 00:00:00', '2004-07-17 00:00:00', '2002-10-14 00:00:00', '2001-10-29 00:00:00', '2002-05-22 00:00:00', '1998-07-06 00:00:00', '2004-06-20 00:00:00', '2004-09-28 00:00:00', '1996-06-07 00:00:00', '2003-03-14 00:00:00', '1995-10-13 00:00:00', '2003-08-17 00:00:00', '2003-10-27 00:00:00', '2000-10-19 00:00:00', '2000-06-19 00:00:00', '2003-09-23 00:00:00', '2004-07-08 00:00:00', '1995-07-19 00:00:00', '1998-12-14 00:00:00', '1996-08-13 00:00:00', '1997-06-26 00:00:00', '1996-05-09 00:00:00', '1997-06-06 00:00:00', '2002-10-18 00:00:00', '1995-09-27 00:00:00', '1995-03-22 00:00:00', '2004-06-03 00:00:00', '1997-11-13 00:00:00', '2002-11-29 00:00:00', '1998-03-26 00:00:00', '1993-05-24 00:00:00', '2003-03-20 00:00:00', '1997-10-01 00:00:00', '2002-09-30 00:00:00', '2003-08-15 00:00:00', '1995-04-13 00:00:00', '1998-06-03 00:00:00', '2004-12-21 00:00:00', '1997-05-03 00:00:00', '1994-12-23 00:00:00', '2002-02-14 00:00:00', '1993-08-25 00:00:00', '2004-12-22 00:00:00', '1995-02-22 00:00:00', '2002-12-12 00:00:00', '1994-09-23 00:00:00', '1998-04-25 00:00:00', '1999-01-13 00:00:00', '2003-06-19 00:00:00', '1994-11-09 00:00:00', '1994-05-05 00:00:00', '1999-06-14 00:00:00', '2002-09-17 00:00:00', '1999-01-27 00:00:00', '1995-07-25 00:00:00', '1998-01-10 00:00:00', '2001-10-09 00:00:00', '1999-01-15 00:00:00', '2002-12-09 00:00:00', '1998-03-02 00:00:00', '2003-02-07 00:00:00', '1996-10-22 00:00:00', '1998-08-18 00:00:00', '2003-11-19 00:00:00', '2000-12-19 00:00:00', '2005-03-26 00:00:00', '2001-01-03 00:00:00', '1998-04-17 00:00:00', '2004-05-17 00:00:00', '2001-10-19 00:00:00', '2000-11-08 00:00:00', '1998-07-21 00:00:00', '2002-03-25 00:00:00', '2000-08-02 00:00:00', '1993-08-06 00:00:00', '2004-08-26 00:00:00', '1998-02-04 00:00:00', '2004-10-02 00:00:00', '1995-05-12 00:00:00', '1997-01-03 00:00:00', '1999-04-20 00:00:00', '2003-07-23 00:00:00', '2003-01-31 00:00:00', '1999-02-24 00:00:00', '2003-12-29 00:00:00', '1994-08-04 00:00:00', '1997-12-08 00:00:00', '1993-04-14 00:00:00', '2002-11-18 00:00:00', '1995-03-13 00:00:00', '1994-10-26 00:00:00', '1999-02-15 00:00:00', '1997-07-03 00:00:00', '1999-05-28 00:00:00', '2001-09-20 00:00:00', '2005-05-04 00:00:00', '1998-12-30 00:00:00', '1999-11-23 00:00:00', '1995-10-25 00:00:00', '2003-07-24 00:00:00', '2004-08-11 00:00:00', '1994-07-07 00:00:00', '1995-10-26 00:00:00', '1993-02-14 00:00:00', '2001-06-19 00:00:00', '2004-11-26 00:00:00', '1994-09-28 00:00:00', '2002-06-18 00:00:00', '1999-01-12 00:00:00', '2003-03-21 00:00:00'}\n"
     ]
    },
    {
     "name": "stdout",
     "output_type": "stream",
     "text": [
      "EINGEZOGENAM_HH_JAHR contains values:  {1971.0, 1984.0, 1986.0, 1987.0, 1988.0, 1989.0, 1990.0, 1991.0, 1992.0, 1993.0, 1994.0, 1995.0, 1996.0, 1997.0, 1998.0, 1999.0, 2000.0, 2001.0, 2002.0, 2003.0, 2004.0, 2005.0, 2006.0, 2007.0, 2008.0, 2009.0, 2010.0, 2011.0, 2012.0, 2013.0, 2014.0, 2015.0, 2016.0, 2017.0, 2018.0, 1900.0, 1904.0}\n",
      "EWDICHTE contains values:  {1.0, 2.0, 3.0, 4.0, 5.0, 6.0}\n",
      "FINANZ_ANLEGER contains values:  {1, 2, 3, 4, 5}\n",
      "FINANZ_HAUSBAUER contains values:  {1, 2, 3, 4, 5}\n",
      "FINANZ_MINIMALIST contains values:  {1, 2, 3, 4, 5}\n",
      "FINANZ_SPARER contains values:  {1, 2, 3, 4, 5}\n",
      "FINANZ_UNAUFFAELLIGER contains values:  {1, 2, 3, 4, 5}\n",
      "FINANZ_VORSORGER contains values:  {1, 2, 3, 4, 5}\n",
      "FINANZTYP contains values:  {1, 2, 3, 4, 5, 6}\n",
      "FIRMENDICHTE contains values:  {1.0, 2.0, 3.0, 4.0, 5.0}\n",
      "GEBAEUDETYP contains values:  {1.0, 2.0, 3.0, 4.0, 5.0, 6.0, 8.0}\n",
      "GEBAEUDETYP_RASTER contains values:  {1.0, 2.0, 3.0, 4.0, 5.0}\n",
      "GEBURTSJAHR contains values:  {0, 1900, 1904, 1905, 1906, 1907, 1908, 1909, 1910, 1911, 1912, 1913, 1914, 1915, 1916, 1917, 1918, 1919, 1920, 1921, 1922, 1923, 1924, 1925, 1926, 1927, 1928, 1929, 1930, 1931, 1932, 1933, 1934, 1935, 1936, 1937, 1938, 1939, 1940, 1941, 1942, 1943, 1944, 1945, 1946, 1947, 1948, 1949, 1950, 1951, 1952, 1953, 1954, 1955, 1956, 1957, 1958, 1959, 1960, 1961, 1962, 1963, 1964, 1965, 1966, 1967, 1968, 1969, 1970, 1971, 1972, 1973, 1974, 1975, 1976, 1977, 1978, 1979, 1980, 1981, 1982, 1983, 1984, 1985, 1986, 1987, 1988, 1989, 1990, 1991, 1992, 1993, 1994, 1995, 1996, 1997, 1998, 1999, 2000, 2001, 2002, 2003, 2004, 2005, 2006, 2007, 2008, 2009, 2010, 2011, 2012, 2013, 2014, 2015, 2016, 2017}\n",
      "GEMEINDETYP contains values:  {40.0, 11.0, 12.0, 50.0, 21.0, 22.0, 30.0}\n",
      "GFK_URLAUBERTYP contains values:  {1.0, 2.0, 3.0, 4.0, 5.0, 6.0, 7.0, 8.0, 9.0, 10.0, 11.0, 12.0}\n",
      "GREEN_AVANTGARDE contains values:  {0, 1}\n",
      "HEALTH_TYP contains values:  {1.0, 2.0, 3.0}\n",
      "HH_DELTA_FLAG contains values:  {0.0, 1.0}\n",
      "HH_EINKOMMEN_SCORE contains values:  {1.0, 2.0, 3.0, 4.0, 5.0, 6.0}\n",
      "INNENSTADT contains values:  {1.0, 2.0, 3.0, 4.0, 5.0, 6.0, 7.0, 8.0}\n",
      "KBA05_ALTER1 contains values:  {0.0, 1.0, 2.0, 3.0, 4.0}\n",
      "KBA05_ALTER2 contains values:  {1.0, 2.0, 3.0, 4.0, 5.0}\n",
      "KBA05_ALTER3 contains values:  {1.0, 2.0, 3.0, 4.0, 5.0}\n",
      "KBA05_ALTER4 contains values:  {0.0, 1.0, 2.0, 3.0, 4.0, 5.0}\n",
      "KBA05_ANHANG contains values:  {0.0, 1.0, 2.0, 3.0}\n",
      "KBA05_ANTG1 contains values:  {0.0, 1.0, 2.0, 3.0, 4.0}\n",
      "KBA05_ANTG2 contains values:  {0.0, 1.0, 2.0, 3.0, 4.0}\n",
      "KBA05_ANTG3 contains values:  {0.0, 1.0, 2.0, 3.0}\n",
      "KBA05_ANTG4 contains values:  {0.0, 1.0, 2.0}\n",
      "KBA05_AUTOQUOT contains values:  {1.0, 2.0, 3.0, 4.0, 5.0, 9.0}\n",
      "KBA05_CCM1 contains values:  {1.0, 2.0, 3.0, 4.0, 5.0}\n",
      "KBA05_CCM2 contains values:  {1.0, 2.0, 3.0, 4.0, 5.0}\n",
      "KBA05_CCM3 contains values:  {1.0, 2.0, 3.0, 4.0, 5.0}\n",
      "KBA05_CCM4 contains values:  {0.0, 1.0, 2.0, 3.0, 4.0}\n",
      "KBA05_DIESEL contains values:  {0.0, 1.0, 2.0, 3.0, 4.0}\n",
      "KBA05_FRAU contains values:  {1.0, 2.0, 3.0, 4.0, 5.0}\n",
      "KBA05_GBZ contains values:  {1.0, 2.0, 3.0, 4.0, 5.0}\n",
      "KBA05_HERST1 contains values:  {0.0, 1.0, 2.0, 3.0, 4.0, 5.0}\n",
      "KBA05_HERST2 contains values:  {1.0, 2.0, 3.0, 4.0, 5.0}\n",
      "KBA05_HERST3 contains values:  {0.0, 1.0, 2.0, 3.0, 4.0, 5.0}\n",
      "KBA05_HERST4 contains values:  {0.0, 1.0, 2.0, 3.0, 4.0, 5.0}\n",
      "KBA05_HERST5 contains values:  {0.0, 1.0, 2.0, 3.0, 4.0, 5.0}\n",
      "KBA05_HERSTTEMP contains values:  {1.0, 2.0, 3.0, 4.0, 5.0}\n",
      "KBA05_KRSAQUOT contains values:  {1.0, 2.0, 3.0, 4.0, 5.0}\n",
      "KBA05_KRSHERST1 contains values:  {1.0, 2.0, 3.0, 4.0, 5.0}\n",
      "KBA05_KRSHERST2 contains values:  {1.0, 2.0, 3.0, 4.0, 5.0}\n",
      "KBA05_KRSHERST3 contains values:  {1.0, 2.0, 3.0, 4.0, 5.0}\n",
      "KBA05_KRSKLEIN contains values:  {1.0, 2.0, 3.0}\n",
      "KBA05_KRSOBER contains values:  {1.0, 2.0, 3.0}\n",
      "KBA05_KRSVAN contains values:  {1.0, 2.0, 3.0}\n",
      "KBA05_KRSZUL contains values:  {1.0, 2.0, 3.0}\n",
      "KBA05_KW1 contains values:  {1.0, 2.0, 3.0, 4.0, 5.0}\n",
      "KBA05_KW2 contains values:  {1.0, 2.0, 3.0, 4.0, 5.0}\n",
      "KBA05_KW3 contains values:  {0.0, 1.0, 2.0, 3.0, 4.0}\n",
      "KBA05_MAXAH contains values:  {1.0, 2.0, 3.0, 4.0, 5.0}\n",
      "KBA05_MAXBJ contains values:  {1.0, 2.0, 3.0, 4.0}\n",
      "KBA05_MAXHERST contains values:  {1.0, 2.0, 3.0, 4.0, 5.0}\n",
      "KBA05_MAXSEG contains values:  {1.0, 2.0, 3.0, 4.0}\n",
      "KBA05_MAXVORB contains values:  {1.0, 2.0, 3.0}\n",
      "KBA05_MOD1 contains values:  {0.0, 1.0, 2.0, 3.0, 4.0}\n",
      "KBA05_MOD2 contains values:  {1.0, 2.0, 3.0, 4.0, 5.0}\n",
      "KBA05_MOD3 contains values:  {1.0, 2.0, 3.0, 4.0, 5.0}\n",
      "KBA05_MOD4 contains values:  {0.0, 1.0, 2.0, 3.0, 4.0, 5.0}\n",
      "KBA05_MOD8 contains values:  {0.0, 1.0, 2.0, 3.0}\n",
      "KBA05_MODTEMP contains values:  {1.0, 2.0, 3.0, 4.0, 5.0, 6.0}\n",
      "KBA05_MOTOR contains values:  {1.0, 2.0, 3.0, 4.0}\n",
      "KBA05_MOTRAD contains values:  {0.0, 1.0, 2.0, 3.0}\n",
      "KBA05_SEG1 contains values:  {0.0, 1.0, 2.0, 3.0}\n",
      "KBA05_SEG10 contains values:  {0.0, 1.0, 2.0, 3.0, 4.0}\n",
      "KBA05_SEG2 contains values:  {1.0, 2.0, 3.0, 4.0, 5.0}\n",
      "KBA05_SEG3 contains values:  {1.0, 2.0, 3.0, 4.0, 5.0}\n",
      "KBA05_SEG4 contains values:  {1.0, 2.0, 3.0, 4.0, 5.0}\n",
      "KBA05_SEG5 contains values:  {0.0, 1.0, 2.0, 3.0, 4.0}\n",
      "KBA05_SEG6 contains values:  {0.0, 1.0}\n",
      "KBA05_SEG7 contains values:  {0.0, 1.0, 2.0, 3.0}\n",
      "KBA05_SEG8 contains values:  {0.0, 1.0, 2.0, 3.0}\n",
      "KBA05_SEG9 contains values:  {0.0, 1.0, 2.0, 3.0}\n",
      "KBA05_VORB0 contains values:  {1.0, 2.0, 3.0, 4.0, 5.0}\n",
      "KBA05_VORB1 contains values:  {1.0, 2.0, 3.0, 4.0, 5.0}\n",
      "KBA05_VORB2 contains values:  {0.0, 1.0, 2.0, 3.0, 4.0, 5.0}\n",
      "KBA05_ZUL1 contains values:  {1.0, 2.0, 3.0, 4.0, 5.0}\n",
      "KBA05_ZUL2 contains values:  {1.0, 2.0, 3.0, 4.0, 5.0}\n",
      "KBA05_ZUL3 contains values:  {0.0, 1.0, 2.0, 3.0, 4.0, 5.0}\n",
      "KBA05_ZUL4 contains values:  {0.0, 1.0, 2.0, 3.0, 4.0, 5.0}\n",
      "KBA13_ALTERHALTER_30 contains values:  {1.0, 2.0, 3.0, 4.0, 5.0}\n",
      "KBA13_ALTERHALTER_45 contains values:  {1.0, 2.0, 3.0, 4.0, 5.0}\n",
      "KBA13_ALTERHALTER_60 contains values:  {1.0, 2.0, 3.0, 4.0, 5.0}\n",
      "KBA13_ALTERHALTER_61 contains values:  {1.0, 2.0, 3.0, 4.0, 5.0}\n",
      "KBA13_ANTG1 contains values:  {0.0, 1.0, 2.0, 3.0, 4.0}\n",
      "KBA13_ANTG2 contains values:  {0.0, 1.0, 2.0, 3.0, 4.0}\n",
      "KBA13_ANTG3 contains values:  {0.0, 1.0, 2.0, 3.0}\n",
      "KBA13_ANTG4 contains values:  {0.0, 1.0, 2.0}\n",
      "KBA13_ANZAHL_PKW contains values:  {0.0, 1.0, 2.0, 3.0, 4.0, 5.0, 6.0, 7.0, 8.0, 9.0, 10.0, 11.0, 12.0, 13.0, 14.0, 15.0, 16.0, 17.0, 18.0, 19.0, 20.0, 21.0, 22.0, 23.0, 24.0, 25.0, 26.0, 27.0, 28.0, 29.0, 30.0, 31.0, 32.0, 33.0, 34.0, 35.0, 36.0, 37.0, 38.0, 39.0, 40.0, 41.0, 42.0, 43.0, 44.0, 45.0, 46.0, 47.0, 48.0, 49.0, 50.0, 51.0, 52.0, 53.0, 54.0, 55.0, 56.0, 57.0, 58.0, 59.0, 60.0, 61.0, 62.0, 63.0, 64.0, 65.0, 66.0, 67.0, 68.0, 69.0, 70.0, 71.0, 72.0, 73.0, 74.0, 75.0, 76.0, 77.0, 78.0, 79.0, 80.0, 81.0, 82.0, 83.0, 84.0, 85.0, 86.0, 87.0, 88.0, 89.0, 90.0, 91.0, 92.0, 93.0, 94.0, 95.0, 96.0, 97.0, 98.0, 99.0, 100.0, 101.0, 102.0, 103.0, 104.0, 105.0, 106.0, 107.0, 108.0, 109.0, 110.0, 111.0, 112.0, 113.0, 114.0, 115.0, 116.0, 117.0, 118.0, 119.0, 120.0, 121.0, 122.0, 123.0, 124.0, 125.0, 126.0, 127.0, 128.0, 129.0, 130.0, 131.0, 132.0, 133.0, 134.0, 135.0, 136.0, 137.0, 138.0, 139.0, 140.0, 141.0, 142.0, 143.0, 144.0, 145.0, 146.0, 147.0, 148.0, 149.0, 150.0, 151.0, 152.0, 153.0, 154.0, 155.0, 156.0, 157.0, 158.0, 159.0, 160.0, 161.0, 162.0, 163.0, 164.0, 165.0, 166.0, 167.0, 168.0, 169.0, 170.0, 171.0, 172.0, 173.0, 174.0, 175.0, 176.0, 177.0, 178.0, 179.0, 180.0, 181.0, 182.0, 183.0, 184.0, 185.0, 186.0, 187.0, 188.0, 189.0, 190.0, 191.0, 192.0, 193.0, 194.0, 195.0, 196.0, 197.0, 198.0, 199.0, 200.0, 201.0, 202.0, 203.0, 204.0, 205.0, 206.0, 207.0, 208.0, 209.0, 210.0, 211.0, 212.0, 213.0, 214.0, 215.0, 216.0, 217.0, 218.0, 219.0, 220.0, 221.0, 222.0, 223.0, 224.0, 225.0, 226.0, 227.0, 228.0, 229.0, 230.0, 231.0, 232.0, 233.0, 234.0, 235.0, 236.0, 237.0, 238.0, 239.0, 240.0, 241.0, 242.0, 243.0, 244.0, 245.0, 246.0, 247.0, 248.0, 249.0, 250.0, 251.0, 252.0, 253.0, 254.0, 255.0, 256.0, 257.0, 258.0, 259.0, 260.0, 261.0, 262.0, 263.0, 264.0, 265.0, 266.0, 267.0, 268.0, 269.0, 270.0, 271.0, 272.0, 273.0, 274.0, 275.0, 276.0, 277.0, 278.0, 279.0, 280.0, 281.0, 282.0, 283.0, 284.0, 285.0, 286.0, 287.0, 288.0, 289.0, 290.0, 291.0, 292.0, 293.0, 294.0, 295.0, 296.0, 297.0, 298.0, 299.0, 300.0, 301.0, 302.0, 303.0, 304.0, 305.0, 306.0, 307.0, 308.0, 309.0, 310.0, 311.0, 312.0, 313.0, 314.0, 315.0, 316.0, 317.0, 318.0, 319.0, 320.0, 321.0, 322.0, 323.0, 324.0, 325.0, 326.0, 327.0, 328.0, 329.0, 330.0, 331.0, 332.0, 333.0, 334.0, 335.0, 336.0, 337.0, 338.0, 339.0, 340.0, 341.0, 342.0, 343.0, 344.0, 345.0, 346.0, 347.0, 348.0, 349.0, 350.0, 351.0, 352.0, 353.0, 354.0, 355.0, 356.0, 357.0, 358.0, 359.0, 360.0, 361.0, 362.0, 363.0, 364.0, 365.0, 366.0, 367.0, 368.0, 369.0, 370.0, 371.0, 372.0, 373.0, 374.0, 375.0, 376.0, 377.0, 378.0, 379.0, 380.0, 381.0, 382.0, 383.0, 384.0, 385.0, 386.0, 387.0, 388.0, 389.0, 390.0, 391.0, 392.0, 393.0, 394.0, 395.0, 396.0, 397.0, 398.0, 399.0, 400.0, 401.0, 402.0, 403.0, 404.0, 405.0, 406.0, 407.0, 408.0, 409.0, 410.0, 411.0, 412.0, 413.0, 414.0, 415.0, 416.0, 417.0, 418.0, 419.0, 420.0, 421.0, 422.0, 423.0, 424.0, 425.0, 426.0, 427.0, 428.0, 429.0, 430.0, 431.0, 432.0, 433.0, 434.0, 435.0, 436.0, 437.0, 438.0, 439.0, 440.0, 441.0, 442.0, 443.0, 444.0, 445.0, 446.0, 447.0, 448.0, 449.0, 450.0, 451.0, 452.0, 453.0, 454.0, 455.0, 456.0, 457.0, 458.0, 459.0, 460.0, 461.0, 462.0, 463.0, 464.0, 465.0, 466.0, 467.0, 468.0, 469.0, 470.0, 471.0, 472.0, 473.0, 474.0, 475.0, 476.0, 477.0, 478.0, 479.0, 480.0, 481.0, 482.0, 483.0, 484.0, 485.0, 486.0, 487.0, 488.0, 489.0, 490.0, 491.0, 492.0, 493.0, 494.0, 495.0, 496.0, 497.0, 498.0, 499.0, 500.0, 501.0, 502.0, 503.0, 504.0, 505.0, 506.0, 507.0, 508.0, 509.0, 510.0, 511.0, 512.0, 513.0, 514.0, 515.0, 516.0, 517.0, 518.0, 519.0, 520.0, 521.0, 522.0, 523.0, 524.0, 525.0, 526.0, 527.0, 528.0, 529.0, 530.0, 531.0, 532.0, 533.0, 534.0, 535.0, 536.0, 537.0, 538.0, 539.0, 540.0, 541.0, 542.0, 543.0, 544.0, 545.0, 546.0, 547.0, 548.0, 549.0, 550.0, 551.0, 552.0, 553.0, 554.0, 555.0, 556.0, 557.0, 558.0, 559.0, 560.0, 561.0, 562.0, 563.0, 564.0, 565.0, 566.0, 567.0, 568.0, 569.0, 570.0, 571.0, 572.0, 573.0, 574.0, 575.0, 576.0, 577.0, 578.0, 579.0, 580.0, 581.0, 582.0, 583.0, 584.0, 585.0, 586.0, 587.0, 588.0, 589.0, 590.0, 591.0, 592.0, 593.0, 594.0, 595.0, 596.0, 597.0, 598.0, 599.0, 600.0, 601.0, 602.0, 603.0, 604.0, 605.0, 606.0, 607.0, 608.0, 609.0, 610.0, 611.0, 612.0, 613.0, 614.0, 615.0, 616.0, 617.0, 618.0, 619.0, 620.0, 621.0, 622.0, 623.0, 624.0, 625.0, 626.0, 627.0, 628.0, 629.0, 630.0, 631.0, 632.0, 633.0, 634.0, 635.0, 636.0, 637.0, 638.0, 639.0, 640.0, 641.0, 642.0, 643.0, 644.0, 645.0, 646.0, 647.0, 648.0, 649.0, 650.0, 651.0, 652.0, 653.0, 654.0, 655.0, 656.0, 657.0, 658.0, 659.0, 660.0, 661.0, 662.0, 663.0, 664.0, 665.0, 666.0, 667.0, 668.0, 669.0, 670.0, 671.0, 672.0, 673.0, 674.0, 675.0, 676.0, 677.0, 678.0, 679.0, 680.0, 681.0, 682.0, 683.0, 684.0, 685.0, 686.0, 687.0, 688.0, 689.0, 690.0, 691.0, 692.0, 693.0, 694.0, 695.0, 696.0, 697.0, 698.0, 699.0, 700.0, 701.0, 702.0, 703.0, 704.0, 705.0, 706.0, 707.0, 708.0, 709.0, 710.0, 711.0, 712.0, 713.0, 714.0, 715.0, 716.0, 717.0, 718.0, 719.0, 720.0, 721.0, 722.0, 723.0, 724.0, 725.0, 726.0, 727.0, 728.0, 729.0, 730.0, 731.0, 732.0, 733.0, 734.0, 735.0, 736.0, 737.0, 738.0, 739.0, 740.0, 741.0, 742.0, 743.0, 744.0, 745.0, 746.0, 747.0, 748.0, 749.0, 750.0, 751.0, 752.0, 753.0, 754.0, 755.0, 756.0, 757.0, 758.0, 759.0, 760.0, 761.0, 762.0, 763.0, 764.0, 765.0, 766.0, 767.0, 768.0, 769.0, 770.0, 771.0, 772.0, 773.0, 774.0, 775.0, 776.0, 777.0, 778.0, 779.0, 780.0, 781.0, 782.0, 783.0, 784.0, 785.0, 786.0, 787.0, 788.0, 789.0, 790.0, 791.0, 792.0, 793.0, 794.0, 795.0, 796.0, 797.0, 798.0, 799.0, 800.0, 801.0, 802.0, 803.0, 804.0, 805.0, 806.0, 807.0, 808.0, 809.0, 810.0, 811.0, 812.0, 813.0, 814.0, 815.0, 816.0, 817.0, 818.0, 819.0, 820.0, 821.0, 822.0, 823.0, 824.0, 825.0, 826.0, 827.0, 828.0, 829.0, 830.0, 831.0, 832.0, 833.0, 834.0, 835.0, 836.0, 837.0, 838.0, 839.0, 840.0, 841.0, 842.0, 843.0, 844.0, 845.0, 846.0, 847.0, 848.0, 849.0, 850.0, 851.0, 852.0, 853.0, 854.0, 855.0, 856.0, 857.0, 858.0, 859.0, 860.0, 861.0, 862.0, 863.0, 864.0, 865.0, 866.0, 867.0, 868.0, 869.0, 870.0, 871.0, 872.0, 873.0, 874.0, 875.0, 876.0, 877.0, 878.0, 879.0, 880.0, 881.0, 882.0, 883.0, 884.0, 885.0, 886.0, 887.0, 888.0, 889.0, 890.0, 891.0, 892.0, 893.0, 894.0, 895.0, 896.0, 897.0, 898.0, 899.0, 900.0, 901.0, 902.0, 903.0, 904.0, 905.0, 906.0, 907.0, 908.0, 909.0, 910.0, 911.0, 912.0, 913.0, 914.0, 915.0, 916.0, 917.0, 918.0, 919.0, 920.0, 921.0, 922.0, 923.0, 924.0, 925.0, 926.0, 927.0, 928.0, 929.0, 930.0, 931.0, 932.0, 933.0, 934.0, 935.0, 936.0, 937.0, 938.0, 939.0, 940.0, 941.0, 942.0, 943.0, 944.0, 945.0, 946.0, 947.0, 948.0, 949.0, 950.0, 951.0, 952.0, 953.0, 954.0, 955.0, 956.0, 957.0, 958.0, 959.0, 960.0, 961.0, 962.0, 963.0, 964.0, 965.0, 966.0, 967.0, 968.0, 969.0, 970.0, 971.0, 972.0, 973.0, 974.0, 975.0, 976.0, 977.0, 978.0, 979.0, 980.0, 981.0, 982.0, 983.0, 984.0, 985.0, 986.0, 987.0, 988.0, 989.0, 990.0, 991.0, 992.0, 993.0, 994.0, 995.0, 996.0, 997.0, 998.0, 999.0, 1000.0, 1001.0, 1002.0, 1003.0, 1004.0, 1005.0, 1006.0, 1007.0, 1008.0, 1009.0, 1010.0, 1011.0, 1012.0, 1013.0, 1014.0, 1015.0, 1016.0, 1017.0, 1018.0, 1019.0, 1020.0, 1021.0, 1022.0, 1023.0, 1024.0, 1025.0, 1026.0, 1027.0, 1028.0, 1029.0, 1030.0, 1031.0, 1032.0, 1033.0, 1034.0, 1035.0, 1036.0, 1037.0, 1038.0, 1039.0, 1040.0, 1041.0, 1042.0, 1043.0, 1044.0, 1045.0, 1046.0, 1047.0, 1048.0, 1049.0, 1050.0, 1051.0, 1052.0, 1053.0, 1054.0, 1055.0, 1056.0, 1057.0, 1058.0, 1059.0, 1060.0, 1061.0, 1062.0, 1063.0, 1064.0, 1065.0, 1066.0, 1067.0, 1068.0, 1069.0, 1070.0, 1071.0, 1072.0, 1073.0, 1074.0, 1075.0, 1076.0, 1077.0, 1078.0, 1079.0, 1080.0, 1081.0, 1082.0, 1083.0, 1084.0, 1085.0, 1086.0, 1087.0, 1088.0, 1089.0, 1090.0, 1091.0, 1092.0, 1093.0, 1094.0, 1095.0, 1096.0, 1097.0, 1098.0, 1099.0, 1100.0, 1101.0, 1102.0, 1103.0, 1104.0, 1105.0, 1106.0, 1107.0, 1108.0, 1109.0, 1110.0, 1111.0, 1112.0, 1113.0, 1114.0, 1115.0, 1116.0, 1117.0, 1118.0, 1119.0, 1120.0, 1121.0, 1122.0, 1123.0, 1124.0, 1125.0, 1126.0, 1127.0, 1128.0, 1129.0, 1130.0, 1131.0, 1132.0, 1133.0, 1134.0, 1135.0, 1136.0, 1137.0, 1138.0, 1139.0, 1140.0, 1141.0, 1142.0, 1143.0, 1144.0, 1145.0, 1146.0, 1147.0, 1148.0, 1149.0, 1150.0, 1151.0, 1152.0, 1153.0, 1154.0, 1155.0, 1156.0, 1157.0, 1158.0, 1159.0, 1160.0, 1161.0, 1162.0, 1163.0, 1164.0, 1165.0, 1166.0, 1167.0, 1168.0, 1169.0, 1170.0, 1171.0, 1172.0, 1173.0, 1174.0, 1175.0, 1176.0, 1177.0, 1178.0, 1179.0, 1180.0, 1181.0, 1182.0, 1183.0, 1184.0, 1185.0, 1186.0, 1187.0, 1188.0, 1189.0, 1190.0, 1191.0, 1192.0, 1193.0, 1194.0, 1195.0, 1196.0, 1197.0, 1198.0, 1199.0, 1200.0, 1201.0, 1202.0, 1203.0, 1204.0, 1205.0, 1206.0, 1207.0, 1208.0, 1209.0, 1210.0, 1211.0, 1212.0, 1213.0, 1214.0, 1215.0, 1216.0, 1217.0, 1218.0, 1219.0, 1220.0, 1221.0, 1222.0, 1223.0, 1224.0, 1225.0, 1226.0, 1227.0, 1228.0, 1229.0, 1230.0, 1231.0, 1232.0, 1233.0, 1234.0, 1235.0, 1236.0, 1237.0, 1238.0, 1239.0, 1240.0, 1241.0, 1242.0, 1243.0, 1244.0, 1245.0, 1246.0, 1247.0, 1249.0, 1250.0, 1300.0, 1400.0, 1500.0, 1600.0, 1700.0, 1800.0, 1900.0, 2000.0, 2100.0, 2200.0, 2300.0}\n",
      "KBA13_AUDI contains values:  {1.0, 2.0, 3.0, 4.0, 5.0}\n"
     ]
    },
    {
     "name": "stdout",
     "output_type": "stream",
     "text": [
      "KBA13_AUTOQUOTE contains values:  {1.0, 2.0, 3.0, 4.0, 5.0}\n",
      "KBA13_BAUMAX contains values:  {1.0, 2.0, 3.0, 4.0, 5.0}\n",
      "KBA13_BJ_1999 contains values:  {1.0, 2.0, 3.0, 4.0, 5.0}\n",
      "KBA13_BJ_2000 contains values:  {1.0, 2.0, 3.0, 4.0, 5.0}\n",
      "KBA13_BJ_2004 contains values:  {1.0, 2.0, 3.0, 4.0, 5.0}\n",
      "KBA13_BJ_2006 contains values:  {1.0, 2.0, 3.0, 4.0, 5.0}\n",
      "KBA13_BJ_2008 contains values:  {0.0, 1.0, 2.0, 3.0, 4.0, 5.0}\n",
      "KBA13_BJ_2009 contains values:  {0.0, 1.0, 2.0, 3.0, 4.0, 5.0}\n",
      "KBA13_BMW contains values:  {1.0, 2.0, 3.0, 4.0, 5.0}\n",
      "KBA13_CCM_0_1400 contains values:  {0.0, 1.0, 2.0, 3.0, 4.0, 5.0}\n",
      "KBA13_CCM_1000 contains values:  {0.0, 1.0, 2.0, 3.0, 4.0, 5.0}\n",
      "KBA13_CCM_1200 contains values:  {0.0, 1.0, 2.0, 3.0, 4.0, 5.0}\n",
      "KBA13_CCM_1400 contains values:  {1.0, 2.0, 3.0, 4.0, 5.0}\n",
      "KBA13_CCM_1401_2500 contains values:  {1.0, 2.0, 3.0, 4.0, 5.0}\n",
      "KBA13_CCM_1500 contains values:  {1.0, 2.0, 3.0, 4.0, 5.0}\n",
      "KBA13_CCM_1600 contains values:  {1.0, 2.0, 3.0, 4.0, 5.0}\n",
      "KBA13_CCM_1800 contains values:  {0.0, 1.0, 2.0, 3.0, 4.0, 5.0}\n",
      "KBA13_CCM_2000 contains values:  {1.0, 2.0, 3.0, 4.0, 5.0}\n",
      "KBA13_CCM_2500 contains values:  {0.0, 1.0, 2.0, 3.0, 4.0, 5.0}\n",
      "KBA13_CCM_2501 contains values:  {0.0, 1.0, 2.0, 3.0, 4.0, 5.0}\n",
      "KBA13_CCM_3000 contains values:  {0.0, 1.0, 2.0, 3.0, 4.0, 5.0}\n",
      "KBA13_CCM_3001 contains values:  {1.0, 2.0, 3.0, 4.0, 5.0}\n",
      "KBA13_FAB_ASIEN contains values:  {1.0, 2.0, 3.0, 4.0, 5.0}\n",
      "KBA13_FAB_SONSTIGE contains values:  {1.0, 2.0, 3.0, 4.0, 5.0}\n",
      "KBA13_FIAT contains values:  {1.0, 2.0, 3.0, 4.0, 5.0}\n",
      "KBA13_FORD contains values:  {1.0, 2.0, 3.0, 4.0, 5.0}\n",
      "KBA13_GBZ contains values:  {1.0, 2.0, 3.0, 4.0, 5.0}\n",
      "KBA13_HALTER_20 contains values:  {1.0, 2.0, 3.0, 4.0, 5.0}\n",
      "KBA13_HALTER_25 contains values:  {1.0, 2.0, 3.0, 4.0, 5.0}\n",
      "KBA13_HALTER_30 contains values:  {1.0, 2.0, 3.0, 4.0, 5.0}\n",
      "KBA13_HALTER_35 contains values:  {1.0, 2.0, 3.0, 4.0, 5.0}\n",
      "KBA13_HALTER_40 contains values:  {1.0, 2.0, 3.0, 4.0, 5.0}\n",
      "KBA13_HALTER_45 contains values:  {1.0, 2.0, 3.0, 4.0, 5.0}\n",
      "KBA13_HALTER_50 contains values:  {1.0, 2.0, 3.0, 4.0, 5.0}\n",
      "KBA13_HALTER_55 contains values:  {1.0, 2.0, 3.0, 4.0, 5.0}\n",
      "KBA13_HALTER_60 contains values:  {1.0, 2.0, 3.0, 4.0, 5.0}\n",
      "KBA13_HALTER_65 contains values:  {1.0, 2.0, 3.0, 4.0, 5.0}\n",
      "KBA13_HALTER_66 contains values:  {1.0, 2.0, 3.0, 4.0, 5.0}\n",
      "KBA13_HERST_ASIEN contains values:  {1.0, 2.0, 3.0, 4.0, 5.0}\n",
      "KBA13_HERST_AUDI_VW contains values:  {1.0, 2.0, 3.0, 4.0, 5.0}\n",
      "KBA13_HERST_BMW_BENZ contains values:  {1.0, 2.0, 3.0, 4.0, 5.0}\n",
      "KBA13_HERST_EUROPA contains values:  {1.0, 2.0, 3.0, 4.0, 5.0}\n",
      "KBA13_HERST_FORD_OPEL contains values:  {1.0, 2.0, 3.0, 4.0, 5.0}\n",
      "KBA13_HERST_SONST contains values:  {1.0, 2.0, 3.0, 4.0, 5.0}\n",
      "KBA13_HHZ contains values:  {1.0, 2.0, 3.0, 4.0, 5.0}\n",
      "KBA13_KMH_0_140 contains values:  {0.0, 1.0, 2.0, 3.0, 4.0, 5.0}\n",
      "KBA13_KMH_110 contains values:  {1.0, 2.0, 3.0}\n",
      "KBA13_KMH_140 contains values:  {1.0, 2.0, 3.0, 4.0, 5.0}\n",
      "KBA13_KMH_140_210 contains values:  {1.0, 2.0, 3.0, 4.0, 5.0}\n",
      "KBA13_KMH_180 contains values:  {1.0, 2.0, 3.0, 4.0, 5.0}\n",
      "KBA13_KMH_210 contains values:  {1.0, 2.0, 3.0, 4.0, 5.0}\n",
      "KBA13_KMH_211 contains values:  {0.0, 1.0, 2.0, 3.0, 4.0, 5.0}\n",
      "KBA13_KMH_250 contains values:  {0.0, 1.0, 2.0, 3.0, 4.0, 5.0}\n",
      "KBA13_KMH_251 contains values:  {1.0, 2.0, 3.0}\n",
      "KBA13_KRSAQUOT contains values:  {1.0, 2.0, 3.0, 4.0, 5.0}\n",
      "KBA13_KRSHERST_AUDI_VW contains values:  {1.0, 2.0, 3.0, 4.0, 5.0}\n",
      "KBA13_KRSHERST_BMW_BENZ contains values:  {1.0, 2.0, 3.0, 4.0, 5.0}\n",
      "KBA13_KRSHERST_FORD_OPEL contains values:  {1.0, 2.0, 3.0, 4.0, 5.0}\n",
      "KBA13_KRSSEG_KLEIN contains values:  {0.0, 1.0, 2.0, 3.0}\n",
      "KBA13_KRSSEG_OBER contains values:  {0.0, 1.0, 2.0, 3.0}\n",
      "KBA13_KRSSEG_VAN contains values:  {0.0, 1.0, 2.0, 3.0}\n",
      "KBA13_KRSZUL_NEU contains values:  {0.0, 1.0, 2.0, 3.0}\n",
      "KBA13_KW_0_60 contains values:  {1.0, 2.0, 3.0, 4.0, 5.0}\n",
      "KBA13_KW_110 contains values:  {0.0, 1.0, 2.0, 3.0, 4.0, 5.0}\n",
      "KBA13_KW_120 contains values:  {0.0, 1.0, 2.0, 3.0, 4.0, 5.0}\n",
      "KBA13_KW_121 contains values:  {0.0, 1.0, 2.0, 3.0, 4.0, 5.0}\n",
      "KBA13_KW_30 contains values:  {1.0, 2.0, 3.0}\n",
      "KBA13_KW_40 contains values:  {0.0, 1.0, 2.0, 3.0, 4.0, 5.0}\n",
      "KBA13_KW_50 contains values:  {0.0, 1.0, 2.0, 3.0, 4.0, 5.0}\n",
      "KBA13_KW_60 contains values:  {0.0, 1.0, 2.0, 3.0, 4.0, 5.0}\n",
      "KBA13_KW_61_120 contains values:  {1.0, 2.0, 3.0, 4.0, 5.0}\n",
      "KBA13_KW_70 contains values:  {0.0, 1.0, 2.0, 3.0, 4.0, 5.0}\n",
      "KBA13_KW_80 contains values:  {0.0, 1.0, 2.0, 3.0, 4.0, 5.0}\n",
      "KBA13_KW_90 contains values:  {0.0, 1.0, 2.0, 3.0, 4.0, 5.0}\n",
      "KBA13_MAZDA contains values:  {1.0, 2.0, 3.0, 4.0, 5.0}\n",
      "KBA13_MERCEDES contains values:  {1.0, 2.0, 3.0, 4.0, 5.0}\n",
      "KBA13_MOTOR contains values:  {1.0, 2.0, 3.0, 4.0}\n",
      "KBA13_NISSAN contains values:  {1.0, 2.0, 3.0, 4.0, 5.0}\n",
      "KBA13_OPEL contains values:  {1.0, 2.0, 3.0, 4.0, 5.0}\n",
      "KBA13_PEUGEOT contains values:  {1.0, 2.0, 3.0, 4.0, 5.0}\n",
      "KBA13_RENAULT contains values:  {1.0, 2.0, 3.0, 4.0, 5.0}\n",
      "KBA13_SEG_GELAENDEWAGEN contains values:  {1.0, 2.0, 3.0, 4.0, 5.0}\n",
      "KBA13_SEG_GROSSRAUMVANS contains values:  {1.0, 2.0, 3.0, 4.0, 5.0}\n",
      "KBA13_SEG_KLEINST contains values:  {1.0, 2.0, 3.0, 4.0, 5.0}\n",
      "KBA13_SEG_KLEINWAGEN contains values:  {1.0, 2.0, 3.0, 4.0, 5.0}\n",
      "KBA13_SEG_KOMPAKTKLASSE contains values:  {1.0, 2.0, 3.0, 4.0, 5.0}\n",
      "KBA13_SEG_MINIVANS contains values:  {1.0, 2.0, 3.0, 4.0, 5.0}\n",
      "KBA13_SEG_MINIWAGEN contains values:  {1.0, 2.0, 3.0, 4.0, 5.0}\n",
      "KBA13_SEG_MITTELKLASSE contains values:  {1.0, 2.0, 3.0, 4.0, 5.0}\n",
      "KBA13_SEG_OBEREMITTELKLASSE contains values:  {1.0, 2.0, 3.0, 4.0, 5.0}\n",
      "KBA13_SEG_OBERKLASSE contains values:  {0.0, 1.0, 2.0, 3.0, 4.0, 5.0}\n",
      "KBA13_SEG_SONSTIGE contains values:  {1.0, 2.0, 3.0, 4.0, 5.0}\n",
      "KBA13_SEG_SPORTWAGEN contains values:  {0.0, 1.0, 2.0, 3.0, 4.0, 5.0}\n",
      "KBA13_SEG_UTILITIES contains values:  {1.0, 2.0, 3.0, 4.0, 5.0}\n",
      "KBA13_SEG_VAN contains values:  {1.0, 2.0, 3.0, 4.0, 5.0}\n",
      "KBA13_SEG_WOHNMOBILE contains values:  {0.0, 1.0, 2.0, 3.0, 4.0, 5.0}\n",
      "KBA13_SITZE_4 contains values:  {1.0, 2.0, 3.0, 4.0, 5.0}\n",
      "KBA13_SITZE_5 contains values:  {1.0, 2.0, 3.0, 4.0, 5.0}\n",
      "KBA13_SITZE_6 contains values:  {1.0, 2.0, 3.0, 4.0, 5.0}\n",
      "KBA13_TOYOTA contains values:  {1.0, 2.0, 3.0, 4.0, 5.0}\n",
      "KBA13_VORB_0 contains values:  {1.0, 2.0, 3.0, 4.0, 5.0}\n",
      "KBA13_VORB_1 contains values:  {1.0, 2.0, 3.0, 4.0, 5.0}\n",
      "KBA13_VORB_1_2 contains values:  {1.0, 2.0, 3.0, 4.0, 5.0}\n",
      "KBA13_VORB_2 contains values:  {1.0, 2.0, 3.0, 4.0, 5.0}\n",
      "KBA13_VORB_3 contains values:  {0.0, 1.0, 2.0, 3.0, 4.0, 5.0}\n",
      "KBA13_VW contains values:  {1.0, 2.0, 3.0, 4.0, 5.0}\n",
      "KKK contains values:  {1.0, 2.0, 3.0, 4.0}\n",
      "KOMBIALTER contains values:  {1, 2, 3, 4, 9}\n",
      "KONSUMNAEHE contains values:  {1.0, 2.0, 3.0, 4.0, 5.0, 6.0, 7.0}\n",
      "KONSUMZELLE contains values:  {0.0, 1.0}\n",
      "LP_FAMILIE_FEIN contains values:  {0.0, 1.0, 2.0, 3.0, 4.0, 5.0, 6.0, 7.0, 8.0, 9.0, 10.0, 11.0}\n",
      "LP_FAMILIE_GROB contains values:  {0.0, 1.0, 2.0, 3.0, 4.0, 5.0}\n",
      "LP_LEBENSPHASE_FEIN contains values:  {0.0, 1.0, 2.0, 3.0, 4.0, 5.0, 6.0, 7.0, 8.0, 9.0, 10.0, 11.0, 12.0, 13.0, 14.0, 15.0, 16.0, 17.0, 18.0, 19.0, 20.0, 21.0, 22.0, 23.0, 24.0, 25.0, 26.0, 27.0, 28.0, 29.0, 30.0, 31.0, 32.0, 33.0, 34.0, 35.0, 36.0, 37.0, 38.0, 39.0, 40.0}\n",
      "LP_LEBENSPHASE_GROB contains values:  {0.0, 1.0, 2.0, 3.0, 4.0, 5.0, 6.0, 7.0, 8.0, 9.0, 10.0, 11.0, 12.0}\n",
      "LP_STATUS_FEIN contains values:  {1.0, 2.0, 3.0, 4.0, 5.0, 6.0, 7.0, 8.0, 9.0, 10.0}\n",
      "LP_STATUS_GROB contains values:  {1.0, 2.0, 3.0, 4.0, 5.0}\n",
      "MIN_GEBAEUDEJAHR contains values:  {1985.0, 1986.0, 1987.0, 1988.0, 1989.0, 1990.0, 1991.0, 1992.0, 1993.0, 1994.0, 1995.0, 1996.0, 1997.0, 1998.0, 1999.0, 2000.0, 2001.0, 2002.0, 2003.0, 2004.0, 2005.0}\n",
      "MOBI_RASTER contains values:  {1.0, 2.0, 3.0, 4.0, 5.0, 6.0}\n",
      "MOBI_REGIO contains values:  {1.0, 2.0, 3.0, 4.0, 5.0, 6.0}\n",
      "NATIONALITAET_KZ contains values:  {1.0, 2.0, 3.0}\n",
      "ONLINE_AFFINITAET contains values:  {1.0, 2.0, 3.0, 4.0, 5.0}\n",
      "ORTSGR_KLS9 contains values:  {1.0, 2.0, 3.0, 4.0, 5.0, 6.0, 7.0, 8.0, 9.0}\n",
      "OST_WEST_KZ contains values:  {'O', 'W'}\n",
      "PLZ8_ANTG1 contains values:  {0.0, 1.0, 2.0, 3.0, 4.0}\n",
      "PLZ8_ANTG2 contains values:  {0.0, 1.0, 2.0, 3.0, 4.0}\n",
      "PLZ8_ANTG3 contains values:  {0.0, 1.0, 2.0, 3.0}\n",
      "PLZ8_ANTG4 contains values:  {0.0, 1.0, 2.0}\n",
      "PLZ8_BAUMAX contains values:  {1.0, 2.0, 3.0, 4.0, 5.0}\n",
      "PLZ8_GBZ contains values:  {1.0, 2.0, 3.0, 4.0, 5.0}\n",
      "PLZ8_HHZ contains values:  {1.0, 2.0, 3.0, 4.0, 5.0}\n",
      "PRAEGENDE_JUGENDJAHRE contains values:  {1.0, 2.0, 3.0, 4.0, 5.0, 6.0, 7.0, 8.0, 9.0, 10.0, 11.0, 12.0, 13.0, 14.0, 15.0}\n",
      "REGIOTYP contains values:  {1.0, 2.0, 3.0, 4.0, 5.0, 6.0, 7.0}\n"
     ]
    },
    {
     "name": "stdout",
     "output_type": "stream",
     "text": [
      "RELAT_AB contains values:  {1.0, 2.0, 3.0, 4.0, 5.0, 9.0}\n",
      "RETOURTYP_BK_S contains values:  {1.0, 2.0, 3.0, 4.0, 5.0}\n",
      "RT_KEIN_ANREIZ contains values:  {1.0, 2.0, 3.0, 4.0, 5.0}\n",
      "RT_SCHNAEPPCHEN contains values:  {1.0, 2.0, 3.0, 4.0, 5.0}\n",
      "RT_UEBERGROESSE contains values:  {0.0, 1.0, 2.0, 3.0, 4.0, 5.0}\n",
      "SEMIO_DOM contains values:  {1, 2, 3, 4, 5, 6, 7}\n",
      "SEMIO_ERL contains values:  {1, 2, 3, 4, 5, 6, 7}\n",
      "SEMIO_FAM contains values:  {1, 2, 3, 4, 5, 6, 7}\n",
      "SEMIO_KAEM contains values:  {1, 2, 3, 4, 5, 6, 7}\n",
      "SEMIO_KRIT contains values:  {1, 2, 3, 4, 5, 6, 7}\n",
      "SEMIO_KULT contains values:  {1, 2, 3, 4, 5, 6, 7}\n",
      "SEMIO_LUST contains values:  {1, 2, 3, 4, 5, 6, 7}\n",
      "SEMIO_MAT contains values:  {1, 2, 3, 4, 5, 6, 7}\n",
      "SEMIO_PFLICHT contains values:  {1, 2, 3, 4, 5, 6, 7}\n",
      "SEMIO_RAT contains values:  {1, 2, 3, 4, 5, 6, 7}\n",
      "SEMIO_REL contains values:  {1, 2, 3, 4, 5, 6, 7}\n",
      "SEMIO_SOZ contains values:  {1, 2, 3, 4, 5, 6, 7}\n",
      "SEMIO_TRADV contains values:  {1, 2, 3, 4, 5, 6, 7}\n",
      "SEMIO_VERT contains values:  {1, 2, 3, 4, 5, 6, 7}\n",
      "SHOPPER_TYP contains values:  {0.0, 1.0, 2.0, 3.0}\n",
      "SOHO_KZ contains values:  {0.0, 1.0}\n",
      "STRUKTURTYP contains values:  {1.0, 2.0, 3.0}\n",
      "UMFELD_ALT contains values:  {1.0, 2.0, 3.0, 4.0, 5.0}\n",
      "UMFELD_JUNG contains values:  {1.0, 2.0, 3.0, 4.0, 5.0}\n",
      "UNGLEICHENN_FLAG contains values:  {0.0, 1.0}\n",
      "VERDICHTUNGSRAUM contains values:  {0.0, 1.0, 2.0, 3.0, 4.0, 5.0, 6.0, 7.0, 8.0, 9.0, 10.0, 11.0, 12.0, 13.0, 14.0, 15.0, 16.0, 17.0, 18.0, 19.0, 20.0, 21.0, 22.0, 23.0, 24.0, 25.0, 26.0, 27.0, 28.0, 29.0, 30.0, 31.0, 32.0, 33.0, 34.0, 35.0, 36.0, 37.0, 38.0, 39.0, 40.0, 41.0, 42.0, 43.0, 44.0, 45.0}\n",
      "VERS_TYP contains values:  {1.0, 2.0}\n",
      "VHA contains values:  {0.0, 1.0, 2.0, 3.0, 4.0, 5.0}\n",
      "VHN contains values:  {0.0, 1.0, 2.0, 3.0, 4.0}\n",
      "VK_DHT4A contains values:  {1.0, 2.0, 3.0, 4.0, 5.0, 6.0, 7.0, 8.0, 9.0, 10.0, 11.0}\n",
      "VK_DISTANZ contains values:  {1.0, 2.0, 3.0, 4.0, 5.0, 6.0, 7.0, 8.0, 9.0, 10.0, 11.0, 12.0, 13.0}\n",
      "VK_ZG11 contains values:  {1.0, 2.0, 3.0, 4.0, 5.0, 6.0, 7.0, 8.0, 9.0, 10.0, 11.0}\n",
      "W_KEIT_KIND_HH contains values:  {1.0, 2.0, 3.0, 4.0, 5.0, 6.0}\n",
      "WOHNDAUER_2008 contains values:  {1.0, 2.0, 3.0, 4.0, 5.0, 6.0, 7.0, 8.0, 9.0}\n",
      "WOHNLAGE contains values:  {0.0, 1.0, 2.0, 3.0, 4.0, 5.0, 7.0, 8.0}\n",
      "ZABEOTYP contains values:  {1, 2, 3, 4, 5, 6}\n",
      "ANREDE_KZ contains values:  {1, 2}\n",
      "ALTERSKATEGORIE_GROB contains values:  {1, 2, 3, 4, 9}\n"
     ]
    }
   ],
   "source": [
    "#before we re-encode categorical features I wanted to double check the set of unique values for each column since \n",
    "#the attributes and information levels files seems to not be 100% accurate\n",
    "for variable in azdias.columns:\n",
    "    print (variable, 'contains values: ', set(azdias[variable].dropna()))"
   ]
  },
  {
   "cell_type": "markdown",
   "metadata": {},
   "source": [
    "variable CAMEO_INTL_2015 had numerical values and an 'XX' value, which we could assume refers to missing data. since i didn't find any information on this variable in the Attributes or information levels files, i decided to drop it.\n",
    "\n",
    "variable EINGEFUEGT_AM contains dates with thousands of unique values and can be safely dropped as it doesn't provide valuable information.\n",
    "\n",
    "for variable OST_WEST_KZ we will re-encode the 'O' and 'W' into numerical binary 0 and 1\n",
    "\n",
    "for variable CAMEO_DEUG_2015 the attributes file shows that missing values are indicated with -1 however our set of unique values for this variable shows that missing values are indicated with 'X', so we can replace that with np.nan, also some values that were supposed to be integer were input as strings so we will replace those with their integer counterpart."
   ]
  },
  {
   "cell_type": "code",
   "execution_count": 21,
   "metadata": {},
   "outputs": [],
   "source": [
    "azdias.drop(['CAMEO_INTL_2015', 'EINGEFUEGT_AM'], axis = 1, inplace = True)\n",
    "dropped_columns_names.extend(['CAMEO_INTL_2015', 'EINGEFUEGT_AM'])\n",
    "\n",
    "azdias['OST_WEST_KZ'].replace('W', 1, inplace = True)\n",
    "azdias['OST_WEST_KZ'].replace('O', 0, inplace = True)\n",
    "\n",
    "str_lst = ['1','2','3','4','5','6','7','8','9']\n",
    "\n",
    "azdias['CAMEO_DEUG_2015'].replace('X', np.nan, inplace = True)\n",
    "\n",
    "for val in str_lst:\n",
    "    azdias['CAMEO_DEUG_2015'].replace(val, int(val), inplace = True)"
   ]
  },
  {
   "cell_type": "code",
   "execution_count": 22,
   "metadata": {},
   "outputs": [
    {
     "data": {
      "text/plain": [
       "1.0    419634\n",
       "3.0    162180\n",
       "8.0    145435\n",
       "2.0      4258\n",
       "4.0       829\n",
       "6.0       558\n",
       "5.0         1\n",
       "Name: GEBAEUDETYP, dtype: int64"
      ]
     },
     "execution_count": 22,
     "metadata": {},
     "output_type": "execute_result"
    }
   ],
   "source": [
    "#in the attribute GEBAEUDETYP, value 5 is reserved for a single row. since we are going to one hot encode that variable\n",
    "azdias['GEBAEUDETYP'].value_counts()"
   ]
  },
  {
   "cell_type": "code",
   "execution_count": 23,
   "metadata": {},
   "outputs": [],
   "source": [
    "# we want to avoid creating an extra column that doesn't provide us with information by dropping the row with value 5\n",
    "idx = azdias.index[azdias['GEBAEUDETYP'] == 5].tolist()\n",
    "azdias.drop(idx, axis = 0, inplace = True)"
   ]
  },
  {
   "cell_type": "code",
   "execution_count": 24,
   "metadata": {},
   "outputs": [],
   "source": [
    "#since the Attributes file doesn't describe the type of data for each column, I had to manually check the value associated\n",
    "#with each column to determine which variables are considered categorical and which contain mixed features. as I manually\n",
    "#checked the values for each column, the following list may not be 100% accurate.\n",
    "\n",
    "categorical_variables = ['AGER_TYP', 'ANREDE_KZ', 'BIP_FLAG','CAMEO_DEUG_2015', 'CAMEO_DEU_2015', 'HAUSHALTSSTRUKTUR', \n",
    "                         'CAMEO_DEUINTL_2015', 'CJT_GESAMTTYP', 'D19_KONSUMTYP', 'FINANZTYP', 'GEBAEUDETYP', \n",
    "                         'GEBAEUDETYP_RASTER', 'GFK_URLAUBERTYP', 'HEALTH_TYP', 'KBA05_MAXHERST', 'LP_FAMILIE_FEI', \n",
    "                         'LP_FAMILIE_GROB', 'LP_LEBENSPHASE_FEIN', 'LP_LEBENSPHASE_GROB', 'LP_STATUS_FEIN', \n",
    "                         'LP_STATUS_GROB''NATIONALITAET_KZ', 'SHOPPER_TYP', 'TITEL_KZ', 'VERS_TYP', 'ZABEOTYP']"
   ]
  },
  {
   "cell_type": "code",
   "execution_count": 25,
   "metadata": {},
   "outputs": [
    {
     "name": "stdout",
     "output_type": "stream",
     "text": [
      "AGER_TYP contains values:  None\n",
      "ANREDE_KZ contains values:  2\n",
      "BIP_FLAG contains values:  None\n",
      "CAMEO_DEUG_2015 contains values:  9\n",
      "CAMEO_DEU_2015 contains values:  45\n",
      "HAUSHALTSSTRUKTUR contains values:  None\n",
      "CAMEO_DEUINTL_2015 contains values:  None\n",
      "CJT_GESAMTTYP contains values:  6\n",
      "D19_KONSUMTYP contains values:  None\n",
      "FINANZTYP contains values:  6\n",
      "GEBAEUDETYP contains values:  6\n",
      "GEBAEUDETYP_RASTER contains values:  5\n",
      "GFK_URLAUBERTYP contains values:  12\n",
      "HEALTH_TYP contains values:  3\n",
      "KBA05_MAXHERST contains values:  5\n",
      "LP_FAMILIE_FEI contains values:  None\n",
      "LP_FAMILIE_GROB contains values:  6\n",
      "LP_LEBENSPHASE_FEIN contains values:  41\n",
      "LP_LEBENSPHASE_GROB contains values:  13\n",
      "LP_STATUS_FEIN contains values:  10\n",
      "LP_STATUS_GROBNATIONALITAET_KZ contains values:  None\n",
      "SHOPPER_TYP contains values:  4\n",
      "TITEL_KZ contains values:  None\n",
      "VERS_TYP contains values:  2\n",
      "ZABEOTYP contains values:  6\n"
     ]
    }
   ],
   "source": [
    "#this cell shows the number of unique values in each of the categorical variables above\n",
    "for variable in categorical_variables:\n",
    "    try:\n",
    "        l = len(set(azdias[variable].dropna()))\n",
    "    except:\n",
    "        l = None\n",
    "    print(variable, 'contains values: ', l)"
   ]
  },
  {
   "cell_type": "code",
   "execution_count": 26,
   "metadata": {},
   "outputs": [
    {
     "name": "stdout",
     "output_type": "stream",
     "text": [
      "AGER_TYP  not found in azdias\n",
      "ANREDE_KZ  has been one hot encoded\n",
      "BIP_FLAG  not found in azdias\n",
      "CAMEO_DEUG_2015  has been one hot encoded\n",
      "CAMEO_DEU_2015 with unique values count:  45  has been dropped\n",
      "HAUSHALTSSTRUKTUR  not found in azdias\n",
      "CAMEO_DEUINTL_2015  not found in azdias\n",
      "CJT_GESAMTTYP  has been one hot encoded\n",
      "D19_KONSUMTYP  not found in azdias\n",
      "FINANZTYP  has been one hot encoded\n",
      "GEBAEUDETYP  has been one hot encoded\n",
      "GEBAEUDETYP_RASTER  has been one hot encoded\n",
      "GFK_URLAUBERTYP with unique values count:  12  has been dropped\n",
      "HEALTH_TYP  has been one hot encoded\n",
      "KBA05_MAXHERST  has been one hot encoded\n",
      "LP_FAMILIE_FEI  not found in azdias\n",
      "LP_FAMILIE_GROB  has been one hot encoded\n",
      "LP_LEBENSPHASE_FEIN with unique values count:  41  has been dropped\n",
      "LP_LEBENSPHASE_GROB with unique values count:  13  has been dropped\n",
      "LP_STATUS_FEIN with unique values count:  10  has been dropped\n",
      "LP_STATUS_GROBNATIONALITAET_KZ  not found in azdias\n",
      "SHOPPER_TYP  has been one hot encoded\n",
      "TITEL_KZ  not found in azdias\n",
      "VERS_TYP  has been one hot encoded\n",
      "ZABEOTYP  has been one hot encoded\n"
     ]
    }
   ],
   "source": [
    "#dropping multi-categorical variables that contain more than 7 unique values for simplicity, and since one hot encoding \n",
    "#those variables could potentially double the size of the dataset\n",
    "\n",
    "for variable in categorical_variables:\n",
    "    if variable in azdias.columns:\n",
    "        number_of_unique_values = len(set(azdias[variable].dropna()))\n",
    "        if number_of_unique_values > 9:\n",
    "            azdias.drop(variable, axis = 1, inplace = True)\n",
    "            dropped_columns_names.append(variable)\n",
    "            print(variable, 'with unique values count: ', number_of_unique_values, ' has been dropped')\n",
    "            \n",
    "        else:\n",
    "            dummies = pd.get_dummies(azdias[variable])\n",
    "            azdias.drop(variable, axis = 1, inplace = True)\n",
    "            \n",
    "            dropped_columns_names.append(variable)\n",
    "            ## this is to ensure no duplicate names for multiple dummy variables created for different attributes\n",
    "            dummies_names = list(dummies.columns)\n",
    "            for i, col in enumerate(dummies_names):\n",
    "                dummies_names[i] = variable+str(col)\n",
    "                \n",
    "            dummies.columns = dummies_names\n",
    "            ##\n",
    "            azdias = pd.concat([azdias, dummies], axis = 1)\n",
    "            print(variable, ' has been one hot encoded')\n",
    "            \n",
    "            \n",
    "    else:\n",
    "        print(variable, ' not found in azdias')"
   ]
  },
  {
   "cell_type": "markdown",
   "metadata": {},
   "source": [
    "#### Discussion 1.2.1: Re-Encode Categorical Features\n",
    "\n",
    "the column 'OST_WEST_KZ' was encoded into 1s and 0s instead of 'W' and 'O', and the multi-level categoricals were dropped entirely to keep things straightforward. had i decided to use dummy variables for these categorical data columns, it would have resulted in about 140 added columns, essentially increasing the size of our data by about 50% only to account for very few columns."
   ]
  },
  {
   "cell_type": "markdown",
   "metadata": {},
   "source": [
    "#### 1.2.2: Engineer Mixed-Type Features\n",
    "\n",
    "the variable \"PRAEGENDE_JUGENDJAHRE\" combines information on three dimensions: generation by decade, movement (mainstream vs. avantgarde), and nation (east vs. west). While there aren't enough levels to disentangle east from west, we will create two new variables to capture the other two dimensions: an interval-type variable for decade, and a binary variable for movement."
   ]
  },
  {
   "cell_type": "code",
   "execution_count": 27,
   "metadata": {},
   "outputs": [],
   "source": [
    "# Investigating \"PRAEGENDE_JUGENDJAHRE\" and engineering two new variables.\n",
    "\n",
    "decade = []\n",
    "movement = []\n",
    "\n",
    "info = \"\"\"-  1: 40s - war years (Mainstream, E+W)\n",
    "-  2: 40s - reconstruction years (Avantgarde, E+W)\n",
    "-  3: 50s - economic miracle (Mainstream, E+W)\n",
    "-  4: 50s - milk bar / Individualisation (Avantgarde, E+W)\n",
    "-  5: 60s - economic miracle (Mainstream, E+W)\n",
    "-  6: 60s - generation 68 / student protestors (Avantgarde, W)\n",
    "-  7: 60s - opponents to the building of the Wall (Avantgarde, E)\n",
    "-  8: 70s - family orientation (Mainstream, E+W)\n",
    "-  9: 70s - peace movement (Avantgarde, E+W)\n",
    "- 10: 80s - Generation Golf (Mainstream, W)\n",
    "- 11: 80s - ecological awareness (Avantgarde, W)\n",
    "- 12: 80s - FDJ / communist party youth organisation (Mainstream, E)\n",
    "- 13: 80s - Swords into ploughshares (Avantgarde, E)\n",
    "- 14: 90s - digital media kids (Mainstream, E+W)\n",
    "- 15: 90s - ecological awareness (Avantgarde, E+W)\"\"\"\n",
    "\n",
    "info = info.replace(' ','').replace('\\n','').replace('-','').split(')')\n",
    "    \n",
    "    \n",
    "for val in azdias['PRAEGENDE_JUGENDJAHRE']:\n",
    "    if pd.isna(val):\n",
    "        decade.append(np.nan)\n",
    "        movement.append(np.nan)\n",
    "        continue\n",
    "        \n",
    "    i = int(val - 1)\n",
    "    colon_ind = info[i].index(':')\n",
    "    bracket_ind = info[i].index('(')\n",
    "    comma_ind = info[i].index(',')\n",
    "    \n",
    "    dec = info[i][colon_ind+1:colon_ind+3]\n",
    "    mov = info[i][bracket_ind + 1:comma_ind]\n",
    "    \n",
    "    decade.append(int(dec))\n",
    "    if mov == 'Mainstream':\n",
    "        movement.append(0)\n",
    "    else:\n",
    "        movement.append(1)"
   ]
  },
  {
   "cell_type": "code",
   "execution_count": 28,
   "metadata": {},
   "outputs": [
    {
     "data": {
      "text/plain": [
       "(732894, 378)"
      ]
     },
     "execution_count": 28,
     "metadata": {},
     "output_type": "execute_result"
    }
   ],
   "source": [
    "azdias['decade'] = decade\n",
    "azdias['movement'] = movement\n",
    "azdias.drop('PRAEGENDE_JUGENDJAHRE', axis = 1, inplace = True)\n",
    "dropped_columns_names.append('PRAEGENDE_JUGENDJAHRE')\n",
    "azdias.shape"
   ]
  },
  {
   "cell_type": "code",
   "execution_count": 29,
   "metadata": {},
   "outputs": [
    {
     "name": "stdout",
     "output_type": "stream",
     "text": [
      "{70.0, 40.0, 80.0, 50.0, 90.0, 60.0}\n",
      "{0.0, 1.0}\n"
     ]
    }
   ],
   "source": [
    "print(set(azdias['decade'].dropna()))\n",
    "print(set(azdias['movement'].dropna()))"
   ]
  },
  {
   "cell_type": "code",
   "execution_count": 30,
   "metadata": {},
   "outputs": [
    {
     "data": {
      "text/plain": [
       "(732894, 378)"
      ]
     },
     "execution_count": 30,
     "metadata": {},
     "output_type": "execute_result"
    }
   ],
   "source": [
    "azdias.shape"
   ]
  },
  {
   "cell_type": "markdown",
   "metadata": {},
   "source": [
    "#### Discussion 1.2.2: Engineer Mixed-Type Features\n",
    "\n",
    "Through clever indexing, i was able to extract the information from the \"PRAEGENDE_JUGENDJAHRE\" column into two new columns \"decade\" and \"movement\". the missing values are accounted for in the new columns.\n",
    "\n",
    "The new columns are added to the original data set, while the old column \"PRAEGENDE_JUGENDJAHRE\" was dropped from it as it no longer has value."
   ]
  },
  {
   "cell_type": "markdown",
   "metadata": {},
   "source": [
    "#### 1.2.3: Analysing Feature Correlation\n",
    "\n",
    "while I was observing the information levels excel sheet, i noticed that many of the attributes share a similar meaning, or contain data related to one thing. so for example: some of the D19 attributes discuss actuality of last transactions under different conditions. The idea here is if i found many features having high correlation between each other i could safely drop most of those features. I decided to check the correlation between some of these variables, since checking the correlation between all the columns in the dataset would be very difficult to interpret because the dataset has 372 columns, so I picked some related attributes and showed their correlation matrix in the following code."
   ]
  },
  {
   "cell_type": "code",
   "execution_count": 31,
   "metadata": {},
   "outputs": [
    {
     "name": "stdout",
     "output_type": "stream",
     "text": [
      "['D19_GESAMT_OFFLINE_DATUM', 'D19_GESAMT_ONLINE_DATUM', 'D19_GESAMT_DATUM', 'D19_BANKEN_OFFLINE_DATUM', 'D19_BANKEN_ONLINE_DATUM', 'D19_BANKEN_DATUM', 'D19_TELKO_OFFLINE_DATUM', 'D19_TELKO_ONLINE_DATUM', 'D19_TELKO_DATUM', 'D19_VERSAND_OFFLINE_DATUM', 'D19_VERSAND_ONLINE_DATUM', 'D19_VERSAND_DATUM', 'D19_VERSI_OFFLINE_DATUM', 'D19_VERSI_ONLINE_DATUM', 'D19_VERSI_DATUM']\n"
     ]
    }
   ],
   "source": [
    "#checking correlation between variables\n",
    "correlation_features = \"\"\"D19_GESAMT_OFFLINE_DATUM\n",
    "D19_GESAMT_ONLINE_DATUM\n",
    "D19_GESAMT_DATUM\n",
    "D19_BANKEN_OFFLINE_DATUM\n",
    "D19_BANKEN_ONLINE_DATUM\n",
    "D19_BANKEN_DATUM\n",
    "D19_TELKO_OFFLINE_DATUM\n",
    "D19_TELKO_ONLINE_DATUM\n",
    "D19_TELKO_DATUM\n",
    "D19_VERSAND_OFFLINE_DATUM\n",
    "D19_VERSAND_ONLINE_DATUM\n",
    "D19_VERSAND_DATUM\n",
    "D19_VERSI_OFFLINE_DATUM\n",
    "D19_VERSI_ONLINE_DATUM\n",
    "D19_VERSI_DATUM\n",
    "\"\"\"\n",
    "correlation_features_original = correlation_features.split()\n",
    "correlation_features = correlation_features_original.copy()\n",
    "\n",
    "for variable in correlation_features_original:\n",
    "    if variable not in azdias.columns:\n",
    "        correlation_features.remove(variable)\n",
    "        \n",
    "print(correlation_features)"
   ]
  },
  {
   "cell_type": "code",
   "execution_count": 32,
   "metadata": {},
   "outputs": [
    {
     "data": {
      "text/html": [
       "<div>\n",
       "<style scoped>\n",
       "    .dataframe tbody tr th:only-of-type {\n",
       "        vertical-align: middle;\n",
       "    }\n",
       "\n",
       "    .dataframe tbody tr th {\n",
       "        vertical-align: top;\n",
       "    }\n",
       "\n",
       "    .dataframe thead th {\n",
       "        text-align: right;\n",
       "    }\n",
       "</style>\n",
       "<table border=\"1\" class=\"dataframe\">\n",
       "  <thead>\n",
       "    <tr style=\"text-align: right;\">\n",
       "      <th></th>\n",
       "      <th>D19_GESAMT_OFFLINE_DATUM</th>\n",
       "      <th>D19_GESAMT_ONLINE_DATUM</th>\n",
       "      <th>D19_GESAMT_DATUM</th>\n",
       "      <th>D19_BANKEN_OFFLINE_DATUM</th>\n",
       "      <th>D19_BANKEN_ONLINE_DATUM</th>\n",
       "      <th>D19_BANKEN_DATUM</th>\n",
       "      <th>D19_TELKO_OFFLINE_DATUM</th>\n",
       "      <th>D19_TELKO_ONLINE_DATUM</th>\n",
       "      <th>D19_TELKO_DATUM</th>\n",
       "      <th>D19_VERSAND_OFFLINE_DATUM</th>\n",
       "      <th>D19_VERSAND_ONLINE_DATUM</th>\n",
       "      <th>D19_VERSAND_DATUM</th>\n",
       "      <th>D19_VERSI_OFFLINE_DATUM</th>\n",
       "      <th>D19_VERSI_ONLINE_DATUM</th>\n",
       "      <th>D19_VERSI_DATUM</th>\n",
       "    </tr>\n",
       "  </thead>\n",
       "  <tbody>\n",
       "    <tr>\n",
       "      <th>D19_GESAMT_OFFLINE_DATUM</th>\n",
       "      <td>1.00</td>\n",
       "      <td>0.41</td>\n",
       "      <td>0.55</td>\n",
       "      <td>0.31</td>\n",
       "      <td>0.20</td>\n",
       "      <td>0.29</td>\n",
       "      <td>0.38</td>\n",
       "      <td>0.04</td>\n",
       "      <td>0.32</td>\n",
       "      <td>0.80</td>\n",
       "      <td>0.40</td>\n",
       "      <td>0.52</td>\n",
       "      <td>0.25</td>\n",
       "      <td>0.05</td>\n",
       "      <td>0.25</td>\n",
       "    </tr>\n",
       "    <tr>\n",
       "      <th>D19_GESAMT_ONLINE_DATUM</th>\n",
       "      <td>0.41</td>\n",
       "      <td>1.00</td>\n",
       "      <td>0.88</td>\n",
       "      <td>0.12</td>\n",
       "      <td>0.47</td>\n",
       "      <td>0.49</td>\n",
       "      <td>0.19</td>\n",
       "      <td>0.08</td>\n",
       "      <td>0.34</td>\n",
       "      <td>0.36</td>\n",
       "      <td>0.94</td>\n",
       "      <td>0.91</td>\n",
       "      <td>0.13</td>\n",
       "      <td>0.10</td>\n",
       "      <td>0.35</td>\n",
       "    </tr>\n",
       "    <tr>\n",
       "      <th>D19_GESAMT_DATUM</th>\n",
       "      <td>0.55</td>\n",
       "      <td>0.88</td>\n",
       "      <td>1.00</td>\n",
       "      <td>0.15</td>\n",
       "      <td>0.42</td>\n",
       "      <td>0.48</td>\n",
       "      <td>0.24</td>\n",
       "      <td>0.07</td>\n",
       "      <td>0.42</td>\n",
       "      <td>0.46</td>\n",
       "      <td>0.83</td>\n",
       "      <td>0.87</td>\n",
       "      <td>0.15</td>\n",
       "      <td>0.09</td>\n",
       "      <td>0.51</td>\n",
       "    </tr>\n",
       "    <tr>\n",
       "      <th>D19_BANKEN_OFFLINE_DATUM</th>\n",
       "      <td>0.31</td>\n",
       "      <td>0.12</td>\n",
       "      <td>0.15</td>\n",
       "      <td>1.00</td>\n",
       "      <td>0.08</td>\n",
       "      <td>0.33</td>\n",
       "      <td>0.19</td>\n",
       "      <td>0.01</td>\n",
       "      <td>0.13</td>\n",
       "      <td>0.16</td>\n",
       "      <td>0.11</td>\n",
       "      <td>0.13</td>\n",
       "      <td>0.18</td>\n",
       "      <td>0.02</td>\n",
       "      <td>0.10</td>\n",
       "    </tr>\n",
       "    <tr>\n",
       "      <th>D19_BANKEN_ONLINE_DATUM</th>\n",
       "      <td>0.20</td>\n",
       "      <td>0.47</td>\n",
       "      <td>0.42</td>\n",
       "      <td>0.08</td>\n",
       "      <td>1.00</td>\n",
       "      <td>0.89</td>\n",
       "      <td>0.14</td>\n",
       "      <td>0.03</td>\n",
       "      <td>0.28</td>\n",
       "      <td>0.15</td>\n",
       "      <td>0.31</td>\n",
       "      <td>0.31</td>\n",
       "      <td>0.11</td>\n",
       "      <td>0.07</td>\n",
       "      <td>0.25</td>\n",
       "    </tr>\n",
       "    <tr>\n",
       "      <th>D19_BANKEN_DATUM</th>\n",
       "      <td>0.29</td>\n",
       "      <td>0.49</td>\n",
       "      <td>0.48</td>\n",
       "      <td>0.33</td>\n",
       "      <td>0.89</td>\n",
       "      <td>1.00</td>\n",
       "      <td>0.19</td>\n",
       "      <td>0.03</td>\n",
       "      <td>0.31</td>\n",
       "      <td>0.20</td>\n",
       "      <td>0.35</td>\n",
       "      <td>0.35</td>\n",
       "      <td>0.15</td>\n",
       "      <td>0.07</td>\n",
       "      <td>0.28</td>\n",
       "    </tr>\n",
       "    <tr>\n",
       "      <th>D19_TELKO_OFFLINE_DATUM</th>\n",
       "      <td>0.38</td>\n",
       "      <td>0.19</td>\n",
       "      <td>0.24</td>\n",
       "      <td>0.19</td>\n",
       "      <td>0.14</td>\n",
       "      <td>0.19</td>\n",
       "      <td>1.00</td>\n",
       "      <td>0.02</td>\n",
       "      <td>0.54</td>\n",
       "      <td>0.17</td>\n",
       "      <td>0.19</td>\n",
       "      <td>0.20</td>\n",
       "      <td>0.17</td>\n",
       "      <td>0.03</td>\n",
       "      <td>0.17</td>\n",
       "    </tr>\n",
       "    <tr>\n",
       "      <th>D19_TELKO_ONLINE_DATUM</th>\n",
       "      <td>0.04</td>\n",
       "      <td>0.08</td>\n",
       "      <td>0.07</td>\n",
       "      <td>0.01</td>\n",
       "      <td>0.03</td>\n",
       "      <td>0.03</td>\n",
       "      <td>0.02</td>\n",
       "      <td>1.00</td>\n",
       "      <td>0.17</td>\n",
       "      <td>0.04</td>\n",
       "      <td>0.05</td>\n",
       "      <td>0.05</td>\n",
       "      <td>0.01</td>\n",
       "      <td>0.01</td>\n",
       "      <td>0.03</td>\n",
       "    </tr>\n",
       "    <tr>\n",
       "      <th>D19_TELKO_DATUM</th>\n",
       "      <td>0.32</td>\n",
       "      <td>0.34</td>\n",
       "      <td>0.42</td>\n",
       "      <td>0.13</td>\n",
       "      <td>0.28</td>\n",
       "      <td>0.31</td>\n",
       "      <td>0.54</td>\n",
       "      <td>0.17</td>\n",
       "      <td>1.00</td>\n",
       "      <td>0.18</td>\n",
       "      <td>0.31</td>\n",
       "      <td>0.31</td>\n",
       "      <td>0.16</td>\n",
       "      <td>0.06</td>\n",
       "      <td>0.25</td>\n",
       "    </tr>\n",
       "    <tr>\n",
       "      <th>D19_VERSAND_OFFLINE_DATUM</th>\n",
       "      <td>0.80</td>\n",
       "      <td>0.36</td>\n",
       "      <td>0.46</td>\n",
       "      <td>0.16</td>\n",
       "      <td>0.15</td>\n",
       "      <td>0.20</td>\n",
       "      <td>0.17</td>\n",
       "      <td>0.04</td>\n",
       "      <td>0.18</td>\n",
       "      <td>1.00</td>\n",
       "      <td>0.36</td>\n",
       "      <td>0.52</td>\n",
       "      <td>0.11</td>\n",
       "      <td>0.03</td>\n",
       "      <td>0.18</td>\n",
       "    </tr>\n",
       "    <tr>\n",
       "      <th>D19_VERSAND_ONLINE_DATUM</th>\n",
       "      <td>0.40</td>\n",
       "      <td>0.94</td>\n",
       "      <td>0.83</td>\n",
       "      <td>0.11</td>\n",
       "      <td>0.31</td>\n",
       "      <td>0.35</td>\n",
       "      <td>0.19</td>\n",
       "      <td>0.05</td>\n",
       "      <td>0.31</td>\n",
       "      <td>0.36</td>\n",
       "      <td>1.00</td>\n",
       "      <td>0.95</td>\n",
       "      <td>0.11</td>\n",
       "      <td>0.07</td>\n",
       "      <td>0.32</td>\n",
       "    </tr>\n",
       "    <tr>\n",
       "      <th>D19_VERSAND_DATUM</th>\n",
       "      <td>0.52</td>\n",
       "      <td>0.91</td>\n",
       "      <td>0.87</td>\n",
       "      <td>0.13</td>\n",
       "      <td>0.31</td>\n",
       "      <td>0.35</td>\n",
       "      <td>0.20</td>\n",
       "      <td>0.05</td>\n",
       "      <td>0.31</td>\n",
       "      <td>0.52</td>\n",
       "      <td>0.95</td>\n",
       "      <td>1.00</td>\n",
       "      <td>0.12</td>\n",
       "      <td>0.07</td>\n",
       "      <td>0.33</td>\n",
       "    </tr>\n",
       "    <tr>\n",
       "      <th>D19_VERSI_OFFLINE_DATUM</th>\n",
       "      <td>0.25</td>\n",
       "      <td>0.13</td>\n",
       "      <td>0.15</td>\n",
       "      <td>0.18</td>\n",
       "      <td>0.11</td>\n",
       "      <td>0.15</td>\n",
       "      <td>0.17</td>\n",
       "      <td>0.01</td>\n",
       "      <td>0.16</td>\n",
       "      <td>0.11</td>\n",
       "      <td>0.11</td>\n",
       "      <td>0.12</td>\n",
       "      <td>1.00</td>\n",
       "      <td>0.06</td>\n",
       "      <td>0.27</td>\n",
       "    </tr>\n",
       "    <tr>\n",
       "      <th>D19_VERSI_ONLINE_DATUM</th>\n",
       "      <td>0.05</td>\n",
       "      <td>0.10</td>\n",
       "      <td>0.09</td>\n",
       "      <td>0.02</td>\n",
       "      <td>0.07</td>\n",
       "      <td>0.07</td>\n",
       "      <td>0.03</td>\n",
       "      <td>0.01</td>\n",
       "      <td>0.06</td>\n",
       "      <td>0.03</td>\n",
       "      <td>0.07</td>\n",
       "      <td>0.07</td>\n",
       "      <td>0.06</td>\n",
       "      <td>1.00</td>\n",
       "      <td>0.16</td>\n",
       "    </tr>\n",
       "    <tr>\n",
       "      <th>D19_VERSI_DATUM</th>\n",
       "      <td>0.25</td>\n",
       "      <td>0.35</td>\n",
       "      <td>0.51</td>\n",
       "      <td>0.10</td>\n",
       "      <td>0.25</td>\n",
       "      <td>0.28</td>\n",
       "      <td>0.17</td>\n",
       "      <td>0.03</td>\n",
       "      <td>0.25</td>\n",
       "      <td>0.18</td>\n",
       "      <td>0.32</td>\n",
       "      <td>0.33</td>\n",
       "      <td>0.27</td>\n",
       "      <td>0.16</td>\n",
       "      <td>1.00</td>\n",
       "    </tr>\n",
       "  </tbody>\n",
       "</table>\n",
       "</div>"
      ],
      "text/plain": [
       "                           D19_GESAMT_OFFLINE_DATUM  D19_GESAMT_ONLINE_DATUM  \\\n",
       "D19_GESAMT_OFFLINE_DATUM                       1.00                     0.41   \n",
       "D19_GESAMT_ONLINE_DATUM                        0.41                     1.00   \n",
       "D19_GESAMT_DATUM                               0.55                     0.88   \n",
       "D19_BANKEN_OFFLINE_DATUM                       0.31                     0.12   \n",
       "D19_BANKEN_ONLINE_DATUM                        0.20                     0.47   \n",
       "D19_BANKEN_DATUM                               0.29                     0.49   \n",
       "D19_TELKO_OFFLINE_DATUM                        0.38                     0.19   \n",
       "D19_TELKO_ONLINE_DATUM                         0.04                     0.08   \n",
       "D19_TELKO_DATUM                                0.32                     0.34   \n",
       "D19_VERSAND_OFFLINE_DATUM                      0.80                     0.36   \n",
       "D19_VERSAND_ONLINE_DATUM                       0.40                     0.94   \n",
       "D19_VERSAND_DATUM                              0.52                     0.91   \n",
       "D19_VERSI_OFFLINE_DATUM                        0.25                     0.13   \n",
       "D19_VERSI_ONLINE_DATUM                         0.05                     0.10   \n",
       "D19_VERSI_DATUM                                0.25                     0.35   \n",
       "\n",
       "                           D19_GESAMT_DATUM  D19_BANKEN_OFFLINE_DATUM  \\\n",
       "D19_GESAMT_OFFLINE_DATUM               0.55                      0.31   \n",
       "D19_GESAMT_ONLINE_DATUM                0.88                      0.12   \n",
       "D19_GESAMT_DATUM                       1.00                      0.15   \n",
       "D19_BANKEN_OFFLINE_DATUM               0.15                      1.00   \n",
       "D19_BANKEN_ONLINE_DATUM                0.42                      0.08   \n",
       "D19_BANKEN_DATUM                       0.48                      0.33   \n",
       "D19_TELKO_OFFLINE_DATUM                0.24                      0.19   \n",
       "D19_TELKO_ONLINE_DATUM                 0.07                      0.01   \n",
       "D19_TELKO_DATUM                        0.42                      0.13   \n",
       "D19_VERSAND_OFFLINE_DATUM              0.46                      0.16   \n",
       "D19_VERSAND_ONLINE_DATUM               0.83                      0.11   \n",
       "D19_VERSAND_DATUM                      0.87                      0.13   \n",
       "D19_VERSI_OFFLINE_DATUM                0.15                      0.18   \n",
       "D19_VERSI_ONLINE_DATUM                 0.09                      0.02   \n",
       "D19_VERSI_DATUM                        0.51                      0.10   \n",
       "\n",
       "                           D19_BANKEN_ONLINE_DATUM  D19_BANKEN_DATUM  \\\n",
       "D19_GESAMT_OFFLINE_DATUM                      0.20              0.29   \n",
       "D19_GESAMT_ONLINE_DATUM                       0.47              0.49   \n",
       "D19_GESAMT_DATUM                              0.42              0.48   \n",
       "D19_BANKEN_OFFLINE_DATUM                      0.08              0.33   \n",
       "D19_BANKEN_ONLINE_DATUM                       1.00              0.89   \n",
       "D19_BANKEN_DATUM                              0.89              1.00   \n",
       "D19_TELKO_OFFLINE_DATUM                       0.14              0.19   \n",
       "D19_TELKO_ONLINE_DATUM                        0.03              0.03   \n",
       "D19_TELKO_DATUM                               0.28              0.31   \n",
       "D19_VERSAND_OFFLINE_DATUM                     0.15              0.20   \n",
       "D19_VERSAND_ONLINE_DATUM                      0.31              0.35   \n",
       "D19_VERSAND_DATUM                             0.31              0.35   \n",
       "D19_VERSI_OFFLINE_DATUM                       0.11              0.15   \n",
       "D19_VERSI_ONLINE_DATUM                        0.07              0.07   \n",
       "D19_VERSI_DATUM                               0.25              0.28   \n",
       "\n",
       "                           D19_TELKO_OFFLINE_DATUM  D19_TELKO_ONLINE_DATUM  \\\n",
       "D19_GESAMT_OFFLINE_DATUM                      0.38                    0.04   \n",
       "D19_GESAMT_ONLINE_DATUM                       0.19                    0.08   \n",
       "D19_GESAMT_DATUM                              0.24                    0.07   \n",
       "D19_BANKEN_OFFLINE_DATUM                      0.19                    0.01   \n",
       "D19_BANKEN_ONLINE_DATUM                       0.14                    0.03   \n",
       "D19_BANKEN_DATUM                              0.19                    0.03   \n",
       "D19_TELKO_OFFLINE_DATUM                       1.00                    0.02   \n",
       "D19_TELKO_ONLINE_DATUM                        0.02                    1.00   \n",
       "D19_TELKO_DATUM                               0.54                    0.17   \n",
       "D19_VERSAND_OFFLINE_DATUM                     0.17                    0.04   \n",
       "D19_VERSAND_ONLINE_DATUM                      0.19                    0.05   \n",
       "D19_VERSAND_DATUM                             0.20                    0.05   \n",
       "D19_VERSI_OFFLINE_DATUM                       0.17                    0.01   \n",
       "D19_VERSI_ONLINE_DATUM                        0.03                    0.01   \n",
       "D19_VERSI_DATUM                               0.17                    0.03   \n",
       "\n",
       "                           D19_TELKO_DATUM  D19_VERSAND_OFFLINE_DATUM  \\\n",
       "D19_GESAMT_OFFLINE_DATUM              0.32                       0.80   \n",
       "D19_GESAMT_ONLINE_DATUM               0.34                       0.36   \n",
       "D19_GESAMT_DATUM                      0.42                       0.46   \n",
       "D19_BANKEN_OFFLINE_DATUM              0.13                       0.16   \n",
       "D19_BANKEN_ONLINE_DATUM               0.28                       0.15   \n",
       "D19_BANKEN_DATUM                      0.31                       0.20   \n",
       "D19_TELKO_OFFLINE_DATUM               0.54                       0.17   \n",
       "D19_TELKO_ONLINE_DATUM                0.17                       0.04   \n",
       "D19_TELKO_DATUM                       1.00                       0.18   \n",
       "D19_VERSAND_OFFLINE_DATUM             0.18                       1.00   \n",
       "D19_VERSAND_ONLINE_DATUM              0.31                       0.36   \n",
       "D19_VERSAND_DATUM                     0.31                       0.52   \n",
       "D19_VERSI_OFFLINE_DATUM               0.16                       0.11   \n",
       "D19_VERSI_ONLINE_DATUM                0.06                       0.03   \n",
       "D19_VERSI_DATUM                       0.25                       0.18   \n",
       "\n",
       "                           D19_VERSAND_ONLINE_DATUM  D19_VERSAND_DATUM  \\\n",
       "D19_GESAMT_OFFLINE_DATUM                       0.40               0.52   \n",
       "D19_GESAMT_ONLINE_DATUM                        0.94               0.91   \n",
       "D19_GESAMT_DATUM                               0.83               0.87   \n",
       "D19_BANKEN_OFFLINE_DATUM                       0.11               0.13   \n",
       "D19_BANKEN_ONLINE_DATUM                        0.31               0.31   \n",
       "D19_BANKEN_DATUM                               0.35               0.35   \n",
       "D19_TELKO_OFFLINE_DATUM                        0.19               0.20   \n",
       "D19_TELKO_ONLINE_DATUM                         0.05               0.05   \n",
       "D19_TELKO_DATUM                                0.31               0.31   \n",
       "D19_VERSAND_OFFLINE_DATUM                      0.36               0.52   \n",
       "D19_VERSAND_ONLINE_DATUM                       1.00               0.95   \n",
       "D19_VERSAND_DATUM                              0.95               1.00   \n",
       "D19_VERSI_OFFLINE_DATUM                        0.11               0.12   \n",
       "D19_VERSI_ONLINE_DATUM                         0.07               0.07   \n",
       "D19_VERSI_DATUM                                0.32               0.33   \n",
       "\n",
       "                           D19_VERSI_OFFLINE_DATUM  D19_VERSI_ONLINE_DATUM  \\\n",
       "D19_GESAMT_OFFLINE_DATUM                      0.25                    0.05   \n",
       "D19_GESAMT_ONLINE_DATUM                       0.13                    0.10   \n",
       "D19_GESAMT_DATUM                              0.15                    0.09   \n",
       "D19_BANKEN_OFFLINE_DATUM                      0.18                    0.02   \n",
       "D19_BANKEN_ONLINE_DATUM                       0.11                    0.07   \n",
       "D19_BANKEN_DATUM                              0.15                    0.07   \n",
       "D19_TELKO_OFFLINE_DATUM                       0.17                    0.03   \n",
       "D19_TELKO_ONLINE_DATUM                        0.01                    0.01   \n",
       "D19_TELKO_DATUM                               0.16                    0.06   \n",
       "D19_VERSAND_OFFLINE_DATUM                     0.11                    0.03   \n",
       "D19_VERSAND_ONLINE_DATUM                      0.11                    0.07   \n",
       "D19_VERSAND_DATUM                             0.12                    0.07   \n",
       "D19_VERSI_OFFLINE_DATUM                       1.00                    0.06   \n",
       "D19_VERSI_ONLINE_DATUM                        0.06                    1.00   \n",
       "D19_VERSI_DATUM                               0.27                    0.16   \n",
       "\n",
       "                           D19_VERSI_DATUM  \n",
       "D19_GESAMT_OFFLINE_DATUM              0.25  \n",
       "D19_GESAMT_ONLINE_DATUM               0.35  \n",
       "D19_GESAMT_DATUM                      0.51  \n",
       "D19_BANKEN_OFFLINE_DATUM              0.10  \n",
       "D19_BANKEN_ONLINE_DATUM               0.25  \n",
       "D19_BANKEN_DATUM                      0.28  \n",
       "D19_TELKO_OFFLINE_DATUM               0.17  \n",
       "D19_TELKO_ONLINE_DATUM                0.03  \n",
       "D19_TELKO_DATUM                       0.25  \n",
       "D19_VERSAND_OFFLINE_DATUM             0.18  \n",
       "D19_VERSAND_ONLINE_DATUM              0.32  \n",
       "D19_VERSAND_DATUM                     0.33  \n",
       "D19_VERSI_OFFLINE_DATUM               0.27  \n",
       "D19_VERSI_ONLINE_DATUM                0.16  \n",
       "D19_VERSI_DATUM                       1.00  "
      ]
     },
     "metadata": {},
     "output_type": "display_data"
    }
   ],
   "source": [
    "corr_matrix = azdias[correlation_features].corr().abs().round(2)\n",
    "display(corr_matrix)"
   ]
  },
  {
   "cell_type": "markdown",
   "metadata": {},
   "source": [
    "#### Discussion 1.2.3: Analysing Feature Correlation\n",
    "\n",
    "After comparing many sets of attributes there wasn't any obvious correlation between several variables so I decided to stick with using PCA later in the project without manually dropping attributes by looking at correlation matrix."
   ]
  },
  {
   "cell_type": "code",
   "execution_count": 33,
   "metadata": {},
   "outputs": [],
   "source": [
    "#to save some memory this object will be cleared as it is no longer needed\n",
    "azdias = None"
   ]
  },
  {
   "cell_type": "markdown",
   "metadata": {},
   "source": [
    "### 1.3: Create a Cleaning Function\n",
    "\n",
    "Even though we've finished cleaning up the general population demographics data, it's important to look ahead to the future and realize that we'll need to perform the same cleaning steps on the customer demographics data. In this substep, we will create a function to execute the main feature selection, encoding, and re-engineering steps we performed above. Then, when it comes to looking at the customer data later in the project, we can just run this function on that DataFrame to get the trimmed dataset in a single step."
   ]
  },
  {
   "cell_type": "code",
   "execution_count": 34,
   "metadata": {},
   "outputs": [],
   "source": [
    "dropped_columns_names = ['AGER_TYP', 'ALTER_HH', 'ALTER_KIND1', 'ALTER_KIND2', 'ALTER_KIND3', 'ALTER_KIND4', 'ALTERSKATEGORIE_FEIN', 'D19_BANKEN_ANZ_12', 'D19_BANKEN_ANZ_24', 'D19_BANKEN_ONLINE_QUOTE_12', 'D19_GESAMT_ANZ_12', 'D19_GESAMT_ANZ_24', 'D19_GESAMT_ONLINE_QUOTE_12', 'D19_KONSUMTYP', 'D19_LETZTER_KAUF_BRANCHE', 'D19_LOTTO', 'D19_SOZIALES', 'D19_TELKO_ANZ_12', 'D19_TELKO_ANZ_24', 'D19_TELKO_ONLINE_QUOTE_12', 'D19_VERSAND_ANZ_12', 'D19_VERSAND_ANZ_24', 'D19_VERSAND_ONLINE_QUOTE_12', 'D19_VERSI_ANZ_12', 'D19_VERSI_ANZ_24', 'D19_VERSI_ONLINE_QUOTE_12', 'EXTSEL992', 'KBA05_BAUMAX', 'KK_KUNDENTYP', 'TITEL_KZ', 'CAMEO_INTL_2015', 'EINGEFUEGT_AM', 'ANREDE_KZ', 'CAMEO_DEUG_2015', 'CAMEO_DEU_2015', 'CJT_GESAMTTYP', 'FINANZTYP', 'GEBAEUDETYP', 'GEBAEUDETYP_RASTER', 'GFK_URLAUBERTYP', 'HEALTH_TYP', 'KBA05_MAXHERST', 'LP_FAMILIE_GROB', 'LP_LEBENSPHASE_FEIN', 'LP_LEBENSPHASE_GROB', 'LP_STATUS_FEIN', 'SHOPPER_TYP', 'VERS_TYP', 'ZABEOTYP', 'PRAEGENDE_JUGENDJAHRE']\n",
    "high_missing_columns = ['AGER_TYP', 'ALTER_HH', 'ALTER_KIND1', 'ALTER_KIND2', 'ALTER_KIND3', 'ALTER_KIND4', 'ALTERSKATEGORIE_FEIN', 'D19_BANKEN_ANZ_12', 'D19_BANKEN_ANZ_24', 'D19_BANKEN_ONLINE_QUOTE_12', 'D19_GESAMT_ANZ_12', 'D19_GESAMT_ANZ_24', 'D19_GESAMT_ONLINE_QUOTE_12', 'D19_KONSUMTYP', 'D19_LETZTER_KAUF_BRANCHE', 'D19_LOTTO', 'D19_SOZIALES', 'D19_TELKO_ANZ_12', 'D19_TELKO_ANZ_24', 'D19_TELKO_ONLINE_QUOTE_12', 'D19_VERSAND_ANZ_12', 'D19_VERSAND_ANZ_24', 'D19_VERSAND_ONLINE_QUOTE_12', 'D19_VERSI_ANZ_12', 'D19_VERSI_ANZ_24', 'D19_VERSI_ONLINE_QUOTE_12', 'EXTSEL992', 'KBA05_BAUMAX', 'KK_KUNDENTYP', 'TITEL_KZ']"
   ]
  },
  {
   "cell_type": "code",
   "execution_count": 35,
   "metadata": {},
   "outputs": [],
   "source": [
    "def clean_data(data, feat_info, columns_to_drop, high_missing_columns):\n",
    "    print('converting missing data to np.nan...\\n')\n",
    "    for attribute, missing_value_indicators in list(zip(feat_info.Attribute, feat_info.Value)):\n",
    "        if attribute not in data.columns:\n",
    "            continue\n",
    "        if(type(missing_value_indicators) == str):\n",
    "            missing_value_indicators = missing_value_indicators.split(',')\n",
    "        elif(type(missing_value_indicators == int)):\n",
    "            missing_value_indicators = [missing_value_indicators]\n",
    "        else:\n",
    "            print('unexpected value')\n",
    "        \n",
    "        for i in range(len(missing_value_indicators)):\n",
    "            try:\n",
    "                missing_value_indicators[i] = int(missing_value_indicators[i])\n",
    "            except ValueError:\n",
    "                pass  \n",
    "\n",
    "        for ind in missing_value_indicators:\n",
    "            data[attribute].replace(ind, np.nan, inplace = True)\n",
    "\n",
    "    \n",
    "    ##dropping the row with value 5 in GEBAEUDETYP\n",
    "    idx = data.index[data['GEBAEUDETYP'] == 5].tolist()\n",
    "    data.drop(idx, axis = 0, inplace = True)\n",
    "    \n",
    "    print('handing unique attributes: OST_WEST_KZ and CAMEO_DEUG_2015...\\n')\n",
    "\n",
    "    data['OST_WEST_KZ'].replace('W', 1, inplace = True)\n",
    "    data['OST_WEST_KZ'].replace('O', 0, inplace = True)\n",
    "\n",
    "    str_lst = ['1','2','3','4','5','6','7','8','9']\n",
    "\n",
    "    data['CAMEO_DEUG_2015'].replace('X', np.nan, inplace = True)\n",
    "\n",
    "    for val in str_lst:\n",
    "        data['CAMEO_DEUG_2015'].replace(val, int(val), inplace = True)\n",
    "        \n",
    "    #handing categorical variables\n",
    "    print('handling categorical variables...\\n')\n",
    "    categorical_variables = ['AGER_TYP', 'ANREDE_KZ', 'BIP_FLAG','CAMEO_DEUG_2015', 'CAMEO_DEU_2015', 'HAUSHALTSSTRUKTUR', \n",
    "                             'CAMEO_DEUINTL_2015', 'CJT_GESAMTTYP', 'D19_KONSUMTYP', 'FINANZTYP', 'GEBAEUDETYP', \n",
    "                             'GEBAEUDETYP_RASTER', 'GFK_URLAUBERTYP', 'HEALTH_TYP', 'KBA05_MAXHERST', 'LP_FAMILIE_FEI', \n",
    "                             'LP_FAMILIE_GROB', 'LP_LEBENSPHASE_FEIN', 'LP_LEBENSPHASE_GROB', 'LP_STATUS_FEIN', \n",
    "                             'LP_STATUS_GROB''NATIONALITAET_KZ', 'SHOPPER_TYP', 'TITEL_KZ', 'VERS_TYP', 'ZABEOTYP']\n",
    "    \n",
    "    for variable in categorical_variables:\n",
    "        if variable in data.columns and variable not in high_missing_columns:\n",
    "            number_of_unique_values = len(set(data[variable].dropna()))\n",
    "            if number_of_unique_values > 9:\n",
    "                #print(variable, 'with unique values count: ', number_of_unique_values, ' has been dropped')\n",
    "                pass\n",
    "            else:\n",
    "                dummies = pd.get_dummies(data[variable])\n",
    "                \n",
    "                #renaming dummies columns\n",
    "                dummies_names = list(dummies.columns)\n",
    "                for i, col in enumerate(dummies_names):\n",
    "                    dummies_names[i] = variable+str(col)\n",
    "\n",
    "                dummies.columns = dummies_names\n",
    "                \n",
    "                data = pd.concat([data, dummies], axis = 1)\n",
    "                #print(variable, ' has been one hot encoded')\n",
    "                \n",
    "\n",
    "        else:\n",
    "            #print(variable, ' not found in data or has been dropped previously')\n",
    "            pass\n",
    "\n",
    "    \n",
    "    # Investigating \"PRAEGENDE_JUGENDJAHRE\" and engineering two new variables.\n",
    "    print('engineering the variable PRAEGENDE_JUGENDJAHRE into two new variables...')\n",
    "\n",
    "    decade = []\n",
    "    movement = []\n",
    "\n",
    "    info = \"\"\"-  1: 40s - war years (Mainstream, E+W)\n",
    "    -  2: 40s - reconstruction years (Avantgarde, E+W)\n",
    "    -  3: 50s - economic miracle (Mainstream, E+W)\n",
    "    -  4: 50s - milk bar / Individualisation (Avantgarde, E+W)\n",
    "    -  5: 60s - economic miracle (Mainstream, E+W)\n",
    "    -  6: 60s - generation 68 / student protestors (Avantgarde, W)\n",
    "    -  7: 60s - opponents to the building of the Wall (Avantgarde, E)\n",
    "    -  8: 70s - family orientation (Mainstream, E+W)\n",
    "    -  9: 70s - peace movement (Avantgarde, E+W)\n",
    "    - 10: 80s - Generation Golf (Mainstream, W)\n",
    "    - 11: 80s - ecological awareness (Avantgarde, W)\n",
    "    - 12: 80s - FDJ / communist party youth organisation (Mainstream, E)\n",
    "    - 13: 80s - Swords into ploughshares (Avantgarde, E)\n",
    "    - 14: 90s - digital media kids (Mainstream, E+W)\n",
    "    - 15: 90s - ecological awareness (Avantgarde, E+W)\"\"\"\n",
    "\n",
    "    info = info.replace(' ','').replace('\\n','').replace('-','').split(')')\n",
    "\n",
    "\n",
    "    for val in data['PRAEGENDE_JUGENDJAHRE']:\n",
    "        if pd.isna(val):\n",
    "            decade.append(np.nan)\n",
    "            movement.append(np.nan)\n",
    "            continue\n",
    "\n",
    "        i = int(val - 1)\n",
    "        colon_ind = info[i].index(':')\n",
    "        bracket_ind = info[i].index('(')\n",
    "        comma_ind = info[i].index(',')\n",
    "\n",
    "        dec = info[i][colon_ind+1:colon_ind+3]\n",
    "        mov = info[i][bracket_ind + 1:comma_ind]\n",
    "\n",
    "        decade.append(int(dec))\n",
    "        if mov == 'Mainstream':\n",
    "            movement.append(0)\n",
    "        else:\n",
    "            movement.append(1)\n",
    "            \n",
    "    data['decade'] = decade\n",
    "    data['movement'] = movement\n",
    "    \n",
    "    \n",
    "    print('\\ndropping columns with high number of missing values...')\n",
    "    data.drop(columns_to_drop, axis = 1, inplace = True)\n",
    "    \n",
    "    #removing  rows with lots of missing data    \n",
    "    print('\\ndropping rows with high number of missing data...\\n')\n",
    "    row_missings = data.isna().sum(axis = 1)\n",
    "    \n",
    "    high_missing_rows = []\n",
    "                \n",
    "    for ind,missings in enumerate(row_missings):\n",
    "        if missings>15:\n",
    "            high_missing_rows.append(ind)\n",
    "\n",
    "\n",
    "    data.drop(high_missing_rows, axis = 0, inplace = True)\n",
    "    \n",
    "    print(data.shape)\n",
    "    \n",
    "    return data"
   ]
  },
  {
   "cell_type": "code",
   "execution_count": 36,
   "metadata": {},
   "outputs": [
    {
     "name": "stdout",
     "output_type": "stream",
     "text": [
      "converting missing data to np.nan...\n",
      "\n",
      "handing unique attributes: OST_WEST_KZ and CAMEO_DEUG_2015...\n",
      "\n",
      "handling categorical variables...\n",
      "\n",
      "engineering the variable PRAEGENDE_JUGENDJAHRE into two new variables...\n",
      "\n",
      "dropping columns with high number of missing values...\n",
      "\n",
      "dropping rows with high number of missing data...\n",
      "\n",
      "(734903, 378)\n"
     ]
    }
   ],
   "source": [
    "general_population = clean_data(azdias_original, feat_info, dropped_columns_names, high_missing_columns)"
   ]
  },
  {
   "cell_type": "markdown",
   "metadata": {},
   "source": [
    "## 2: Feature Transformation\n",
    "\n",
    "### 2.1: Apply Feature Scaling\n",
    "\n",
    "Before we apply dimensionality reduction techniques to the data, we need to perform feature scaling so that the principal component vectors are not influenced by the natural differences in scale for features. In this substep, we'll need to check the following:\n",
    "\n",
    "- sklearn requires that data not have missing values in order for its estimators to work properly. So, before applying the scaler to our data, we have to make sure that we've cleaned the DataFrame of the remaining missing values. This can be as simple as just removing all data points with missing data, or applying an [Imputer](http://scikit-learn.org/stable/modules/generated/sklearn.preprocessing.Imputer.html) to replace all missing values. we might also try a more complicated procedure where you temporarily remove missing values in order to compute the scaling parameters before re-introducing those missing values and applying imputation. Think about how much missing data you have and what possible effects each approach might have on your analysis, this will be discussed in the discussion section below.\n",
    "- For the actual scaling function, a [StandardScaler](http://scikit-learn.org/stable/modules/generated/sklearn.preprocessing.StandardScaler.html) instance is suggested, scaling each feature to mean 0 and standard deviation 1.\n",
    "- For these classes, we can make use of the `.fit_transform()` method to both fit a procedure to the data as well as apply the transformation to the data at the same time. we shouldn't forget to keep the fit sklearn objects handy, since we'll be applying them to the customer demographics data towards the end of the project."
   ]
  },
  {
   "cell_type": "code",
   "execution_count": 37,
   "metadata": {},
   "outputs": [
    {
     "data": {
      "text/plain": [
       "(734903, 378)"
      ]
     },
     "execution_count": 37,
     "metadata": {},
     "output_type": "execute_result"
    }
   ],
   "source": [
    "general_population.shape"
   ]
  },
  {
   "cell_type": "code",
   "execution_count": 38,
   "metadata": {},
   "outputs": [
    {
     "data": {
      "text/plain": [
       "567093"
      ]
     },
     "execution_count": 38,
     "metadata": {},
     "output_type": "execute_result"
    }
   ],
   "source": [
    "#calculation for number of rows that have no missing data\n",
    "row_missings = general_population.isna().sum(axis = 1)\n",
    "lst = list(row_missings)\n",
    "lst.count(0)\n",
    "\n",
    "# 567093 out of 734903 rows have no missing data (22.83% have missing data)"
   ]
  },
  {
   "cell_type": "code",
   "execution_count": 39,
   "metadata": {},
   "outputs": [
    {
     "data": {
      "text/plain": [
       "546652"
      ]
     },
     "execution_count": 39,
     "metadata": {},
     "output_type": "execute_result"
    }
   ],
   "source": [
    "#calculation for total number of missing data\n",
    "general_population.isna().sum().sum()\n",
    "\n",
    "# 546652 out of (734904*379) of the data is missing (0.19% of the total data is missing)"
   ]
  },
  {
   "cell_type": "code",
   "execution_count": 40,
   "metadata": {},
   "outputs": [
    {
     "name": "stdout",
     "output_type": "stream",
     "text": [
      "(734903, 378)\n",
      "number of remining missing values in the whole data set:  0\n"
     ]
    }
   ],
   "source": [
    "imputer = SimpleImputer()\n",
    "imputed_data = pd.DataFrame(imputer.fit_transform(general_population))\n",
    "print(imputed_data.shape)\n",
    "print('number of remining missing values in the whole data set: ',imputed_data.isna().sum().sum())\n",
    "imputed_data.head()\n",
    "\n",
    "general_population_columns = list(general_population.columns)\n",
    "general_population = None"
   ]
  },
  {
   "cell_type": "code",
   "execution_count": 41,
   "metadata": {},
   "outputs": [
    {
     "data": {
      "text/plain": [
       "(734903, 378)"
      ]
     },
     "execution_count": 41,
     "metadata": {},
     "output_type": "execute_result"
    }
   ],
   "source": [
    "imputed_data.shape"
   ]
  },
  {
   "cell_type": "code",
   "execution_count": 42,
   "metadata": {},
   "outputs": [
    {
     "name": "stdout",
     "output_type": "stream",
     "text": [
      "(734903, 378)\n"
     ]
    },
    {
     "data": {
      "text/html": [
       "<div>\n",
       "<style scoped>\n",
       "    .dataframe tbody tr th:only-of-type {\n",
       "        vertical-align: middle;\n",
       "    }\n",
       "\n",
       "    .dataframe tbody tr th {\n",
       "        vertical-align: top;\n",
       "    }\n",
       "\n",
       "    .dataframe thead th {\n",
       "        text-align: right;\n",
       "    }\n",
       "</style>\n",
       "<table border=\"1\" class=\"dataframe\">\n",
       "  <thead>\n",
       "    <tr style=\"text-align: right;\">\n",
       "      <th></th>\n",
       "      <th>LNR</th>\n",
       "      <th>AKT_DAT_KL</th>\n",
       "      <th>ANZ_HAUSHALTE_AKTIV</th>\n",
       "      <th>ANZ_HH_TITEL</th>\n",
       "      <th>ANZ_KINDER</th>\n",
       "      <th>ANZ_PERSONEN</th>\n",
       "      <th>ANZ_STATISTISCHE_HAUSHALTE</th>\n",
       "      <th>ANZ_TITEL</th>\n",
       "      <th>ARBEIT</th>\n",
       "      <th>BALLRAUM</th>\n",
       "      <th>...</th>\n",
       "      <th>VERS_TYP1.0</th>\n",
       "      <th>VERS_TYP2.0</th>\n",
       "      <th>ZABEOTYP1</th>\n",
       "      <th>ZABEOTYP2</th>\n",
       "      <th>ZABEOTYP3</th>\n",
       "      <th>ZABEOTYP4</th>\n",
       "      <th>ZABEOTYP5</th>\n",
       "      <th>ZABEOTYP6</th>\n",
       "      <th>decade</th>\n",
       "      <th>movement</th>\n",
       "    </tr>\n",
       "  </thead>\n",
       "  <tbody>\n",
       "    <tr>\n",
       "      <th>0</th>\n",
       "      <td>1.057661</td>\n",
       "      <td>1.260589</td>\n",
       "      <td>0.186871</td>\n",
       "      <td>-0.125967</td>\n",
       "      <td>-0.299183</td>\n",
       "      <td>0.223920</td>\n",
       "      <td>0.335422</td>\n",
       "      <td>-0.060677</td>\n",
       "      <td>-0.179268</td>\n",
       "      <td>0.850325</td>\n",
       "      <td>...</td>\n",
       "      <td>-0.907516</td>\n",
       "      <td>0.996264</td>\n",
       "      <td>-0.427308</td>\n",
       "      <td>-0.192444</td>\n",
       "      <td>-0.740912</td>\n",
       "      <td>-0.597120</td>\n",
       "      <td>2.949950</td>\n",
       "      <td>-0.313677</td>\n",
       "      <td>1.173152</td>\n",
       "      <td>-0.554911</td>\n",
       "    </tr>\n",
       "    <tr>\n",
       "      <th>1</th>\n",
       "      <td>1.057681</td>\n",
       "      <td>1.260589</td>\n",
       "      <td>0.120667</td>\n",
       "      <td>-0.125967</td>\n",
       "      <td>-0.299183</td>\n",
       "      <td>-0.634999</td>\n",
       "      <td>-0.031933</td>\n",
       "      <td>-0.060677</td>\n",
       "      <td>-0.179268</td>\n",
       "      <td>-0.980900</td>\n",
       "      <td>...</td>\n",
       "      <td>1.101909</td>\n",
       "      <td>-1.003750</td>\n",
       "      <td>-0.427308</td>\n",
       "      <td>-0.192444</td>\n",
       "      <td>-0.740912</td>\n",
       "      <td>-0.597120</td>\n",
       "      <td>2.949950</td>\n",
       "      <td>-0.313677</td>\n",
       "      <td>1.173152</td>\n",
       "      <td>1.856332</td>\n",
       "    </tr>\n",
       "    <tr>\n",
       "      <th>2</th>\n",
       "      <td>1.057685</td>\n",
       "      <td>-0.935814</td>\n",
       "      <td>-0.475162</td>\n",
       "      <td>-0.125967</td>\n",
       "      <td>-0.299183</td>\n",
       "      <td>-1.493918</td>\n",
       "      <td>-0.399287</td>\n",
       "      <td>-0.060677</td>\n",
       "      <td>-1.185284</td>\n",
       "      <td>-0.065288</td>\n",
       "      <td>...</td>\n",
       "      <td>1.101909</td>\n",
       "      <td>-1.003750</td>\n",
       "      <td>-0.427308</td>\n",
       "      <td>-0.192444</td>\n",
       "      <td>1.349687</td>\n",
       "      <td>-0.597120</td>\n",
       "      <td>-0.338989</td>\n",
       "      <td>-0.313677</td>\n",
       "      <td>-0.216761</td>\n",
       "      <td>-0.554911</td>\n",
       "    </tr>\n",
       "    <tr>\n",
       "      <th>3</th>\n",
       "      <td>1.057743</td>\n",
       "      <td>-0.935814</td>\n",
       "      <td>-0.342756</td>\n",
       "      <td>-0.125967</td>\n",
       "      <td>-0.299183</td>\n",
       "      <td>1.941758</td>\n",
       "      <td>-0.325817</td>\n",
       "      <td>-0.060677</td>\n",
       "      <td>0.826747</td>\n",
       "      <td>-0.980900</td>\n",
       "      <td>...</td>\n",
       "      <td>-0.907516</td>\n",
       "      <td>0.996264</td>\n",
       "      <td>-0.427308</td>\n",
       "      <td>-0.192444</td>\n",
       "      <td>-0.740912</td>\n",
       "      <td>1.674704</td>\n",
       "      <td>-0.338989</td>\n",
       "      <td>-0.313677</td>\n",
       "      <td>-0.216761</td>\n",
       "      <td>-0.554911</td>\n",
       "    </tr>\n",
       "    <tr>\n",
       "      <th>4</th>\n",
       "      <td>1.057755</td>\n",
       "      <td>-0.935814</td>\n",
       "      <td>-0.210349</td>\n",
       "      <td>-0.125967</td>\n",
       "      <td>-0.299183</td>\n",
       "      <td>-0.634999</td>\n",
       "      <td>-0.399287</td>\n",
       "      <td>-0.060677</td>\n",
       "      <td>-1.185284</td>\n",
       "      <td>0.850325</td>\n",
       "      <td>...</td>\n",
       "      <td>-0.907516</td>\n",
       "      <td>0.996264</td>\n",
       "      <td>-0.427308</td>\n",
       "      <td>-0.192444</td>\n",
       "      <td>-0.740912</td>\n",
       "      <td>1.674704</td>\n",
       "      <td>-0.338989</td>\n",
       "      <td>-0.313677</td>\n",
       "      <td>-1.606674</td>\n",
       "      <td>-0.554911</td>\n",
       "    </tr>\n",
       "  </tbody>\n",
       "</table>\n",
       "<p>5 rows × 378 columns</p>\n",
       "</div>"
      ],
      "text/plain": [
       "        LNR  AKT_DAT_KL  ANZ_HAUSHALTE_AKTIV  ANZ_HH_TITEL  ANZ_KINDER  \\\n",
       "0  1.057661    1.260589             0.186871     -0.125967   -0.299183   \n",
       "1  1.057681    1.260589             0.120667     -0.125967   -0.299183   \n",
       "2  1.057685   -0.935814            -0.475162     -0.125967   -0.299183   \n",
       "3  1.057743   -0.935814            -0.342756     -0.125967   -0.299183   \n",
       "4  1.057755   -0.935814            -0.210349     -0.125967   -0.299183   \n",
       "\n",
       "   ANZ_PERSONEN  ANZ_STATISTISCHE_HAUSHALTE  ANZ_TITEL    ARBEIT  BALLRAUM  \\\n",
       "0      0.223920                    0.335422  -0.060677 -0.179268  0.850325   \n",
       "1     -0.634999                   -0.031933  -0.060677 -0.179268 -0.980900   \n",
       "2     -1.493918                   -0.399287  -0.060677 -1.185284 -0.065288   \n",
       "3      1.941758                   -0.325817  -0.060677  0.826747 -0.980900   \n",
       "4     -0.634999                   -0.399287  -0.060677 -1.185284  0.850325   \n",
       "\n",
       "   ...  VERS_TYP1.0  VERS_TYP2.0  ZABEOTYP1  ZABEOTYP2  ZABEOTYP3  ZABEOTYP4  \\\n",
       "0  ...    -0.907516     0.996264  -0.427308  -0.192444  -0.740912  -0.597120   \n",
       "1  ...     1.101909    -1.003750  -0.427308  -0.192444  -0.740912  -0.597120   \n",
       "2  ...     1.101909    -1.003750  -0.427308  -0.192444   1.349687  -0.597120   \n",
       "3  ...    -0.907516     0.996264  -0.427308  -0.192444  -0.740912   1.674704   \n",
       "4  ...    -0.907516     0.996264  -0.427308  -0.192444  -0.740912   1.674704   \n",
       "\n",
       "   ZABEOTYP5  ZABEOTYP6    decade  movement  \n",
       "0   2.949950  -0.313677  1.173152 -0.554911  \n",
       "1   2.949950  -0.313677  1.173152  1.856332  \n",
       "2  -0.338989  -0.313677 -0.216761 -0.554911  \n",
       "3  -0.338989  -0.313677 -0.216761 -0.554911  \n",
       "4  -0.338989  -0.313677 -1.606674 -0.554911  \n",
       "\n",
       "[5 rows x 378 columns]"
      ]
     },
     "execution_count": 42,
     "metadata": {},
     "output_type": "execute_result"
    }
   ],
   "source": [
    "standarizer = StandardScaler()\n",
    "standarized_data = pd.DataFrame(standarizer.fit_transform(imputed_data))\n",
    "standarized_data.columns = general_population_columns\n",
    "print(standarized_data.shape)\n",
    "standarized_data.head()"
   ]
  },
  {
   "cell_type": "markdown",
   "metadata": {},
   "source": [
    "### Discussion 2.1: Apply Feature Scaling\n",
    "\n",
    "Imputing the data with mean values before applying feature scaling would cause more values to be around the mean, that is because imputing replaces the missing values with the mean value of the column. When the number of values around the mean increase, It leads to a lower standard deviation, which leads to different values for each data entry after applying feature scaling.\n",
    "\n",
    "one option is to temporarily remove the missing values, calculate the scaling parameters then re-introduce those missing values and applying imputation. doing this will ensure that we have the correct standard deviation for the completed data, however, there is a trade off. I calculated that 22.83% of the rows contain at least 1 missing data. all of these rows will have to be dropped for the sake of getting the correct standard deviations for the completed data (the data with 0 missing values).\n",
    "\n",
    "the 2nd option is imputing the data right away then use feature scaling. here, I calculated that 0.19% of the data is labelled as missing with np.nan. Replacing 0.19% of the data with the means seems much better than temporarily dropping 22.83% of the data to get a more accurate standard deviations for the completed data, and even if we went with the first option, it won't accurately represent the original data due to the huge volume of missing data while calculating the scaling parameters.\n",
    "\n",
    "so i decided to go with with the second option, using imputation right away then using StandardScaler for feature scaling."
   ]
  },
  {
   "cell_type": "markdown",
   "metadata": {},
   "source": [
    "### 2.2: Perform Dimensionality Reduction\n",
    "\n",
    "On the scaled data, we are now ready to apply dimensionality reduction techniques.\n",
    "\n",
    "- We will use sklearn's [PCA](http://scikit-learn.org/stable/modules/generated/sklearn.decomposition.PCA.html) class to apply principal component analysis on the data, thus finding the vectors of maximal variance in the data. To start, we should not set any parameters (so all components are computed) or set a number of components that is about half the number of features (so there's enough features to see the general trend in variability).\n",
    "- We will check out the ratio of variance explained by each principal component as well as the cumulative variance explained, and plot the cumulative or sequential values using matplotlib's [`plot()`](https://matplotlib.org/api/_as_gen/matplotlib.pyplot.plot.html) function. Based on what we find, we will select a value for the number of transformed features we'll retain for the clustering part of the project.\n",
    "- Once we've made a choice for the number of components to keep, we will re-fit a PCA instance to perform the decided-on transformation."
   ]
  },
  {
   "cell_type": "code",
   "execution_count": 43,
   "metadata": {},
   "outputs": [],
   "source": [
    "# Apply PCA to the data.\n",
    "pca = PCA(random_state = 0, n_components = 170)\n",
    "pca.fit(standarized_data)\n",
    "variance_ratio = pca.explained_variance_ratio_"
   ]
  },
  {
   "cell_type": "code",
   "execution_count": 44,
   "metadata": {},
   "outputs": [
    {
     "data": {
      "image/png": "[encoded data removed]",
      "text/plain": [
       "<Figure size 720x360 with 1 Axes>"
      ]
     },
     "metadata": {
      "needs_background": "light"
     },
     "output_type": "display_data"
    }
   ],
   "source": [
    "# Investigate the variance accounted for by each principal component.\n",
    "plt.figure(figsize=(10,5))\n",
    "x = list(range(len(standarized_data.columns)))\n",
    "x = list(range(pca.n_components_))\n",
    "y = variance_ratio\n",
    "plt.bar(x, y, width=0.8, align='center')\n",
    "\n",
    "accumlation = 0\n",
    "acc_values = []\n",
    "for i, percentage in enumerate(variance_ratio):\n",
    "    accumlation += percentage\n",
    "    acc_values.append(accumlation)\n",
    "    #plt.annotate(str(round(percentage,2)), (i,percentage))\n",
    "    \n",
    "plt.xlabel('Principal Component')\n",
    "plt.ylabel('variance explained (%)')\n",
    "plt.title('Explained Variance per principal component')    \n",
    "    \n",
    "plt.plot(x, acc_values)\n",
    "plt.show()"
   ]
  },
  {
   "cell_type": "code",
   "execution_count": 45,
   "metadata": {},
   "outputs": [
    {
     "name": "stdout",
     "output_type": "stream",
     "text": [
      "with 1 components, explained variance is:  0.07452298387943918\n",
      "with 2 components, explained variance is:  0.12287925965591177\n",
      "with 3 components, explained variance is:  0.1675375976408284\n",
      "with 4 components, explained variance is:  0.20080909161545055\n",
      "with 5 components, explained variance is:  0.2235052544966204\n",
      "with 6 components, explained variance is:  0.24548357591996278\n",
      "with 7 components, explained variance is:  0.26396891997638683\n",
      "with 8 components, explained variance is:  0.2802625884303727\n",
      "with 9 components, explained variance is:  0.2951573271608117\n",
      "with 10 components, explained variance is:  0.3087683122708705\n",
      "with 11 components, explained variance is:  0.3213917978762882\n",
      "with 12 components, explained variance is:  0.3326574915893825\n",
      "with 13 components, explained variance is:  0.3429386807267621\n",
      "with 14 components, explained variance is:  0.35258627314745744\n",
      "with 15 components, explained variance is:  0.36179803910744995\n",
      "with 16 components, explained variance is:  0.3705880259041799\n",
      "with 17 components, explained variance is:  0.3791267675306357\n",
      "with 18 components, explained variance is:  0.38726392837429036\n",
      "with 19 components, explained variance is:  0.3952974496050347\n",
      "with 20 components, explained variance is:  0.4027666984443449\n",
      "with 21 components, explained variance is:  0.40998054352538854\n",
      "with 22 components, explained variance is:  0.4170700850082822\n",
      "with 23 components, explained variance is:  0.42388022634918376\n",
      "with 24 components, explained variance is:  0.4304733251389216\n",
      "with 25 components, explained variance is:  0.4369687724929198\n",
      "with 26 components, explained variance is:  0.44338301742384933\n",
      "with 27 components, explained variance is:  0.44958311411498314\n",
      "with 28 components, explained variance is:  0.45541943891989645\n",
      "with 29 components, explained variance is:  0.46099889892499535\n",
      "with 30 components, explained variance is:  0.46645748471685\n",
      "with 31 components, explained variance is:  0.47188566409607763\n",
      "with 32 components, explained variance is:  0.4772210010618284\n",
      "with 33 components, explained variance is:  0.4824782761450109\n",
      "with 34 components, explained variance is:  0.4876486809224448\n",
      "with 35 components, explained variance is:  0.4926197788024669\n",
      "with 36 components, explained variance is:  0.4973702892783929\n",
      "with 37 components, explained variance is:  0.5021142977119848\n",
      "with 38 components, explained variance is:  0.5067561141724483\n",
      "with 39 components, explained variance is:  0.5113248227658719\n",
      "with 40 components, explained variance is:  0.5158088031859538\n",
      "with 41 components, explained variance is:  0.5201513780747276\n",
      "with 42 components, explained variance is:  0.5244466752695615\n",
      "with 43 components, explained variance is:  0.5287036077665644\n",
      "with 44 components, explained variance is:  0.5329030182230393\n",
      "with 45 components, explained variance is:  0.5370185045913862\n",
      "with 46 components, explained variance is:  0.541114089239554\n",
      "with 47 components, explained variance is:  0.5451556685910194\n",
      "with 48 components, explained variance is:  0.5491827416117694\n",
      "with 49 components, explained variance is:  0.5531462288638083\n",
      "with 50 components, explained variance is:  0.5570312478920592\n",
      "with 51 components, explained variance is:  0.5608283633450173\n",
      "with 52 components, explained variance is:  0.5646012597379159\n",
      "with 53 components, explained variance is:  0.5683416756715751\n",
      "with 54 components, explained variance is:  0.5720519074118596\n",
      "with 55 components, explained variance is:  0.5757319156609686\n",
      "with 56 components, explained variance is:  0.57936147682889\n",
      "with 57 components, explained variance is:  0.5829609125871653\n",
      "with 58 components, explained variance is:  0.5865080250834699\n",
      "with 59 components, explained variance is:  0.5900432406923206\n",
      "with 60 components, explained variance is:  0.5935641728074623\n",
      "with 61 components, explained variance is:  0.5970103247730546\n",
      "with 62 components, explained variance is:  0.6004468029559333\n",
      "with 63 components, explained variance is:  0.6038175886607721\n",
      "with 64 components, explained variance is:  0.6071689744480869\n",
      "with 65 components, explained variance is:  0.6104845059549612\n",
      "with 66 components, explained variance is:  0.6137804733424026\n",
      "with 67 components, explained variance is:  0.617059176272223\n",
      "with 68 components, explained variance is:  0.620321169724119\n",
      "with 69 components, explained variance is:  0.623533860530273\n",
      "with 70 components, explained variance is:  0.6267254115366231\n",
      "with 71 components, explained variance is:  0.6298831284560077\n",
      "with 72 components, explained variance is:  0.6330139388043624\n",
      "with 73 components, explained variance is:  0.6360913918075964\n",
      "with 74 components, explained variance is:  0.6391478601195404\n",
      "with 75 components, explained variance is:  0.6422006870270475\n",
      "with 76 components, explained variance is:  0.6452263692610851\n",
      "with 77 components, explained variance is:  0.6482410101571314\n",
      "with 78 components, explained variance is:  0.6512361029041221\n",
      "with 79 components, explained variance is:  0.6541916416196748\n",
      "with 80 components, explained variance is:  0.657111197801725\n",
      "with 81 components, explained variance is:  0.6600211777598152\n",
      "with 82 components, explained variance is:  0.6629199617700429\n",
      "with 83 components, explained variance is:  0.6658125332900343\n",
      "with 84 components, explained variance is:  0.6686809015524864\n",
      "with 85 components, explained variance is:  0.671526383775707\n",
      "with 86 components, explained variance is:  0.674361191287508\n",
      "with 87 components, explained variance is:  0.6771620099446183\n",
      "with 88 components, explained variance is:  0.6799558386736694\n",
      "with 89 components, explained variance is:  0.6827358417963613\n",
      "with 90 components, explained variance is:  0.6854937285614325\n",
      "with 91 components, explained variance is:  0.6882402867838265\n",
      "with 92 components, explained variance is:  0.6909568507823306\n",
      "with 93 components, explained variance is:  0.6936674717943545\n",
      "with 94 components, explained variance is:  0.6963637393855677\n",
      "with 95 components, explained variance is:  0.6990454422648757\n",
      "with 96 components, explained variance is:  0.7017096347857127\n",
      "with 97 components, explained variance is:  0.7043615513378799\n",
      "with 98 components, explained variance is:  0.7070064320767186\n",
      "with 99 components, explained variance is:  0.7096443528659689\n",
      "with 100 components, explained variance is:  0.7122671417264597\n",
      "with 101 components, explained variance is:  0.7148742094825614\n",
      "with 102 components, explained variance is:  0.7174686014938898\n",
      "with 103 components, explained variance is:  0.7200447736282056\n",
      "with 104 components, explained variance is:  0.7226088443414804\n",
      "with 105 components, explained variance is:  0.7251593742380651\n",
      "with 106 components, explained variance is:  0.7276814451115516\n",
      "with 107 components, explained variance is:  0.7301916659885894\n",
      "with 108 components, explained variance is:  0.7326877009900985\n",
      "with 109 components, explained variance is:  0.7351618167798993\n",
      "with 110 components, explained variance is:  0.7376269395102104\n",
      "with 111 components, explained variance is:  0.7400726481312031\n",
      "with 112 components, explained variance is:  0.7425004128899438\n",
      "with 113 components, explained variance is:  0.7449115953738835\n",
      "with 114 components, explained variance is:  0.7473105152111319\n",
      "with 115 components, explained variance is:  0.7496993128524395\n",
      "with 116 components, explained variance is:  0.7520745146798243\n",
      "with 117 components, explained variance is:  0.7544360501966777\n",
      "with 118 components, explained variance is:  0.756786670451059\n",
      "with 119 components, explained variance is:  0.7591252236872994\n",
      "with 120 components, explained variance is:  0.7614555233953837\n",
      "with 121 components, explained variance is:  0.7637675818855048\n",
      "with 122 components, explained variance is:  0.7660652185933888\n",
      "with 123 components, explained variance is:  0.7683468568988685\n",
      "with 124 components, explained variance is:  0.7706087237636486\n",
      "with 125 components, explained variance is:  0.7728625464792593\n",
      "with 126 components, explained variance is:  0.775091292440032\n",
      "with 127 components, explained variance is:  0.777311447418405\n",
      "with 128 components, explained variance is:  0.7795161447224391\n",
      "with 129 components, explained variance is:  0.7816978627131845\n",
      "with 130 components, explained variance is:  0.7838659466233971\n",
      "with 131 components, explained variance is:  0.7860205871854771\n",
      "with 132 components, explained variance is:  0.7881581733655852\n",
      "with 133 components, explained variance is:  0.7902855408773859\n",
      "with 134 components, explained variance is:  0.7924026647765477\n",
      "with 135 components, explained variance is:  0.7945027201644722\n",
      "with 136 components, explained variance is:  0.7965905775348047\n",
      "with 137 components, explained variance is:  0.7986634130075148\n",
      "with 138 components, explained variance is:  0.8007209358838492\n",
      "with 139 components, explained variance is:  0.8027642795304096\n",
      "with 140 components, explained variance is:  0.8047931814043083\n",
      "with 141 components, explained variance is:  0.8068035889973477\n",
      "with 142 components, explained variance is:  0.8088078084465726\n",
      "with 143 components, explained variance is:  0.8108072072990816\n",
      "with 144 components, explained variance is:  0.8127775565446714\n",
      "with 145 components, explained variance is:  0.8147376120048092\n",
      "with 146 components, explained variance is:  0.8166894978318485\n",
      "with 147 components, explained variance is:  0.8186140767875049\n",
      "with 148 components, explained variance is:  0.8205272919501296\n",
      "with 149 components, explained variance is:  0.8224266898981624\n",
      "with 150 components, explained variance is:  0.8243204933464789\n",
      "with 151 components, explained variance is:  0.826205811039888\n",
      "with 152 components, explained variance is:  0.828083933777103\n",
      "with 153 components, explained variance is:  0.8299444840305525\n",
      "with 154 components, explained variance is:  0.8317984093443764\n",
      "with 155 components, explained variance is:  0.8336179630646688\n",
      "with 156 components, explained variance is:  0.8354354311389728\n",
      "with 157 components, explained variance is:  0.8372324812755658\n",
      "with 158 components, explained variance is:  0.839022299509756\n",
      "with 159 components, explained variance is:  0.840791496606773\n",
      "with 160 components, explained variance is:  0.8425476620982114\n",
      "with 161 components, explained variance is:  0.8442884144186906\n",
      "with 162 components, explained variance is:  0.8460176701640155\n",
      "with 163 components, explained variance is:  0.8477299361244013\n",
      "with 164 components, explained variance is:  0.8494381858229785\n",
      "with 165 components, explained variance is:  0.8511273155830347\n",
      "with 166 components, explained variance is:  0.8527994631545694\n",
      "with 167 components, explained variance is:  0.8544607440827995\n",
      "with 168 components, explained variance is:  0.8561058506772627\n",
      "with 169 components, explained variance is:  0.8577470744346172\n",
      "with 170 components, explained variance is:  0.8593617417811027\n"
     ]
    }
   ],
   "source": [
    "accumlation = 0\n",
    "acc_values = []\n",
    "for i, percentage in enumerate(variance_ratio):\n",
    "    accumlation += percentage\n",
    "    acc_values.append(accumlation)\n",
    "    print(f'with {i+1} components, explained variance is: ', accumlation)"
   ]
  },
  {
   "cell_type": "code",
   "execution_count": 46,
   "metadata": {},
   "outputs": [
    {
     "name": "stdout",
     "output_type": "stream",
     "text": [
      "total variance explained by 140 components:  0.8016750506734571\n"
     ]
    }
   ],
   "source": [
    "# Re-apply PCA to the data while selecting for number of components to retain.\n",
    "pca = PCA(n_components = 140, random_state = 0)\n",
    "pca.fit(standarized_data)\n",
    "variance_ratio = pca.explained_variance_ratio_\n",
    "print('total variance explained by 140 components: ',sum(variance_ratio))"
   ]
  },
  {
   "cell_type": "code",
   "execution_count": 47,
   "metadata": {},
   "outputs": [
    {
     "data": {
      "image/png": "[encoded data removed]",
      "text/plain": [
       "<Figure size 1296x720 with 1 Axes>"
      ]
     },
     "metadata": {
      "needs_background": "light"
     },
     "output_type": "display_data"
    }
   ],
   "source": [
    "plt.figure(figsize=(18,10))\n",
    "x = list(range(pca.n_components_))\n",
    "y = variance_ratio\n",
    "plt.bar(x, y, width=0.8, align='center')\n",
    "\n",
    "accumlation = 0\n",
    "acc_values = []\n",
    "for i, percentage in enumerate(variance_ratio):\n",
    "    accumlation += percentage\n",
    "    acc_values.append(accumlation)\n",
    "    #plt.annotate(str(round(percentage,2))+'%', (i,percentage), va=\"bottom\", ha=\"center\", fontsize = 10)\n",
    "    \n",
    "plt.xlabel('Principal Component')\n",
    "plt.ylabel('variance explained (%)')\n",
    "plt.title('Explained Variance per principal component')\n",
    "plt.plot(x, acc_values)\n",
    "plt.xticks(x)\n",
    "plt.show()"
   ]
  },
  {
   "cell_type": "code",
   "execution_count": 48,
   "metadata": {},
   "outputs": [
    {
     "data": {
      "text/plain": [
       "(734903, 140)"
      ]
     },
     "execution_count": 48,
     "metadata": {},
     "output_type": "execute_result"
    }
   ],
   "source": [
    "reduced_data = pd.DataFrame(pca.transform(standarized_data))\n",
    "reduced_data.shape"
   ]
  },
  {
   "cell_type": "code",
   "execution_count": 49,
   "metadata": {},
   "outputs": [
    {
     "data": {
      "text/html": [
       "<div>\n",
       "<style scoped>\n",
       "    .dataframe tbody tr th:only-of-type {\n",
       "        vertical-align: middle;\n",
       "    }\n",
       "\n",
       "    .dataframe tbody tr th {\n",
       "        vertical-align: top;\n",
       "    }\n",
       "\n",
       "    .dataframe thead th {\n",
       "        text-align: right;\n",
       "    }\n",
       "</style>\n",
       "<table border=\"1\" class=\"dataframe\">\n",
       "  <thead>\n",
       "    <tr style=\"text-align: right;\">\n",
       "      <th></th>\n",
       "      <th>0</th>\n",
       "      <th>1</th>\n",
       "      <th>2</th>\n",
       "      <th>3</th>\n",
       "      <th>4</th>\n",
       "      <th>5</th>\n",
       "      <th>6</th>\n",
       "      <th>7</th>\n",
       "      <th>8</th>\n",
       "      <th>9</th>\n",
       "      <th>...</th>\n",
       "      <th>130</th>\n",
       "      <th>131</th>\n",
       "      <th>132</th>\n",
       "      <th>133</th>\n",
       "      <th>134</th>\n",
       "      <th>135</th>\n",
       "      <th>136</th>\n",
       "      <th>137</th>\n",
       "      <th>138</th>\n",
       "      <th>139</th>\n",
       "    </tr>\n",
       "  </thead>\n",
       "  <tbody>\n",
       "    <tr>\n",
       "      <th>0</th>\n",
       "      <td>4.475775</td>\n",
       "      <td>5.143061</td>\n",
       "      <td>5.375063</td>\n",
       "      <td>-4.744309</td>\n",
       "      <td>0.604864</td>\n",
       "      <td>-2.522138</td>\n",
       "      <td>4.235020</td>\n",
       "      <td>0.572798</td>\n",
       "      <td>-0.652959</td>\n",
       "      <td>-0.770920</td>\n",
       "      <td>...</td>\n",
       "      <td>-1.705081</td>\n",
       "      <td>1.172339</td>\n",
       "      <td>-0.754868</td>\n",
       "      <td>-0.955051</td>\n",
       "      <td>0.396836</td>\n",
       "      <td>-0.034436</td>\n",
       "      <td>-1.006996</td>\n",
       "      <td>1.593777</td>\n",
       "      <td>-0.140741</td>\n",
       "      <td>0.323371</td>\n",
       "    </tr>\n",
       "    <tr>\n",
       "      <th>1</th>\n",
       "      <td>-0.860589</td>\n",
       "      <td>2.626562</td>\n",
       "      <td>1.066782</td>\n",
       "      <td>-2.797465</td>\n",
       "      <td>3.919916</td>\n",
       "      <td>-4.291211</td>\n",
       "      <td>-5.242248</td>\n",
       "      <td>-1.535202</td>\n",
       "      <td>2.077822</td>\n",
       "      <td>0.160855</td>\n",
       "      <td>...</td>\n",
       "      <td>0.558217</td>\n",
       "      <td>1.127251</td>\n",
       "      <td>0.741080</td>\n",
       "      <td>-0.260251</td>\n",
       "      <td>-0.877615</td>\n",
       "      <td>-0.487201</td>\n",
       "      <td>0.151922</td>\n",
       "      <td>-0.415185</td>\n",
       "      <td>0.495490</td>\n",
       "      <td>0.369383</td>\n",
       "    </tr>\n",
       "    <tr>\n",
       "      <th>2</th>\n",
       "      <td>-5.455267</td>\n",
       "      <td>0.708969</td>\n",
       "      <td>-3.800492</td>\n",
       "      <td>-3.917086</td>\n",
       "      <td>-0.611069</td>\n",
       "      <td>-1.716919</td>\n",
       "      <td>1.532026</td>\n",
       "      <td>-1.207692</td>\n",
       "      <td>-2.172070</td>\n",
       "      <td>-2.533139</td>\n",
       "      <td>...</td>\n",
       "      <td>0.741286</td>\n",
       "      <td>-0.577944</td>\n",
       "      <td>0.387241</td>\n",
       "      <td>0.138694</td>\n",
       "      <td>-0.444074</td>\n",
       "      <td>-0.686574</td>\n",
       "      <td>-0.492724</td>\n",
       "      <td>1.973204</td>\n",
       "      <td>-0.534860</td>\n",
       "      <td>0.250166</td>\n",
       "    </tr>\n",
       "    <tr>\n",
       "      <th>3</th>\n",
       "      <td>-2.351500</td>\n",
       "      <td>1.947003</td>\n",
       "      <td>3.594474</td>\n",
       "      <td>6.603306</td>\n",
       "      <td>-3.219062</td>\n",
       "      <td>3.390540</td>\n",
       "      <td>-2.273490</td>\n",
       "      <td>-2.623822</td>\n",
       "      <td>-0.193918</td>\n",
       "      <td>-3.645347</td>\n",
       "      <td>...</td>\n",
       "      <td>-0.899607</td>\n",
       "      <td>1.274477</td>\n",
       "      <td>0.745403</td>\n",
       "      <td>0.556914</td>\n",
       "      <td>-1.253568</td>\n",
       "      <td>-0.397798</td>\n",
       "      <td>0.360925</td>\n",
       "      <td>1.366814</td>\n",
       "      <td>-1.068877</td>\n",
       "      <td>-1.271512</td>\n",
       "    </tr>\n",
       "    <tr>\n",
       "      <th>4</th>\n",
       "      <td>-3.173463</td>\n",
       "      <td>1.964999</td>\n",
       "      <td>-1.178142</td>\n",
       "      <td>-3.356312</td>\n",
       "      <td>1.477085</td>\n",
       "      <td>-0.307680</td>\n",
       "      <td>0.622809</td>\n",
       "      <td>-1.690340</td>\n",
       "      <td>0.844437</td>\n",
       "      <td>-1.773769</td>\n",
       "      <td>...</td>\n",
       "      <td>-1.032985</td>\n",
       "      <td>0.996258</td>\n",
       "      <td>0.462053</td>\n",
       "      <td>-0.431130</td>\n",
       "      <td>0.439808</td>\n",
       "      <td>-0.192819</td>\n",
       "      <td>-0.953954</td>\n",
       "      <td>0.914084</td>\n",
       "      <td>-0.265728</td>\n",
       "      <td>0.149134</td>\n",
       "    </tr>\n",
       "  </tbody>\n",
       "</table>\n",
       "<p>5 rows × 140 columns</p>\n",
       "</div>"
      ],
      "text/plain": [
       "        0         1         2         3         4         5         6    \\\n",
       "0  4.475775  5.143061  5.375063 -4.744309  0.604864 -2.522138  4.235020   \n",
       "1 -0.860589  2.626562  1.066782 -2.797465  3.919916 -4.291211 -5.242248   \n",
       "2 -5.455267  0.708969 -3.800492 -3.917086 -0.611069 -1.716919  1.532026   \n",
       "3 -2.351500  1.947003  3.594474  6.603306 -3.219062  3.390540 -2.273490   \n",
       "4 -3.173463  1.964999 -1.178142 -3.356312  1.477085 -0.307680  0.622809   \n",
       "\n",
       "        7         8         9    ...       130       131       132       133  \\\n",
       "0  0.572798 -0.652959 -0.770920  ... -1.705081  1.172339 -0.754868 -0.955051   \n",
       "1 -1.535202  2.077822  0.160855  ...  0.558217  1.127251  0.741080 -0.260251   \n",
       "2 -1.207692 -2.172070 -2.533139  ...  0.741286 -0.577944  0.387241  0.138694   \n",
       "3 -2.623822 -0.193918 -3.645347  ... -0.899607  1.274477  0.745403  0.556914   \n",
       "4 -1.690340  0.844437 -1.773769  ... -1.032985  0.996258  0.462053 -0.431130   \n",
       "\n",
       "        134       135       136       137       138       139  \n",
       "0  0.396836 -0.034436 -1.006996  1.593777 -0.140741  0.323371  \n",
       "1 -0.877615 -0.487201  0.151922 -0.415185  0.495490  0.369383  \n",
       "2 -0.444074 -0.686574 -0.492724  1.973204 -0.534860  0.250166  \n",
       "3 -1.253568 -0.397798  0.360925  1.366814 -1.068877 -1.271512  \n",
       "4  0.439808 -0.192819 -0.953954  0.914084 -0.265728  0.149134  \n",
       "\n",
       "[5 rows x 140 columns]"
      ]
     },
     "execution_count": 49,
     "metadata": {},
     "output_type": "execute_result"
    }
   ],
   "source": [
    "reduced_data.head()"
   ]
  },
  {
   "cell_type": "markdown",
   "metadata": {},
   "source": [
    "### Discussion 2.2: Perform Dimensionality Reduction\n",
    "\n",
    "Generaly achieving anywhere between 80-90% of explained variance is acceptable. since we are dealing with very high dimensionality, i decided to keep enough PCA components to explain 80% of the data, meaning we need to retain 140 components."
   ]
  },
  {
   "cell_type": "markdown",
   "metadata": {},
   "source": [
    "### 2.3: Interpret Principal Components\n",
    "\n",
    "Now that we have our transformed principal components, it's a nice idea to check out the weight of each variable on the first few components to see if they can be interpreted in some fashion.\n",
    "\n",
    "As a reminder, each principal component is a unit vector that points in the direction of highest variance (after accounting for the variance captured by earlier principal components). The further a weight is from zero, the more the principal component is in the direction of the corresponding feature. If two features have large weights of the same sign (both positive or both negative), then increases in one tend expect to be associated with increases in the other. To contrast, features with different signs can be expected to show a negative correlation: increases in one variable should result in a decrease in the other.\n",
    "\n",
    "- To investigate the features, we should map each weight to their corresponding feature name, then sort the features according to weight. The most interesting features for each principal component, then, will be those at the beginning and end of the sorted list. we will use the information levels file to help us understand these most prominent features, their relationships, and what a positive or negative value on the principal component might indicate.\n",
    "- we will investigate and interpret feature associations from the first three principal components in this substep. To help facilitate this, we should write a function that we can call at any time to print the sorted list of feature weights, for the *i*-th principal component. This might come in handy in the next step of the project, when we interpret the tendencies of the discovered clusters."
   ]
  },
  {
   "cell_type": "code",
   "execution_count": 50,
   "metadata": {},
   "outputs": [],
   "source": [
    "# Map weights for the first principal component to corresponding feature names\n",
    "# and then print the linked values, sorted by weight.\n",
    "\n",
    "def analyze_component(component):\n",
    "    lst = list(zip(standarized_data.columns, component))\n",
    "    lst.sort(key=lambda tup: tup[1], reverse = True)\n",
    "    \n",
    "    #print(lst)\n",
    "    print('first four features: ',lst[0:4],'\\n')\n",
    "    print('last four features: ',lst[-4:])"
   ]
  },
  {
   "cell_type": "code",
   "execution_count": 51,
   "metadata": {},
   "outputs": [
    {
     "name": "stdout",
     "output_type": "stream",
     "text": [
      "first four features:  [('PLZ8_ANTG3', 0.1415838023184833), ('KBA13_ANTG3', 0.1405904639962385), ('KBA13_ANTG4', 0.1373773559975352), ('KBA13_BAUMAX', 0.1370377061426516)] \n",
      "\n",
      "last four features:  [('KBA05_ANTG1', -0.13606265528435751), ('KBA13_ANTG1', -0.14214935751073515), ('PLZ8_ANTG1', -0.1428995725887383), ('MOBI_REGIO', -0.1468017256203787)]\n"
     ]
    }
   ],
   "source": [
    "# Mapping weights for the first principal component to corresponding feature names\n",
    "# and then printing the linked values, sorted by weight.\n",
    "\n",
    "analyze_component(pca.components_[0])"
   ]
  },
  {
   "cell_type": "code",
   "execution_count": 52,
   "metadata": {},
   "outputs": [
    {
     "name": "stdout",
     "output_type": "stream",
     "text": [
      "first four features:  [('KBA13_HERST_BMW_BENZ', 0.18218499160198634), ('KBA13_MERCEDES', 0.155930758013584), ('KBA13_SEG_OBEREMITTELKLASSE', 0.15559220768281917), ('KBA13_BMW', 0.15178201666733254)] \n",
      "\n",
      "last four features:  [('KBA13_HALTER_25', -0.12081604897795702), ('KBA13_KMH_140_210', -0.12954228918235383), ('KBA13_SEG_KLEINWAGEN', -0.1296435862662352), ('KBA13_SITZE_5', -0.15007737850998268)]\n"
     ]
    }
   ],
   "source": [
    "# Mapping weights for the second principal component to corresponding feature names\n",
    "# and then printing the linked values, sorted by weight.\n",
    "\n",
    "analyze_component(pca.components_[1])"
   ]
  },
  {
   "cell_type": "code",
   "execution_count": 53,
   "metadata": {},
   "outputs": [
    {
     "name": "stdout",
     "output_type": "stream",
     "text": [
      "first four features:  [('decade', 0.20483195546437075), ('CJT_TYP_1', 0.1921072145931057), ('CJT_TYP_2', 0.19037088463921756), ('FINANZ_SPARER', 0.18763694107687)] \n",
      "\n",
      "last four features:  [('ALTERSKATEGORIE_GROB', -0.17109075953755679), ('CJT_TYP_4', -0.17440709351678493), ('FINANZ_VORSORGER', -0.17631770324599152), ('CJT_TYP_5', -0.178446084022247)]\n"
     ]
    }
   ],
   "source": [
    "# Mapping weights for the second principal component to corresponding feature names\n",
    "# and then printing the linked values, sorted by weight.\n",
    "\n",
    "analyze_component(pca.components_[2])"
   ]
  },
  {
   "cell_type": "markdown",
   "metadata": {},
   "source": [
    "### Discussion 2.3: Interpret Principal Components\n",
    "\n",
    "Before analysing the principal components there are two main points to clarify: \n",
    "- A feature having positive weight as opposed to a feature having negative weight doesn't mean that the positively weighed feature is better, it simply means that if the positively weighed feature gets a high value for a certain customer it is unlikely for the negatively weighed feature to have high value as well, and vice versa. so the data can be interpreted in more than one way due to this fact.\n",
    "\n",
    "- After exploring the attributes file, it became apparent that many of the attributes are explained the opposit way around. for example: having a high value in the Movement patterns feature (MOBI_REGIO) would mean very low mobility. I will indicate such features with a -ve sign infront of their description written below. other features have a +ve sign infront of them.\n",
    "\n",
    "#### Analysis of the first Principal Component\n",
    "\n",
    "the most positively weighed features in the 1st component indicate the following:\n",
    "1. PLZ8_ANTG3: number of 6-10 family houses in the PLZ8\t+\n",
    "2. KBA13_ANTG3: no description\n",
    "3. KBA13_ANTG4: no description\n",
    "4. KBA13_BAUMAX: no description\n",
    "\n",
    "the most negatively weighed features in the 1st component indicate the following:\n",
    "1. KBA05_ANTG1: number of 1-2 family houses in the cell\t+\n",
    "2. KBA13_ANTG1: no description\n",
    "3. PLZ8_ANTG1: number of 1-2 family houses in the PLZ8\t+\n",
    "4. MOBI_REGIO: Moving patterns\t-\n",
    "\n",
    "##### Conclusions:\n",
    "\n",
    "The relation between the attributes above indicate that people who own a large number number of 6-10 family houses in the PLZ8 region also tend to have a small number of 1-2 family houses in PLZ8 region as well as in the cell. they also tend to have high mobility.\n",
    "\n",
    "#### Analysis of the second Principal Component\n",
    "\n",
    "the most positively weighed features in the 2nd component indicate the following:\n",
    "1. KBA13_HERST_BMW_BENZ: share of BMW & Mercedes Benz within the PLZ8\t+\n",
    "2. KBA13_MERCEDES: share of MERCEDES within the PLZ8\t+\n",
    "3. KBA13_SEG_OBEREMITTELKLASSE: share of upper middle class cars and upper class cars (BMW5er, BMW7er etc.)\t+\n",
    "4. KBA13_BMW: share of BMW within the PLZ8\t\t+\n",
    "\n",
    "the most negatively weighed features in the 2nd component indicate the following:\n",
    "1. KBA13_HALTER_25: share of car owners between 21 and 25 within the PLZ8\t\t+\n",
    "2. KBA13_KMH_140_210: share of cars with max speed between 140 and 210 km/h within the PLZ8\t+\n",
    "3. KBA13_SEG_KLEINWAGEN: share of small and very small cars (Ford Fiesta, Ford Ka etc.) in the PLZ8\t+\n",
    "4. KBA13_SITZE_5: number of cars with 5 seats in the PLZ8 \t\t+\n",
    "\n",
    "##### Conclusions:\n",
    "\n",
    "The relation between the attributes above indicate that people with a larger share of BMW and Mercedes Benz within the PLZ8 area tend to not be aged 21-25 and have a lower share of cars with max speed between 140-210 km/h, cars that are small/very small, and cars with 5 seats.\n",
    "\n",
    "\n",
    "#### Analysis of the third Principal Component\n",
    "\n",
    "the most positively weighed features in the 3rd component indicate the following:\n",
    "1. decade: generation by decades\t- (because a higher number means a younger generation)\n",
    "2. CJT_TYP_1: no description\n",
    "3. CJT_TYP_2: no description\n",
    "4. FINANZ_SPARER: financial typology: money saver\t\t-\n",
    "\n",
    "the most negatively weighed features in the 3rd component indicate the following:\n",
    "1. ALTERSKATEGORIE_GROB: age classification through prename analysis \t+\n",
    "2. CJT_TYP_4: no ddescription\n",
    "3. FINANZ_VORSORGER: financial typology: be prepared\t-\n",
    "4. CJT_TYP_5: no description\n",
    "\n",
    "##### Conclusions:\n",
    "\n",
    "The relation between the attributes above indicate that younger generations tend to be less concerned with saving money but are more likely to adapt a more prepared lifestyle."
   ]
  },
  {
   "cell_type": "markdown",
   "metadata": {},
   "source": [
    "## Customer Segmentation Report\n",
    "\n",
    "The main bulk of your analysis will come in this part of the project. Here, you should use unsupervised learning techniques to describe the relationship between the demographics of the company's existing customers and the general population of Germany. By the end of this part, you should be able to describe parts of the general population that are more likely to be part of the mail-order company's main customer base, and which parts of the general population are less so."
   ]
  },
  {
   "cell_type": "markdown",
   "metadata": {},
   "source": [
    "## 3: Clustering\n",
    "\n",
    "### 3.1: Apply Clustering to General Population\n",
    "\n",
    "We've assessed and cleaned the demographics data, then scaled and transformed them. Now, it's time to see how the data clusters in the principal components space. In this substep, we will apply k-means clustering to the dataset and use the average within-cluster distances from each point to their assigned cluster's centroid to decide on a number of clusters to keep.\n",
    "\n",
    "- we will use sklearn's [KMeans](http://scikit-learn.org/stable/modules/generated/sklearn.cluster.KMeans.html#sklearn.cluster.KMeans) class to perform k-means clustering on the PCA-transformed data.\n",
    "- Then, compute the average difference from each point to its assigned cluster's center. The KMeans object's `.score()` method might be useful here, but note that in sklearn, scores tend to be defined so that larger is better.\n",
    "\n",
    "- We will perform the above two steps for a number of different cluster counts. We can then see how the average distance decreases with an increasing number of clusters. However, each additional cluster provides a smaller net benefit. We can use this fact to select a final number of clusters in which to group the data. **Warning**: because of the large size of the dataset, it can take a long time for the algorithm to resolve. The more clusters to fit, the longer the algorithm will take. We should test for cluster counts through at least 10 clusters to get the full picture, but we shouldn't need to test for a number of clusters above about 30.\n",
    "- Once we've selected a final number of clusters to use, we can re-fit a KMeans instance to perform the clustering operation."
   ]
  },
  {
   "cell_type": "code",
   "execution_count": 54,
   "metadata": {},
   "outputs": [
    {
     "name": "stdout",
     "output_type": "stream",
     "text": [
      "Average distance from centroids for 2 clusters is:  207905727\n",
      "Average distance from centroids for 3 clusters is:  201990033\n",
      "Average distance from centroids for 4 clusters is:  197193501\n",
      "Average distance from centroids for 5 clusters is:  193212651\n",
      "Average distance from centroids for 6 clusters is:  190177063\n",
      "Average distance from centroids for 7 clusters is:  187668103\n",
      "Average distance from centroids for 8 clusters is:  185698226\n",
      "Average distance from centroids for 9 clusters is:  184110886\n",
      "Average distance from centroids for 10 clusters is:  182765025\n",
      "Average distance from centroids for 11 clusters is:  181673425\n",
      "Average distance from centroids for 12 clusters is:  180652661\n",
      "Average distance from centroids for 13 clusters is:  179754552\n",
      "Average distance from centroids for 14 clusters is:  178900970\n",
      "Average distance from centroids for 15 clusters is:  178073654\n",
      "Average distance from centroids for 16 clusters is:  177350616\n",
      "Average distance from centroids for 17 clusters is:  176613679\n",
      "Average distance from centroids for 18 clusters is:  176025692\n",
      "Average distance from centroids for 19 clusters is:  175399559\n",
      "Average distance from centroids for 20 clusters is:  174743805\n",
      "Average distance from centroids for 21 clusters is:  174344094\n",
      "Average distance from centroids for 22 clusters is:  173823564\n",
      "Average distance from centroids for 23 clusters is:  173275725\n",
      "Average distance from centroids for 24 clusters is:  172710040\n"
     ]
    }
   ],
   "source": [
    "# Over a number of different cluster counts...\n",
    "# run k-means clustering on the data and...\n",
    "# compute the average within-cluster distances.\n",
    "\n",
    "avg_distances_lst = []\n",
    "k = list(range(2,25))\n",
    "for i in k:\n",
    "    kmeans = KMeans(n_clusters = i).fit(reduced_data)\n",
    "    avg_distance = abs(kmeans.score(reduced_data))\n",
    "    avg_distance = int(avg_distance)\n",
    "    avg_distances_lst.append(avg_distance)\n",
    "    print(f'Average distance from centroids for {i} clusters is: ', avg_distance)"
   ]
  },
  {
   "cell_type": "code",
   "execution_count": 55,
   "metadata": {},
   "outputs": [
    {
     "data": {
      "image/png": "[encoded data removed]",
      "text/plain": [
       "<Figure size 432x288 with 1 Axes>"
      ]
     },
     "metadata": {
      "needs_background": "light"
     },
     "output_type": "display_data"
    }
   ],
   "source": [
    "# Investigate the change in within-cluster distance across number of clusters.\n",
    "\n",
    "plt.plot(k, avg_distances_lst, linestyle='--', marker='o')\n",
    "plt.xlabel('number of clusters')\n",
    "plt.ylabel('Sum of squared errors')\n",
    "plt.title('SSE vs K', fontsize = 15)\n",
    "plt.xticks(k)\n",
    "plt.show()    "
   ]
  },
  {
   "cell_type": "code",
   "execution_count": 56,
   "metadata": {},
   "outputs": [],
   "source": [
    "# Re-fit the k-means model with the selected number of clusters and obtain\n",
    "# cluster predictions for the general population demographics data.\n",
    "\n",
    "kmeans = KMeans(n_clusters = 11, random_state = 0).fit(reduced_data)\n",
    "general_predictions = kmeans.predict(reduced_data)"
   ]
  },
  {
   "cell_type": "markdown",
   "metadata": {},
   "source": [
    "### Discussion 3.1: Apply Clustering to General Population\n",
    "\n",
    "The SSE vs K plot shown above shows an \"elbow\" at clusters 7-11. after cluster number 11, the slope of the curve seems to remain somewhat constant, so I decided to go with 11 clusters."
   ]
  },
  {
   "cell_type": "markdown",
   "metadata": {},
   "source": [
    "### 3.2: Apply All Steps to the Customer Data\n",
    "\n",
    "Now that we have clusters and cluster centers for the general population, it's time to see how the customer data maps on to those clusters. We will clean the customers data using the function created previously \"clean_data\", then we can use the objects we fit on the general demographics data such as the PCA object and the K-means classifier object to transform the customers dataset. We will then interpret how the general population fits apply to the customer data."
   ]
  },
  {
   "cell_type": "code",
   "execution_count": 57,
   "metadata": {},
   "outputs": [
    {
     "name": "stderr",
     "output_type": "stream",
     "text": [
      "C:\\Users\\Mahmo\\Anaconda3\\lib\\site-packages\\IPython\\core\\interactiveshell.py:3063: DtypeWarning: Columns (19,20) have mixed types.Specify dtype option on import or set low_memory=False.\n",
      "  interactivity=interactivity, compiler=compiler, result=result)\n"
     ]
    }
   ],
   "source": [
    "customers = pd.read_csv('customers.csv')\n",
    "customers.drop(['Unnamed: 0', 'CUSTOMER_GROUP', 'ONLINE_PURCHASE', 'PRODUCT_GROUP'], axis = 1, inplace = True)"
   ]
  },
  {
   "cell_type": "code",
   "execution_count": 58,
   "metadata": {},
   "outputs": [
    {
     "name": "stdout",
     "output_type": "stream",
     "text": [
      "converting missing data to np.nan...\n",
      "\n",
      "handing unique attributes: OST_WEST_KZ and CAMEO_DEUG_2015...\n",
      "\n",
      "handling categorical variables...\n",
      "\n",
      "engineering the variable PRAEGENDE_JUGENDJAHRE into two new variables...\n",
      "\n",
      "dropping columns with high number of missing values...\n",
      "\n",
      "dropping rows with high number of missing data...\n",
      "\n",
      "(132934, 378)\n"
     ]
    }
   ],
   "source": [
    "clean_customer_data = clean_data(customers, feat_info, dropped_columns_names, high_missing_columns)"
   ]
  },
  {
   "cell_type": "code",
   "execution_count": 59,
   "metadata": {},
   "outputs": [],
   "source": [
    "imputed_customer_data = pd.DataFrame(imputer.transform(clean_customer_data))\n",
    "standarized_customer_data = pd.DataFrame(standarizer.fit_transform(imputed_customer_data))\n",
    "reduced_customer_data = pd.DataFrame(pca.transform(standarized_customer_data))\n",
    "customer_predictions = kmeans.predict(reduced_customer_data)"
   ]
  },
  {
   "cell_type": "markdown",
   "metadata": {},
   "source": [
    "### 3.3: Compare Customer Data to Demographics Data\n",
    "\n",
    "At this point, we have clustered data based on demographics of the general population of Germany, and seen how the customer data for a mail-order sales company maps onto those demographic clusters. In this final substep, we will compare the two cluster distributions to see where the strongest customer base for the company is.\n",
    "\n",
    "We will consider the proportion of persons in each cluster for the general population, and the proportions for the customers. If we think the company's customer base to be universal, then the cluster assignment proportions should be fairly similar between the two. If there are only particular segments of the population that are interested in the company's products, then we should see a mismatch from one to the other. If there is a higher proportion of persons in a cluster for the customer data compared to the general population (e.g. 5% of persons are assigned to a cluster for the general population, but 15% of the customer data is closest to that cluster's centroid) then that suggests the people in that cluster to be a target audience for the company. On the other hand, the proportion of the data in a cluster being larger in the general population than the customer data (e.g. only 2% of customers closest to a population centroid that captures 6% of the data) suggests that group of persons to be outside of the target demographics.\n",
    "\n",
    "In the following section we will perform two things:\n",
    "\n",
    "-we are going to visualize the ratios in cluster representations between the two groups Seaborn's [`countplot()`](https://seaborn.pydata.org/generated/seaborn.countplot.html) or [`barplot()`](https://seaborn.pydata.org/generated/seaborn.barplot.html)\n",
    "\n",
    "-using that visualization, we are going to analyze clusters that are overpresented to guide us into finding out which individuals are more likely customers, and we will also analyze underrepresented clusters to find out which individuals are unlikely to be customers for the mail order company."
   ]
  },
  {
   "cell_type": "code",
   "execution_count": 61,
   "metadata": {},
   "outputs": [],
   "source": [
    "# Compare the proportion of data in each cluster for the customer data to the\n",
    "# proportion of data in each cluster for the general population.\n",
    "\n",
    "g_pred = list(general_predictions)\n",
    "c_pred = list(customer_predictions)\n",
    "\n",
    "g_percentages = []\n",
    "c_percentages = []\n",
    "\n",
    "for i in range(0,11):\n",
    "    per = g_pred.count(i)/len(g_pred)\n",
    "    g_percentages.append(round(per*100,2))\n",
    "\n",
    "for i in range(0,11):\n",
    "    per = c_pred.count(i)/len(c_pred)\n",
    "    c_percentages.append(round(per*100,2))"
   ]
  },
  {
   "cell_type": "code",
   "execution_count": 62,
   "metadata": {},
   "outputs": [],
   "source": [
    "percentages = g_percentages.copy()\n",
    "percentages.extend(c_percentages)\n",
    "labels = list(range(0,11))\n",
    "labels.extend(list(range(0,11)))\n",
    "\n",
    "hue = ['general population']*11\n",
    "hue.extend(['customers population']*11)\n",
    "\n",
    "df = pd.DataFrame(list(zip(labels,percentages,hue)), columns = ['clusters','percentages','hue'])"
   ]
  },
  {
   "cell_type": "code",
   "execution_count": 63,
   "metadata": {},
   "outputs": [
    {
     "data": {
      "image/png": "[encoded data removed]",
      "text/plain": [
       "<Figure size 720x576 with 1 Axes>"
      ]
     },
     "metadata": {
      "needs_background": "light"
     },
     "output_type": "display_data"
    }
   ],
   "source": [
    "plt.figure(figsize=(10,8))\n",
    "sns.barplot(x=\"clusters\", y=\"percentages\", hue=\"hue\", data=df)\n",
    "plt.yticks(list(range(0,27,2)))\n",
    "plt.title(\"Percentage of population within clusters\")\n",
    "plt.show()"
   ]
  },
  {
   "cell_type": "code",
   "execution_count": 65,
   "metadata": {},
   "outputs": [
    {
     "name": "stdout",
     "output_type": "stream",
     "text": [
      "Features that represent the type of people in cluster 1: \n",
      "\n",
      "first four features:  [('FINANZ_MINIMALIST', 0.8631285335424677), ('CJT_TYP_5', 0.8293694543513409), ('FINANZ_VORSORGER', 0.813718603323718), ('CJT_TYP_3', 0.8053985990783368)] \n",
      "\n",
      "last four features:  [('PLZ8_ANTG3', -0.8285367741122389), ('FINANZ_SPARER', -0.8345813487228122), ('KBA13_ANTG3', -0.8430850730911814), ('CJT_TYP_2', -0.9502591630429521)]\n"
     ]
    }
   ],
   "source": [
    "#clusters 1 and 3 are clearly overrepresented, while clusters 6 and 7 are underpresented\n",
    "\n",
    "print('Features that represent the type of people in cluster 1: \\n')\n",
    "cluster_1 = pca.inverse_transform(kmeans.cluster_centers_[1])\n",
    "analyze_component(cluster_1)"
   ]
  },
  {
   "cell_type": "code",
   "execution_count": 66,
   "metadata": {},
   "outputs": [
    {
     "name": "stdout",
     "output_type": "stream",
     "text": [
      "Features that represent the type of people in cluster 3: \n",
      "\n",
      "first four features:  [('GREEN_AVANTGARDE', 1.1107801022721497), ('movement', 1.1101370614215513), ('KBA13_HERST_BMW_BENZ', 1.103132785801122), ('KBA05_KW3', 1.0555817429868475)] \n",
      "\n",
      "last four features:  [('KKK', -0.9535225487513708), ('HH_EINKOMMEN_SCORE', -0.9565183658167988), ('KBA13_KMH_140_210', -0.9629683584131741), ('KBA13_KMH_180', -0.9736049064512348)]\n"
     ]
    }
   ],
   "source": [
    "print('Features that represent the type of people in cluster 3: \\n')\n",
    "cluster_3= pca.inverse_transform(kmeans.cluster_centers_[3])\n",
    "analyze_component(cluster_3)"
   ]
  },
  {
   "cell_type": "code",
   "execution_count": 67,
   "metadata": {},
   "outputs": [
    {
     "name": "stdout",
     "output_type": "stream",
     "text": [
      "Features that represent the type of people in cluster 6: \n",
      "\n",
      "first four features:  [('PLZ8_BAUMAX', 1.2378442149284474), ('KBA13_BAUMAX', 1.2367301159397548), ('KBA13_ANTG4', 1.180018777506823), ('PLZ8_ANTG4', 1.1737648763837838)] \n",
      "\n",
      "last four features:  [('MOBI_REGIO', -1.0331054846984928), ('KBA13_AUTOQUOTE', -1.103608241352341), ('KBA13_ANTG1', -1.1277155515286756), ('PLZ8_ANTG1', -1.137876476419717)]\n"
     ]
    }
   ],
   "source": [
    "print('Features that represent the type of people in cluster 6: \\n')\n",
    "cluster_6 = pca.inverse_transform(kmeans.cluster_centers_[6])\n",
    "analyze_component(cluster_6)"
   ]
  },
  {
   "cell_type": "code",
   "execution_count": 68,
   "metadata": {},
   "outputs": [
    {
     "name": "stdout",
     "output_type": "stream",
     "text": [
      "Features that represent the type of people in cluster 7: \n",
      "\n",
      "first four features:  [('FINANZ_SPARER', 0.9109968029203271), ('FINANZ_UNAUFFAELLIGER', 0.9002967607955974), ('CJT_TYP_1', 0.8833063788637366), ('CJT_TYP_2', 0.8602405434505448)] \n",
      "\n",
      "last four features:  [('ALTERSKATEGORIE_GROB', -0.703574495151306), ('FINANZ_MINIMALIST', -0.7189482940684433), ('FINANZ_VORSORGER', -0.7815525599404675), ('CJT_TYP_5', -0.7908134185226207)]\n"
     ]
    }
   ],
   "source": [
    "print('Features that represent the type of people in cluster 7: \\n')\n",
    "cluster_7 = pca.inverse_transform(kmeans.cluster_centers_[7])\n",
    "analyze_component(cluster_7)"
   ]
  },
  {
   "cell_type": "code",
   "execution_count": 69,
   "metadata": {},
   "outputs": [],
   "source": [
    "#the following objects will be cleared so save some memory as they are no longer needed for the next part of the project\n",
    "imputed_data = None\n",
    "standarized_data = None\n",
    "reduced_data = None\n",
    "clean_customer_data = None\n",
    "imputed_customer_data = None\n",
    "standarized_customer_data = None\n",
    "reduced_customer_data = None"
   ]
  },
  {
   "cell_type": "markdown",
   "metadata": {},
   "source": [
    "### Discussion 3.3: Compare Customer Data to Demographics Data\n",
    "\n",
    "same rules that were used while analyzing principal components apply here:\n",
    "- A feature having positive weight as opposed to a feature having negative weight doesn't mean that the positively weighed feature is better, it simply means that if the positively weighed feature gets a high value for a certain customer it is unlikely for the negatively weighed feature to have high value as well, and vice versa. so the data can be interpreted in more than one way due to this fact.\n",
    "\n",
    "- After exploring the attributes file, it became apparent that many of the attributes are explained the opposit way around. for example: having a high value in the Movement patterns feature (MOBI_REGIO) would mean very low mobility. I will indicate such features with a -ve sign infront of their description written below. other features have a +ve sign infront of them.\n",
    "\n",
    "\n",
    "#### Cluster 1 Analysis\n",
    "\n",
    "the most positively weighed features in cluster 1 indicate the following:\n",
    "1. FINANZ_MINIMALIST: financial typology: low financial interest\t\t-\n",
    "2. CJT_TYP_5: no description\n",
    "3. FINANZ_VORSORGER: financial typology: be prepared\t-\n",
    "4. CJT_TYP_3: no description\n",
    "\n",
    "the most negatively weighed features in cluster 1 indicate the following:\n",
    "1. PLZ8_ANTG3: number of 6-10 family houses in the PLZ8\t\t+\n",
    "2. FINANZ_SPARER: financial typology: money saver\t\t-\n",
    "3. KBA13_ANTG3: no description\n",
    "4. CJT_TYP_2: no description\n",
    "\n",
    "##### Conclusions:\n",
    "\n",
    "The following describes a segment of the population that are likely to become customers:\n",
    "\n",
    "individuals who have low financial interest, less likely to adapt the ideology of being prepared, own a smaller number of 6-10 family houses in the PLZ8 region, and tend to save money.\n",
    "\n",
    "#### Cluster 3 Analysis\n",
    "\n",
    "the most positively weighed features in cluster 3 indicate the following:\n",
    "\n",
    "1. GREEN_AVANTGARDE: the environmental sustainability is the dominating movement in the youth of these indviduals\t\t+\n",
    "2. movement: people who adapt the Avantgarde or Mainstream ideology\t(Mainstream 0 Avantgarde 1)\n",
    "3. KBA13_HERST_BMW_BENZ: share of BMW & Mercedes Benz within the PLZ8\t+\n",
    "4. KBA05_KW3: share of cars with an engine power of more than 119 KW\t+\n",
    "\n",
    "the most negatively weighed features in cluster 3 indicate the following:\n",
    "\n",
    "1. KKK: purchasing power\t-\n",
    "2. HH_EINKOMMEN_SCORE: estimated household net income \t-\n",
    "3. KBA13_KMH_140_210: share of cars with max speed between 140 and 210 km/h within the PLZ8  \t+\n",
    "4. KBA13_KMH_180: share of cars with max speed between 110 km/h and 180km/h within the PLZ8\t    +\n",
    "\n",
    "##### Conclusions:\n",
    "\n",
    "The following describes a segment of the population that are likely to become customers:\n",
    "\n",
    "individuals who own a large share of BMW and Mercedes Benz within the PLZ8 region, who's dominating movement in youth is enviromental sustainability, who are Avantgarde, own cars with engine power more than 119 KW, have high estimated household net income and purchasing power and lower share of cars with max speed between 110 - 210 km/h within PLZ8 region.\n",
    "\n",
    "\n",
    "#### Cluster 6 Analysis\n",
    "\n",
    "the most positively weighed features in cluster 6 indicate the following:\n",
    "1. PLZ8_BAUMAX: most common building-type within the PLZ8\t\t+\n",
    "2. KBA13_BAUMAX: no description\n",
    "3. KBA13_ANTG4: no description\n",
    "4. PLZ8_ANTG4: number of >10 family houses in the PLZ8\t\t+\n",
    "\n",
    "the most negatively weighed features in cluster 6 indicate the following:\n",
    "1. MOBI_REGIO: moving patterns\t-\n",
    "2. KBA13_AUTOQUOTE: share of cars per household within the PLZ8\t\t+\n",
    "3. KBA13_ANTG1: no description\n",
    "4. PLZ8_ANTG1: number of 1-2 family houses in the PLZ8\t\t+\n",
    "\n",
    "##### Conclusions:\n",
    "\n",
    "The following describes a segment of the population that are unlikely to become customers:\n",
    "\n",
    "individuals with most common building type in PLZ8 region being a larger home, own a larger number of >10 family houses in the PLZ8 region, who have high mobility, a lower share of cars per household and a lower number of 1-1 family hosues in the PLZ8 region.\n",
    "\n",
    "#### Cluster 7 Analysis\n",
    "\n",
    "the most positively weighed features in cluster 7 indicate the following:\n",
    "1. FINANZ_SPARER: financial typology: money saver\t\t-\n",
    "2. FINANZ_UNAUFFAELLIGER: financial typology: unremarkable\t\t-\n",
    "3. CJT_TYP_1: no description\n",
    "4. CJT_TYP_2: no description\n",
    "\n",
    "the most negatively weighed features in cluster 7 indicate the following:\n",
    "1. ALTERSKATEGORIE_GROB: age classification through prename analysis \t+\n",
    "2. FINANZ_MINIMALIST: financial typology: low financial interest\t\t-\n",
    "3. FINANZ_VORSORGER: financial typology: be prepared\t-\n",
    "4. CJT_TYP_5: no description\n",
    "\n",
    "##### Conclusions:\n",
    "\n",
    "The following describes a segment of the population that are unlikely to become customers:\n",
    "\n",
    "individuals who are less interested in saving money, who's financial typology is remarkable, who's age classification is on the younger side, have high financial interest and adapt a more prepared lifestyle.\n",
    "\n",
    "\n",
    "\n",
    "some of the interpretations from the cluster analysis is vague and i'm not sure how the mail order company will be able to use these observations to improve their data collection and customer acquisition process, however, it is understandable that not all the observations have to be meaningful."
   ]
  },
  {
   "cell_type": "markdown",
   "metadata": {},
   "source": [
    "## 4: Supervised Learning\n",
    "\n",
    "Now that you've found which parts of the population are more likely to be customers of the mail-order company, it's time to build a prediction model. Each of the rows in the \"MAILOUT\" data files represents an individual that was targeted for a mailout campaign. Ideally, we should be able to use the demographic information from each individual to decide whether or not it will be worth it to include that person in the campaign.\n",
    "\n",
    "The \"MAILOUT\" data has been split into two approximately equal parts, each with almost 43 000 data rows. In this part, you can verify your model with the \"TRAIN\" partition, which includes a column, \"RESPONSE\", that states whether or not a person became a customer of the company following the campaign. In the next part, you'll need to create predictions on the \"TEST\" partition, where the \"RESPONSE\" column has been withheld.\n",
    "\n",
    "### 4.1 supervised learning models\n",
    "\n",
    "The following models will be used in the supervised learning part of the project:\n",
    "\n",
    "1. Pytorch deep learning model\n",
    "\n",
    "we will use Pytorch to build a deep neural network and use it as a benchmark model, The reason for that is due to the cheer size of the data set, large datasets tend to boost the performance of deep learning models. should a GPU be present, which it is on the computer I’m using to execute this project, the training process will be much faster.\n",
    "\n",
    "2. Random Forest Classifier\n",
    "\n",
    "Random forest classifiers consists of a large number of decision trees that work as an ensemble. the decision of several decision trees is accounted for in the final decision making of the model. Random Forest can handle large datasets, and performs well in binary classification, which is the type of classification we want to do in our project. Random Forest is also resistant to overfitting and has good performance on imbalanced datasets.\n",
    "\n",
    "\n",
    "3. Adaboost\n",
    "\n",
    "Adaboost iteratively corrects the mistakes of a weak classifier and improves accuracy by combining weak learners, meaning we can select a classifier suitable for our data and boost its results. We can use a decision tree as our classifier without worrying too much about overfitting, its also applicable for continuous and categorical inputs, our data is a combination of both.\n",
    "\n",
    "### 4.2: data preparation\n",
    "\n",
    "In the following section, we are going to follow the following steps to prepare the data for the training of the models:\n",
    "\n",
    "1. load the data from mailout_train.csv\n",
    "2. clean the data using the previously created clean_data function\n",
    "3. impute the missing and scale it\n",
    "3. split the data into a training set and a validation set"
   ]
  },
  {
   "cell_type": "code",
   "execution_count": 70,
   "metadata": {
    "scrolled": true
   },
   "outputs": [
    {
     "name": "stderr",
     "output_type": "stream",
     "text": [
      "C:\\Users\\Mahmo\\Anaconda3\\lib\\site-packages\\IPython\\core\\interactiveshell.py:3063: DtypeWarning: Columns (19,20) have mixed types.Specify dtype option on import or set low_memory=False.\n",
      "  interactivity=interactivity, compiler=compiler, result=result)\n"
     ]
    },
    {
     "data": {
      "text/plain": [
       "(42962, 367)"
      ]
     },
     "execution_count": 70,
     "metadata": {},
     "output_type": "execute_result"
    }
   ],
   "source": [
    "mailout_train = pd.read_csv('mailout_train.csv')\n",
    "mailout_train.drop('Unnamed: 0', axis = 1, inplace = True)\n",
    "mailout_train.shape"
   ]
  },
  {
   "cell_type": "code",
   "execution_count": 71,
   "metadata": {},
   "outputs": [
    {
     "name": "stdout",
     "output_type": "stream",
     "text": [
      "converting missing data to np.nan...\n",
      "\n",
      "handing unique attributes: OST_WEST_KZ and CAMEO_DEUG_2015...\n",
      "\n",
      "handling categorical variables...\n",
      "\n",
      "engineering the variable PRAEGENDE_JUGENDJAHRE into two new variables...\n",
      "\n",
      "dropping columns with high number of missing values...\n",
      "\n",
      "dropping rows with high number of missing data...\n",
      "\n",
      "(33545, 379)\n"
     ]
    }
   ],
   "source": [
    "clean_mailout_train = clean_data(mailout_train, feat_info, dropped_columns_names, high_missing_columns)\n",
    "clean_mailout_train = shuffle(clean_mailout_train)"
   ]
  },
  {
   "cell_type": "code",
   "execution_count": 72,
   "metadata": {},
   "outputs": [],
   "source": [
    "labels = clean_mailout_train['RESPONSE']\n",
    "features = clean_mailout_train.drop('RESPONSE', axis = 1)"
   ]
  },
  {
   "cell_type": "code",
   "execution_count": 73,
   "metadata": {},
   "outputs": [],
   "source": [
    "imputer = SimpleImputer()\n",
    "scaler = StandardScaler()\n",
    "\n",
    "imputed_features = pd.DataFrame(imputer.fit_transform(features))\n",
    "scaled_features = pd.DataFrame(scaler.fit_transform(imputed_features))"
   ]
  },
  {
   "cell_type": "code",
   "execution_count": 74,
   "metadata": {},
   "outputs": [
    {
     "name": "stdout",
     "output_type": "stream",
     "text": [
      "0    33130\n",
      "1      415\n",
      "Name: RESPONSE, dtype: int64 \n",
      "\n",
      "(33545, 378)\n"
     ]
    }
   ],
   "source": [
    "print(labels.value_counts(), '\\n')\n",
    "print(scaled_features.shape)"
   ]
  },
  {
   "cell_type": "code",
   "execution_count": 75,
   "metadata": {},
   "outputs": [
    {
     "name": "stdout",
     "output_type": "stream",
     "text": [
      "0    23191\n",
      "1      290\n",
      "Name: RESPONSE, dtype: int64 \n",
      "\n",
      "0    9939\n",
      "1     125\n",
      "Name: RESPONSE, dtype: int64\n"
     ]
    }
   ],
   "source": [
    "x_train, x_val, y_train, y_val = train_test_split(scaled_features, \n",
    "                                                  labels, \n",
    "                                                  test_size = 0.3, \n",
    "                                                  random_state = 0,\n",
    "                                                  stratify = labels)\n",
    "\n",
    "print(y_train.value_counts(), '\\n')\n",
    "print(y_val.value_counts())"
   ]
  },
  {
   "cell_type": "markdown",
   "metadata": {},
   "source": [
    "### 4.3: Model Specifications and Training\n",
    "\n",
    "#### 4.3.1: Pytorch Model\n",
    "\n",
    "two files were imported as they contain the code for the pytorch modeL: pytorch_model and model.utils:\n",
    "\n",
    "1. pytorch_model.py: this file contains the model class. it defines the hidden layers, activation functions and forward method.\n",
    "\n",
    "2. model.utils: this file contains two methods, one for training the model and one for visualizing the evaluations of the model that happened during the training process\n",
    "\n",
    "The model contains two hidden layers. the first hidden layer contains 200 nodes, the second hidden layer contains 50 nodes, and the output layer contains a single node as this is a binary classification problem. \n",
    "\n",
    "each hidden layer is passed to a relu activation function and is batch normalized before entering the next layer inorder to speed up the training of the neural network. \n",
    "\n",
    "- dropout with value p = 0.5 is used to help against the model overfitting.\n",
    "\n",
    "- The criterion for the model is BCEWithLogitsLoss. BCEloss is a criterion that measures the Binary Cross Entropy between the target and the output, BCEWithLogitsLoss however combines a Sigmoid layer and the BCELoss in one single class. according to Pytorch documentation, This version is more numerically stable than using a plain Sigmoid followed by a BCELoss.\n",
    "\n",
    "- The optimizer for the model is Adam.\n",
    "- Learning rate for the model was set to 0.005\n",
    "\n",
    "in the following section, we will define a class that holds the training and validation data and passes them to a dataloader for the training process of the deep learning model. the reason for using a dataloader is that is working with large datasets requires loading them into memory all at once. This leads to memory outage and slowing down of programs. PyTorch offers a solution for parallelizing the data loading process with the support of automatic batching."
   ]
  },
  {
   "cell_type": "code",
   "execution_count": 76,
   "metadata": {},
   "outputs": [],
   "source": [
    "#This class is created to pass the data to the Dataloader object\n",
    "class Data_for_loader(Dataset):\n",
    "    \n",
    "    def __init__(self, X_data, y_data):\n",
    "        self.X_data = X_data\n",
    "        self.y_data = y_data\n",
    "        \n",
    "    def __getitem__(self, index):\n",
    "        return self.X_data[index], self.y_data[index]\n",
    "        \n",
    "    def __len__ (self):\n",
    "        return len(self.X_data)"
   ]
  },
  {
   "cell_type": "code",
   "execution_count": 77,
   "metadata": {},
   "outputs": [],
   "source": [
    "train_data = Data_for_loader(torch.FloatTensor(x_train.values), \n",
    "                             torch.FloatTensor(y_train.values))\n",
    "\n",
    "test_data = Data_for_loader(torch.FloatTensor(x_val.values),\n",
    "                            torch.FloatTensor(y_val.values))\n",
    "\n",
    "train_loader = DataLoader(dataset = train_data, shuffle= True, batch_size = 150)\n",
    "validation_loader = DataLoader(dataset=test_data, batch_size= 150)"
   ]
  },
  {
   "cell_type": "markdown",
   "metadata": {},
   "source": [
    "Now that the data is prepared for training, we are going to fit the models to our data and measure their performace using ROC AUC score."
   ]
  },
  {
   "cell_type": "code",
   "execution_count": 78,
   "metadata": {},
   "outputs": [
    {
     "name": "stdout",
     "output_type": "stream",
     "text": [
      "BinaryClassifier(\n",
      "  (h1): Linear(in_features=378, out_features=200, bias=True)\n",
      "  (h2): Linear(in_features=200, out_features=50, bias=True)\n",
      "  (output): Linear(in_features=50, out_features=1, bias=True)\n",
      "  (relu): ReLU()\n",
      "  (dropout): Dropout(p=0.5, inplace=False)\n",
      "  (batchnorm1): BatchNorm1d(200, eps=1e-05, momentum=0.1, affine=True, track_running_stats=True)\n",
      "  (batchnorm2): BatchNorm1d(50, eps=1e-05, momentum=0.1, affine=True, track_running_stats=True)\n",
      ")\n"
     ]
    }
   ],
   "source": [
    "model = BinaryClassifier()\n",
    "\n",
    "device = torch.device(\"cuda:0\" if torch.cuda.is_available() else \"cpu\")\n",
    "model.to(device)\n",
    "\n",
    "print(model)"
   ]
  },
  {
   "cell_type": "code",
   "execution_count": 79,
   "metadata": {},
   "outputs": [
    {
     "data": {
      "image/png": "[encoded data removed]",
      "text/plain": [
       "<Figure size 1440x576 with 2 Axes>"
      ]
     },
     "metadata": {
      "needs_background": "light"
     },
     "output_type": "display_data"
    }
   ],
   "source": [
    "results = train_model(model, train_loader, validation_loader)\n",
    "visualize_results(results)"
   ]
  },
  {
   "cell_type": "markdown",
   "metadata": {},
   "source": [
    "#### 4.3.2: Random Forest model specifications\n",
    "\n",
    "The following hyperparameters will be tuned to improve the performance of the random forest classifier:\n",
    "\n",
    "1. n_estimators: The number of trees in the forest.\n",
    "2. max_depth: The maximum depth of the tree.\n",
    "3. min_samples_split: The minimum number of samples required to split an internal node.\n",
    "4. min_samples_leaf: The minimum number of samples required to be at a leaf node.\n",
    "5. max_features: The number of features to consider when looking for the best split.\n",
    "6. class_weight: Weights associated with classes in the form {class_label: weight}\n",
    "\n",
    "#### 4.3.3: Adaboost model specifications\n",
    "\n",
    "The base estimator for the Adaboost algorithm will be Decision Tree.\n",
    "\n",
    "The following hyperparameters will be tuned to improve the performance of the Adaboost classifier:\n",
    "\n",
    "1. n_estimators: The maximum number of estimators at which boosting is terminated.\n",
    "2. learning_rate: Learning rate shrinks the contribution of each estimator by learning_rate. There is a trade-off between learning_rate and n_estimators.\n",
    "\n",
    "\n",
    "#### Hyperparameter Tuning\n",
    "\n",
    "inorder to find the best hyperparameters for each model, we will use RandomizedSearchCV, which is a tool provided by sklearn to fit the model with a different range of hyperparameters and comparing them along the way to reach the best classifier for these hyperparameter ranges. unlike Gridsearch, which tests every single hyperparameter combination, RandomizedSearch fits the model with a random combinations of the hyperparameters inorder to find an optimized classifier much faster."
   ]
  },
  {
   "cell_type": "code",
   "execution_count": 80,
   "metadata": {},
   "outputs": [],
   "source": [
    "#hyperparameter tuning method that takes in a classifier and a dicitonary of the hyperparameters \n",
    "#to return the best classifier\n",
    "\n",
    "def find_best_parameters(clf, hyperparameters, x_train, y_train):\n",
    "    scorer = make_scorer(roc_auc_score)\n",
    "    randomized_searcher = RandomizedSearchCV(estimator = clf, param_distributions = hyperparameters, n_iter = 50, \n",
    "                                             cv = 3, random_state= 0, n_jobs = -2, scoring = scorer)\n",
    "    \n",
    "    randomized_searcher.fit(x_train, y_train)\n",
    "    print('best hyperparameter values: \\n', randomized_searcher.best_params_)\n",
    "    \n",
    "    return randomized_searcher.best_estimator_"
   ]
  },
  {
   "cell_type": "code",
   "execution_count": 81,
   "metadata": {},
   "outputs": [],
   "source": [
    "#hyperparameters for random forest\n",
    "\n",
    "rf_n_estimators = [10, 50, 100]\n",
    "max_depth = [3, 5, 10]\n",
    "min_samples_split = [3, 5, 7]\n",
    "min_samples_leaf = [3, 4, 5]\n",
    "max_features = ['auto', 'sqrt']\n",
    "class_weight = ['balanced', 'balanced_subsample']\n",
    "\n",
    "rf_hyperparameters = {'n_estimators': rf_n_estimators,\n",
    "                      'max_features': max_features,\n",
    "                      'max_depth': max_depth,\n",
    "                      'min_samples_split': min_samples_split,\n",
    "                      'min_samples_leaf': min_samples_leaf,\n",
    "                      'class_weight': class_weight}"
   ]
  },
  {
   "cell_type": "code",
   "execution_count": 82,
   "metadata": {},
   "outputs": [
    {
     "name": "stdout",
     "output_type": "stream",
     "text": [
      "best hyperparameter values: \n",
      " {'n_estimators': 100, 'min_samples_split': 7, 'min_samples_leaf': 5, 'max_features': 'sqrt', 'max_depth': 3, 'class_weight': 'balanced_subsample'}\n",
      "\n",
      "roc score:  0.6212021330113695\n"
     ]
    }
   ],
   "source": [
    "rf_clf = RandomForestClassifier(random_state = 0)\n",
    "rf_clf = find_best_parameters(rf_clf, rf_hyperparameters, x_train, y_train)\n",
    "\n",
    "y_pred = rf_clf.predict(x_val)\n",
    "\n",
    "print('\\nroc score: ', roc_auc_score(y_val, y_pred))"
   ]
  },
  {
   "cell_type": "code",
   "execution_count": 83,
   "metadata": {},
   "outputs": [],
   "source": [
    "#hyperparameters for Adaboost\n",
    "\n",
    "ada_n_estimators = [30, 50, 100]\n",
    "learning_rate = [0.7, 1, 1.3]\n",
    "\n",
    "adaboost_hyperparameters = {'n_estimators': ada_n_estimators,\n",
    "                            'learning_rate': learning_rate}"
   ]
  },
  {
   "cell_type": "code",
   "execution_count": 84,
   "metadata": {},
   "outputs": [
    {
     "name": "stderr",
     "output_type": "stream",
     "text": [
      "C:\\Users\\Mahmo\\Anaconda3\\lib\\site-packages\\sklearn\\model_selection\\_search.py:281: UserWarning: The total space of parameters 9 is smaller than n_iter=50. Running 9 iterations. For exhaustive searches, use GridSearchCV.\n",
      "  % (grid_size, self.n_iter, grid_size), UserWarning)\n"
     ]
    },
    {
     "name": "stdout",
     "output_type": "stream",
     "text": [
      "best hyperparameter values: \n",
      " {'n_estimators': 100, 'learning_rate': 1.3}\n",
      "\n",
      "roc score:  0.49929570379313815\n"
     ]
    }
   ],
   "source": [
    "ada_clf = AdaBoostClassifier(random_state = 0)\n",
    "ada_clf = find_best_parameters(ada_clf, adaboost_hyperparameters, x_train, y_train)\n",
    "\n",
    "y_pred = ada_clf.predict(x_val)\n",
    "\n",
    "print('\\nroc score: ', roc_auc_score(y_val, y_pred))"
   ]
  },
  {
   "cell_type": "code",
   "execution_count": 85,
   "metadata": {},
   "outputs": [
    {
     "name": "stdout",
     "output_type": "stream",
     "text": [
      "roc score:  0.5029955140148006\n"
     ]
    }
   ],
   "source": [
    "#to check if the adaboost model trained at all ill predict the values in the x_train and compare the predictions to y_train\n",
    "y_pred = ada_clf.predict(x_train)\n",
    "\n",
    "print('roc score: ', roc_auc_score(y_train, y_pred))"
   ]
  },
  {
   "cell_type": "markdown",
   "metadata": {},
   "source": [
    "### 4.4: Model Refinement\n",
    "\n",
    "#### 4.4.1: Analysing Results after first iteration\n",
    "\n",
    "looking at the model evaluation graph for the pytorch model, and ROC AUC scores of the adaboost model, it looks like pytorch model is overfitting while the adaboost model didn't train properly.\n",
    "\n",
    "One reason for this could be due to the severe class imbalance, the number of negative samples is 80 times the number of positive samples. Random Forest Classifier wasn't affected by this due to the parameter 'class weights' built in the model, which allows the model to automatically adjust weights inversely proportional to class frequencies.\n",
    "\n",
    "one method that we can utilize to handle class imbalance is Random Oversampling, which generates new samples by randomly sampling and replacing the current available samples.\n",
    "\n",
    "for the pytorch model, I will utilize the builtin argument in the loss function called 'pos_weight' which allows us to assign a weight to positive samples in a binary classification problem, this value will be compared to value 1 for negative samples. this change will be applied by changing the argument 'balance_weights' in the train_model function in model.utils file to True.\n",
    "\n",
    "since the number of negative samples are 80 times more than the number of positive samples, weight of value 80 will be given to the pos_weight argument."
   ]
  },
  {
   "cell_type": "code",
   "execution_count": 86,
   "metadata": {},
   "outputs": [],
   "source": [
    "ros = RandomOverSampler(random_state=0)\n",
    "x_train_resampled, y_train_resampled = ros.fit_resample(x_train, y_train)"
   ]
  },
  {
   "cell_type": "code",
   "execution_count": 87,
   "metadata": {},
   "outputs": [
    {
     "data": {
      "text/plain": [
       "BinaryClassifier(\n",
       "  (h1): Linear(in_features=378, out_features=200, bias=True)\n",
       "  (h2): Linear(in_features=200, out_features=50, bias=True)\n",
       "  (output): Linear(in_features=50, out_features=1, bias=True)\n",
       "  (relu): ReLU()\n",
       "  (dropout): Dropout(p=0.5, inplace=False)\n",
       "  (batchnorm1): BatchNorm1d(200, eps=1e-05, momentum=0.1, affine=True, track_running_stats=True)\n",
       "  (batchnorm2): BatchNorm1d(50, eps=1e-05, momentum=0.1, affine=True, track_running_stats=True)\n",
       ")"
      ]
     },
     "execution_count": 87,
     "metadata": {},
     "output_type": "execute_result"
    }
   ],
   "source": [
    "model = BinaryClassifier()\n",
    "\n",
    "device = torch.device(\"cuda:0\" if torch.cuda.is_available() else \"cpu\")\n",
    "model.to(device)"
   ]
  },
  {
   "cell_type": "code",
   "execution_count": 88,
   "metadata": {},
   "outputs": [
    {
     "data": {
      "image/png": "[encoded data removed]",
      "text/plain": [
       "<Figure size 1440x576 with 2 Axes>"
      ]
     },
     "metadata": {
      "needs_background": "light"
     },
     "output_type": "display_data"
    }
   ],
   "source": [
    "results = train_model(model, train_loader, validation_loader, balance_weights = True)\n",
    "visualize_results(results)"
   ]
  },
  {
   "cell_type": "code",
   "execution_count": 89,
   "metadata": {},
   "outputs": [
    {
     "name": "stderr",
     "output_type": "stream",
     "text": [
      "C:\\Users\\Mahmo\\Anaconda3\\lib\\site-packages\\sklearn\\model_selection\\_search.py:281: UserWarning: The total space of parameters 9 is smaller than n_iter=50. Running 9 iterations. For exhaustive searches, use GridSearchCV.\n",
      "  % (grid_size, self.n_iter, grid_size), UserWarning)\n"
     ]
    },
    {
     "name": "stdout",
     "output_type": "stream",
     "text": [
      "best hyperparameter values: \n",
      " {'n_estimators': 100, 'learning_rate': 1.3}\n",
      "\n",
      "roc score:  0.5838390180098602\n"
     ]
    }
   ],
   "source": [
    "ada_clf = AdaBoostClassifier(random_state = 0)\n",
    "ada_clf = find_best_parameters(ada_clf, adaboost_hyperparameters, x_train_resampled, y_train_resampled)\n",
    "\n",
    "y_pred = ada_clf.predict(x_val)\n",
    "\n",
    "print('\\nroc score: ', roc_auc_score(y_val, y_pred))"
   ]
  },
  {
   "cell_type": "code",
   "execution_count": 90,
   "metadata": {},
   "outputs": [
    {
     "name": "stdout",
     "output_type": "stream",
     "text": [
      "best hyperparameter values: \n",
      " {'n_estimators': 100, 'min_samples_split': 5, 'min_samples_leaf': 4, 'max_features': 'auto', 'max_depth': 10, 'class_weight': 'balanced'}\n",
      "\n",
      "roc score:  0.5200281718482744\n"
     ]
    }
   ],
   "source": [
    "rf_clf = RandomForestClassifier(random_state = 0)\n",
    "rf_clf = find_best_parameters(rf_clf, rf_hyperparameters, x_train_resampled, y_train_resampled)\n",
    "\n",
    "y_pred = rf_clf.predict(x_val)\n",
    "\n",
    "print('\\nroc score: ', roc_auc_score(y_val, y_pred))"
   ]
  },
  {
   "cell_type": "markdown",
   "metadata": {},
   "source": [
    "#### 4.4.2: Analysing Results after second iteration\n",
    "\n",
    "After dealing with the issue of class imbalance, The performances the adaboost model improved from random chance to achieving 0.59, and the pytorch model seems to still overfit but a bit slower than before. the Random Forest Classifier was negatively impacted by this change due to the fact that it already accounted for class imbalance using the 'class_weight' argument.\n",
    "\n",
    "one other reason that could be negatively impacting the performance of our models is the dataset itself, since we imputed the missing data with the means, there is a possibility that this is negatively impacting our model. in the following part, we will remove all rows containing missing data for all negative samples."
   ]
  },
  {
   "cell_type": "code",
   "execution_count": 91,
   "metadata": {},
   "outputs": [
    {
     "name": "stdout",
     "output_type": "stream",
     "text": [
      "(27092, 379)\n"
     ]
    }
   ],
   "source": [
    "#in this cell we will remove any rows containing missing data\n",
    "clean_mailout_train.reset_index(inplace = True, drop = True)\n",
    "row_missings = clean_mailout_train.isna().sum(axis = 1)\n",
    "\n",
    "missing_rows = []\n",
    "\n",
    "for ind,missings in enumerate(row_missings):\n",
    "    if missings>0:\n",
    "        missing_rows.append(ind)\n",
    "\n",
    "\n",
    "clean_mailout_train2 = clean_mailout_train.drop(missing_rows, axis = 0)\n",
    "print(clean_mailout_train2.shape)"
   ]
  },
  {
   "cell_type": "code",
   "execution_count": 92,
   "metadata": {},
   "outputs": [],
   "source": [
    "labels2 = clean_mailout_train2['RESPONSE']\n",
    "features2 = clean_mailout_train2.drop('RESPONSE', axis = 1)"
   ]
  },
  {
   "cell_type": "code",
   "execution_count": 93,
   "metadata": {},
   "outputs": [],
   "source": [
    "imputed_features2 = pd.DataFrame(imputer.fit_transform(features2))\n",
    "scaled_features2 = pd.DataFrame(scaler.fit_transform(imputed_features2))"
   ]
  },
  {
   "cell_type": "code",
   "execution_count": 94,
   "metadata": {},
   "outputs": [],
   "source": [
    "x_train2, x_val2, y_train2, y_val2 = train_test_split(scaled_features2, \n",
    "                                                      labels2, \n",
    "                                                      test_size = 0.3, \n",
    "                                                      random_state = 0,\n",
    "                                                      stratify = labels2)"
   ]
  },
  {
   "cell_type": "code",
   "execution_count": 95,
   "metadata": {},
   "outputs": [],
   "source": [
    "#this cell utilizes random over sampling for adaboost model since it showed improvement previously using this method\n",
    "ros = RandomOverSampler(random_state=0)\n",
    "x_train_resampled2, y_train_resampled2 = ros.fit_resample(x_train2, y_train2)"
   ]
  },
  {
   "cell_type": "code",
   "execution_count": 96,
   "metadata": {},
   "outputs": [],
   "source": [
    "train_data = Data_for_loader(torch.FloatTensor(x_train2.values), \n",
    "                             torch.FloatTensor(y_train2.values))\n",
    "\n",
    "test_data = Data_for_loader(torch.FloatTensor(x_val2.values),\n",
    "                            torch.FloatTensor(y_val2.values))\n",
    "\n",
    "train_loader = DataLoader(dataset = train_data, shuffle= True, batch_size = 150)\n",
    "validation_loader = DataLoader(dataset = test_data, batch_size= 150)"
   ]
  },
  {
   "cell_type": "code",
   "execution_count": 97,
   "metadata": {},
   "outputs": [
    {
     "data": {
      "text/plain": [
       "BinaryClassifier(\n",
       "  (h1): Linear(in_features=378, out_features=200, bias=True)\n",
       "  (h2): Linear(in_features=200, out_features=50, bias=True)\n",
       "  (output): Linear(in_features=50, out_features=1, bias=True)\n",
       "  (relu): ReLU()\n",
       "  (dropout): Dropout(p=0.5, inplace=False)\n",
       "  (batchnorm1): BatchNorm1d(200, eps=1e-05, momentum=0.1, affine=True, track_running_stats=True)\n",
       "  (batchnorm2): BatchNorm1d(50, eps=1e-05, momentum=0.1, affine=True, track_running_stats=True)\n",
       ")"
      ]
     },
     "execution_count": 97,
     "metadata": {},
     "output_type": "execute_result"
    }
   ],
   "source": [
    "model = BinaryClassifier()\n",
    "\n",
    "device = torch.device(\"cuda:0\" if torch.cuda.is_available() else \"cpu\")\n",
    "model.to(device)"
   ]
  },
  {
   "cell_type": "code",
   "execution_count": 98,
   "metadata": {},
   "outputs": [
    {
     "data": {
      "image/png": "[encoded data removed]",
      "text/plain": [
       "<Figure size 1440x576 with 2 Axes>"
      ]
     },
     "metadata": {
      "needs_background": "light"
     },
     "output_type": "display_data"
    }
   ],
   "source": [
    "results = train_model(model, train_loader, validation_loader, balance_weights = True)\n",
    "visualize_results(results)"
   ]
  },
  {
   "cell_type": "code",
   "execution_count": 99,
   "metadata": {},
   "outputs": [
    {
     "name": "stdout",
     "output_type": "stream",
     "text": [
      "best hyperparameter values: \n",
      " {'n_estimators': 50, 'min_samples_split': 7, 'min_samples_leaf': 3, 'max_features': 'auto', 'max_depth': 3, 'class_weight': 'balanced'}\n",
      "\n",
      "roc score:  0.7006181708421371\n"
     ]
    }
   ],
   "source": [
    "rf_clf = RandomForestClassifier(random_state = 0)\n",
    "rf_clf = find_best_parameters(rf_clf, rf_hyperparameters, x_train2, y_train2)\n",
    "\n",
    "y_pred = rf_clf.predict(x_val)\n",
    "\n",
    "print('\\nroc score: ', roc_auc_score(y_val, y_pred))"
   ]
  },
  {
   "cell_type": "code",
   "execution_count": 101,
   "metadata": {},
   "outputs": [
    {
     "name": "stderr",
     "output_type": "stream",
     "text": [
      "C:\\Users\\Mahmo\\Anaconda3\\lib\\site-packages\\sklearn\\model_selection\\_search.py:281: UserWarning: The total space of parameters 9 is smaller than n_iter=50. Running 9 iterations. For exhaustive searches, use GridSearchCV.\n",
      "  % (grid_size, self.n_iter, grid_size), UserWarning)\n"
     ]
    },
    {
     "name": "stdout",
     "output_type": "stream",
     "text": [
      "best hyperparameter values: \n",
      " {'n_estimators': 100, 'learning_rate': 1}\n",
      "\n",
      "roc score:  0.549711442595291\n"
     ]
    }
   ],
   "source": [
    "ada_clf = AdaBoostClassifier(random_state = 0)\n",
    "ada_clf = find_best_parameters(ada_clf, adaboost_hyperparameters, x_train_resampled2, y_train_resampled2)\n",
    "\n",
    "y_pred = ada_clf.predict(x_val2)\n",
    "\n",
    "print('\\nroc score: ', roc_auc_score(y_val2, y_pred))"
   ]
  },
  {
   "cell_type": "markdown",
   "metadata": {},
   "source": [
    "### 4.5: Final Model\n",
    "\n",
    "After removing rows with missing data instead of imputing them with the mean, Random Forest is showing a lot of improvement as it reached a score of 0.7. adaboost performance degraded and pytorch doesn't performance doesn't seem to be affected by this change.\n",
    "\n",
    "Random Forest Classifier will be used as our final model for our predictions on the test file in the following section."
   ]
  },
  {
   "cell_type": "markdown",
   "metadata": {},
   "source": [
    "## 5: Reflection\n",
    "\n",
    "In order to achieve our final Random Forest Classifier, the data has to be prepared as follows:\n",
    "\n",
    "1. missing information must be removed from the data \n",
    "2. several categorical variables need to be one hot encoded and several categorical variables must be dropped as they could potentially double or even tripple the size of the data if they were one hot encoded.\n",
    "3. certain Mixed-type variables need to be re-engineered\n",
    "4. data needs to be scaled using a standard scaler\n",
    "\n",
    "once the data is prepared the Random Forest classifier must be fit to the training data, class imbalance must be accounted for using the 'class_weight' argument in the Classifier. \n",
    "\n",
    "to be able to determine the best hyperparameters for the classifier, GridSearch or RandomizedSearch need to be utilized to find the best hyperparameters within a certain hyperparameter range.\n",
    "\n",
    "after finding the best hyperparameters, the model can be used to make predictions on the mailout test file.\n",
    "\n",
    "This project was a great opportunity to expand my knowledge regarding testing different approaches to improve the performance of a machine learning model. in particular, i enjoyed reasearching about methods to deal with class imbalance."
   ]
  },
  {
   "cell_type": "markdown",
   "metadata": {},
   "source": [
    "## 6: Improvement\n",
    "\n",
    "The following points can be investigated to improve the performance of our model\n",
    "\n",
    "1. during the training process, several categorical variables have been removed instead of being one hot encoded, some of these variables could have been valuable for the training process, however, it would have increased the data size making the process more computationaly expensive.\n",
    "\n",
    "2. Further investigation into dealing with the missing data, instead of imputing them with the mean or removing them, a different imputation value other than the mean could be tested.\n",
    "\n",
    "3. we used a standardscaler to scale our data, a different scaler could be tested, such as such as minmax scaler as it preserves the shape of the original data distribution, and is less disruptive to the information in the original data.\n",
    "\n",
    "4. Further changes can be tested on the pytorch model, such as changing the hidden layers or using a different optimizer."
   ]
  }
 ],
 "metadata": {
  "kernelspec": {
   "display_name": "Python 3",
   "language": "python",
   "name": "python3"
  },
  "language_info": {
   "codemirror_mode": {
    "name": "ipython",
    "version": 3
   },
   "file_extension": ".py",
   "mimetype": "text/x-python",
   "name": "python",
   "nbconvert_exporter": "python",
   "pygments_lexer": "ipython3",
   "version": "3.7.4"
  }
 },
 "nbformat": 4,
 "nbformat_minor": 2
}
